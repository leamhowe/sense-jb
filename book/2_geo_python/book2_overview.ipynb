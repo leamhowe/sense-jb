{
 "cells": [
  {
   "cell_type": "markdown",
   "metadata": {},
   "source": [
    "# 0 - Overview\n",
    "\n",
    "## Book 2 - Geospatial Data Analysis in Python\n",
    "\n",
    "This book builds on Book 1, and introduces a selection of the many tools available within the Python ecosystem to work with geospatial dataset, which includes Earth Observation and satellite datasets. "
   ]
  },
  {
   "cell_type": "markdown",
   "metadata": {},
   "source": [
    "The resources available within this book originate from a range of sources, listed below, and explicitly at the top of each tutorial."
   ]
  },
  {
   "cell_type": "markdown",
   "metadata": {},
   "source": [
    "# Table of Contents\n",
    "\n",
    "## 1. Spatial Data Tools\n",
    "- [Introduction to Geospatial Data](./1_spatial_data_tools/00_intro_to_geospatial_data.ipynb)\n",
    "- [Working with Datetime](./1_spatial_data_tools/16-Working-with-datetime.ipynb)\n",
    "- [Xarray and NetCDF Introduction](./1_spatial_data_tools/20-Xarray-NetCDF-Intro.ipynb)\n",
    "- [Cartopy](./1_spatial_data_tools/cartopy.ipynb)\n",
    "- [GeoPandas](./1_spatial_data_tools/geopandas.ipynb)\n",
    "- [Rasterio](./1_spatial_data_tools/rasterio.ipynb)\n",
    "- [RioXarray](./1_spatial_data_tools/rioxarray.ipynb)\n",
    "- [Xarray Basics](./1_spatial_data_tools/xarray.ipynb)\n",
    "- [Xarray OceanHackweek20](./1_spatial_data_tools/xarray-oceanhackweek20.ipynb)\n",
    "\n",
    "## 2. EO Data\n",
    "- [EO Data Chapter (Under Construction)]()\n",
    "\n",
    "## 3. Google Earth Engine with Python\n",
    "- [First Steps with GEE](./3_gee_python/0%20-%20First_steps.ipynb)\n",
    "- [Opening and Displaying Data](./3_gee_python/1_Open_and_display.ipynb)\n",
    "- [Time Series Analysis](./3_gee_python/2_Time_series.ipynb)\n",
    "- [Classification Techniques](./3_gee_python/3_Classification.ipynb)\n",
    "- [Setting up Google Earth Engine API on Colab](./3_gee_python/ee_api_colab_setup.ipynb)\n",
    "\n",
    "## 4. Putting It All Together\n",
    "- [Practical Exercise - SENSE CDT](./4_putting_it_together/SENSE_CDT_OCEAN_D4_student.ipynb)\n",
    "- [Xarray OceanHackweek20 Advanced](./4_putting_it_together/xarray-oceanhackweek20.ipynb)\n",
    "\n"
   ]
  },
  {
   "cell_type": "markdown",
   "metadata": {},
   "source": []
  }
 ],
 "metadata": {
  "language_info": {
   "name": "python"
  }
 },
 "nbformat": 4,
 "nbformat_minor": 2
}
