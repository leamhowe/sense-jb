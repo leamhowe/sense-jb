{
 "cells": [
  {
   "cell_type": "markdown",
   "metadata": {},
   "source": [
    "# Install git and create a GitHub account"
   ]
  },
  {
   "cell_type": "markdown",
   "metadata": {},
   "source": [
    "The first two things you'll want to do are install git and create a free GitHub account.\n",
    "\n",
    "Follow the instructions [here](https://git-scm.com/book/en/v2/Getting-Started-Installing-Git) to install git. Note that for\n",
    "this tutorial we will be using git on the command line only. \n",
    "\n",
    "While there are some great git\n",
    "GUIs (graphical user interfaces), I think it's easier to learn git using git-specific commands\n",
    "first and then to try out a git GUI once you're more comfortable with the command.\n",
    "\n",
    "Once you've done that, create a GitHub account [here](https://github.com/). (Accounts are free for public\n",
    "repositories, but there's a charge for private repositories.)"
   ]
  },
  {
   "cell_type": "markdown",
   "metadata": {},
   "source": [
    "## Step 1: Create a local git repository"
   ]
  },
  {
   "cell_type": "markdown",
   "metadata": {},
   "source": [
    "When creating a new project on your local machine using git, you'll first create a\n",
    "new repository (or often, 'repo', for short).\n",
    "\n",
    "To use git we'll be using the terminal.\n",
    "\n",
    "To begin, open up a terminal and move to where you want to place the project on your local\n",
    "machine using the cd (change directory) command. For example, if you have a 'projects'\n",
    "folder on your desktop, you'd do something like:"
   ]
  },
  {
   "cell_type": "code",
   "execution_count": null,
   "metadata": {},
   "outputs": [],
   "source": [
    "cd ~/Desktop"
   ]
  },
  {
   "cell_type": "code",
   "execution_count": null,
   "metadata": {},
   "outputs": [],
   "source": [
    "mkdir myproject"
   ]
  },
  {
   "cell_type": "code",
   "execution_count": null,
   "metadata": {},
   "outputs": [],
   "source": [
    "cd myproject/"
   ]
  },
  {
   "cell_type": "markdown",
   "metadata": {},
   "source": [
    "To initialize a git repository in the root of the folder, run the git init command:"
   ]
  },
  {
   "cell_type": "code",
   "execution_count": null,
   "metadata": {},
   "outputs": [],
   "source": [
    "git init"
   ]
  },
  {
   "cell_type": "markdown",
   "metadata": {},
   "source": [
    "## Step 2: Add a new file to the repo"
   ]
  },
  {
   "cell_type": "markdown",
   "metadata": {},
   "source": [
    "Go ahead and add a new file to the project, using any text editor you like or running\n",
    "a touch command.\n",
    "\n",
    "Once you've added or modified files in a folder containing a git repo, git will notice that\n",
    "changes have been made inside the repo. But, git won't officially keep track of the file (that\n",
    "is, put it in a commit - we'll talk more about commits next) unless you explicitly tell it to."
   ]
  },
  {
   "cell_type": "code",
   "execution_count": null,
   "metadata": {},
   "outputs": [],
   "source": [
    "touch emedina.txt"
   ]
  },
  {
   "cell_type": "code",
   "execution_count": null,
   "metadata": {},
   "outputs": [],
   "source": [
    "ls"
   ]
  },
  {
   "cell_type": "markdown",
   "metadata": {},
   "source": [
    "After creating the new file, you can use the git status command to see which files git\n",
    "knows exist."
   ]
  },
  {
   "cell_type": "code",
   "execution_count": null,
   "metadata": {},
   "outputs": [],
   "source": [
    "git status"
   ]
  },
  {
   "cell_type": "markdown",
   "metadata": {},
   "source": [
    "What this basically says is, \"Hey, we noticed you created a new file called mnelson.txt, but\n",
    "unless you use the 'git add' command we aren't going to do anything with it.\""
   ]
  },
  {
   "cell_type": "markdown",
   "metadata": {},
   "source": [
    "## The staging environment and the commit"
   ]
  },
  {
   "cell_type": "markdown",
   "metadata": {},
   "source": [
    "One of the most confusing parts when you're first learning git is the concept of the staging\n",
    "environment and how it relates to a commit.\n",
    "\n",
    "A commit is a record of what files you have changed since the last time you made a\n",
    "commit. Essentially, you make changes to your repo (for example, adding a file or modifying\n",
    "one) and then tell git to put those files into a commit.\n",
    "\n",
    "Commits make up the essence of your project and allow you to go back to the state of a\n",
    "project at any point.\n",
    "\n",
    "So, how do you tell git which files to put into a commit? This is where the staging\n",
    "environment or index come in. As seen in Step 2, when you make changes to your repo,\n",
    "git notices that a file has changed but won't do anything with it (like adding it in a commit).\n",
    "\n",
    "To add a file to a commit, you first need to add it to the staging environment. To do this, you\n",
    "can use the git add <filename> command (see Step 3 below).\n",
    "    \n",
    "Once you've used the git add command to add all the files you want to the staging\n",
    "environment, you can then tell git to package them into a commit using the git commit\n",
    "command.\n",
    "    \n",
    "Note: The staging environment, also called 'staging', is the new preferred term for this, but\n",
    "you can also see it referred to as the 'index'."
   ]
  },
  {
   "cell_type": "markdown",
   "metadata": {},
   "source": [
    "## Step 3: Add a file to the staging environment "
   ]
  },
  {
   "cell_type": "markdown",
   "metadata": {},
   "source": [
    "Add a file to the staging environment using the **git add** command.\n",
    "\n",
    "If you rerun the git status command, you'll see that git has added the file to the staging\n",
    "environment (notice the \"Changes to be committed\" line)."
   ]
  },
  {
   "cell_type": "code",
   "execution_count": null,
   "metadata": {},
   "outputs": [],
   "source": [
    "git status"
   ]
  },
  {
   "cell_type": "markdown",
   "metadata": {},
   "source": [
    "To reiterate, the file **has not yet been added to a commit**, but it's about to be."
   ]
  },
  {
   "cell_type": "markdown",
   "metadata": {},
   "source": [
    "## Step 4: Create a commit"
   ]
  },
  {
   "cell_type": "markdown",
   "metadata": {},
   "source": [
    "It's time to create your first commit!\n",
    "\n",
    "Run the command git commit -m \"Your message about the commit\""
   ]
  },
  {
   "cell_type": "code",
   "execution_count": null,
   "metadata": {},
   "outputs": [],
   "source": [
    "git commit -m \"This is my first commit!\""
   ]
  },
  {
   "cell_type": "markdown",
   "metadata": {},
   "source": [
    "The message at the end of the commit should be something related to what the commit\n",
    "contains - maybe it's a new feature, maybe it's a bug fix, maybe it's just fixing a typo."
   ]
  },
  {
   "cell_type": "markdown",
   "metadata": {},
   "source": [
    "## Step 5: Create a new branch"
   ]
  },
  {
   "cell_type": "markdown",
   "metadata": {},
   "source": [
    "Now that you've made a new commit, let's try something a little more advanced.\n",
    "\n",
    "Say you want to make a new feature but are worried about making changes to the main\n",
    "project while developing the feature. This is where git branches come in.\n",
    "\n",
    "Branches allow you to move back and forth between 'states' of a project. For instance, if\n",
    "you want to add a new page to your website you can create a new branch just for that\n",
    "page without affecting the main part of the project. Once you're done with the page, you\n",
    "can merge your changes from your branch into the master branch. When you create a new\n",
    "branch, Git keeps track of which commit your branch 'branched' off of, so it knows the\n",
    "history behind all the files."
   ]
  },
  {
   "cell_type": "markdown",
   "metadata": {},
   "source": [
    "Let's say you are on the master branch and want to create a new branch to develop your\n",
    "web page. Here's what you'll do: Run **git checkout -b my_branch_name**. This\n",
    "command will automatically create a new branch and then 'check you out' on it, meaning git\n",
    "will move you to that branch, off of the master branch.\n",
    "    \n",
    "After running the above command, you can use the **git branch** command to confirm that\n",
    "your branch was created:"
   ]
  },
  {
   "cell_type": "code",
   "execution_count": null,
   "metadata": {},
   "outputs": [],
   "source": [
    "git branch"
   ]
  },
  {
   "cell_type": "markdown",
   "metadata": {},
   "source": [
    "The branch name with the asterisk next to it indicates which branch you're pointed to at that\n",
    "given time.\n",
    "\n",
    "Now, if you switch back to the master branch and make some more commits, your new\n",
    "branch won't see any of those changes until you merge those changes onto your new\n",
    "branch."
   ]
  },
  {
   "cell_type": "markdown",
   "metadata": {},
   "source": [
    "## Step 6: Create a new repository on GitHub"
   ]
  },
  {
   "cell_type": "markdown",
   "metadata": {},
   "source": [
    "If you only want to keep track of your code locally, you don't need to use GitHub. But if you\n",
    "want to work with a team, you can use GitHub to collaboratively modify the project's code.\n",
    "\n",
    "To create a new repo on GitHub, log in and go to the GitHub home page. You should see a\n",
    "green '+ New repository' button."
   ]
  },
  {
   "cell_type": "markdown",
   "metadata": {},
   "source": [
    "After clicking the button, GitHub will ask you to name your repo and provide a brief\n",
    "description."
   ]
  },
  {
   "cell_type": "markdown",
   "metadata": {},
   "source": [
    "When you're done filling out the information, press the 'Create repository' button to make\n",
    "your new repo.\n",
    "\n",
    "GitHub will ask if you want to create a new repo from scratch or if you want to add a repo\n",
    "you have created locally. In this case, since we've already created a new repo locally, we\n",
    "want to push that onto GitHub so follow the '....or push an existing repository from the\n",
    "command line' section."
   ]
  },
  {
   "cell_type": "code",
   "execution_count": null,
   "metadata": {},
   "outputs": [],
   "source": [
    "git remote add origin https://github.com/emedina/mynewrepository.git"
   ]
  },
  {
   "cell_type": "code",
   "execution_count": null,
   "metadata": {},
   "outputs": [],
   "source": [
    "git push -u origin master"
   ]
  },
  {
   "cell_type": "code",
   "execution_count": null,
   "metadata": {},
   "outputs": [],
   "source": []
  },
  {
   "cell_type": "markdown",
   "metadata": {},
   "source": [
    "## Step 7: Push a branch to GitHub"
   ]
  },
  {
   "cell_type": "markdown",
   "metadata": {},
   "source": [
    "Now we'll push the commit in your branch to your new GitHub repo. This allows other\n",
    "people to see the changes you've made. If they're approved by the repository's owner, the\n",
    "changes can then be merged into the master branch.\n",
    "\n",
    "To push changes onto a new branch on GitHub, you'll want to run **git push origin\n",
    "yourbranchname**. GitHub will automatically create the branch for you on the remote\n",
    "repository:"
   ]
  },
  {
   "cell_type": "code",
   "execution_count": null,
   "metadata": {},
   "outputs": [],
   "source": [
    "git push origin my-new-branch"
   ]
  },
  {
   "cell_type": "markdown",
   "metadata": {},
   "source": [
    "You might be wondering what that \"origin\" word means in the command above. What\n",
    "happens is that when you clone a remote repository to your local machine, git creates an\n",
    "alias for you. In nearly all cases this alias is called \"origin.\" It's essentially shorthand for\n",
    "the remote repository's URL. So, to push your changes to the remote repository, you\n",
    "could've used either the command: **git push git@github.com:git/git.git\n",
    "yourbranchname** or **git push origin yourbranchname**\n",
    "\n",
    "(If this is your first time using GitHub locally, it might prompt you to log in with your GitHub\n",
    "username and password.)"
   ]
  },
  {
   "cell_type": "markdown",
   "metadata": {},
   "source": [
    "If you refresh the GitHub page, you'll see note saying a branch with your name has just\n",
    "been pushed into the repository. You can also click the 'branches' link to see your branch\n",
    "listed there."
   ]
  },
  {
   "cell_type": "markdown",
   "metadata": {},
   "source": [
    "## Step 8: Create a Pull Request (PR)"
   ]
  },
  {
   "cell_type": "markdown",
   "metadata": {},
   "source": [
    "A pull request (or PR) is a way to alert a repo's owners that you want to make some\n",
    "changes to their code. It allows them to review the code and make sure it looks good before\n",
    "putting your changes on the master branch."
   ]
  },
  {
   "cell_type": "markdown",
   "metadata": {},
   "source": [
    "You might see a big green button at the bottom that says 'Merge pull request'. Clicking this\n",
    "means you'll merge your changes into the master branch.\n",
    "\n",
    "Note that this button won't always be green. In some cases it'll be grey, which means you're\n",
    "faced with a **merge conflict**. This is when there is a change in one file that conflicts with a\n",
    "change in another file and git can't figure out which version to use. You'll have to manually\n",
    "go in and tell git which version to use.\n",
    "\n",
    "Sometimes you'll be a co-owner or the sole owner of a repo, in which case you may not\n",
    "need to create a PR to merge your changes. However, it's still a good idea to make one so\n",
    "you can keep a more complete history of your updates and to make sure you always create\n",
    "a new branch when making changes."
   ]
  },
  {
   "cell_type": "markdown",
   "metadata": {},
   "source": [
    "## Step 9: Merge a PR"
   ]
  },
  {
   "cell_type": "markdown",
   "metadata": {},
   "source": [
    "Go ahead and click the green 'Merge pull request' button. This will merge your changes into\n",
    "the master branch."
   ]
  },
  {
   "cell_type": "markdown",
   "metadata": {},
   "source": [
    "When you're done, I recommend deleting your branch (too many branches can become\n",
    "messy), so hit that grey 'Delete branch' button as well.\n",
    "\n",
    "You can double check that your commits were merged by clicking on the 'Commits' link on\n",
    "the first page of your new repo.\n",
    "\n",
    "This will show you a list of all the commits in that branch.\n",
    "\n",
    "You can also see the **hash code** of the commit on the right hand side. A hash code is a\n",
    "unique identifier for that specific commit. It's useful for referring to specific commits and\n",
    "when undoing changes (use the **git revert hash_code_number** command to\n",
    "backtrack)."
   ]
  },
  {
   "cell_type": "markdown",
   "metadata": {},
   "source": [
    "## Step 10: Get changes on GitHub back to your computer"
   ]
  },
  {
   "cell_type": "markdown",
   "metadata": {},
   "source": [
    "Right now, the repo on GitHub looks a little different than what you have on your local\n",
    "machine. For example, the commit you made in your branch and merged into the master\n",
    "branch doesn't exist in the master branch on your local machine.\n",
    "\n",
    "In order to get the most recent changes that you or others have merged on GitHub, use the\n",
    "**git pull origin master** command (when working on the master branch).\n",
    "\n"
   ]
  },
  {
   "cell_type": "code",
   "execution_count": null,
   "metadata": {},
   "outputs": [],
   "source": [
    "git pull origin master"
   ]
  },
  {
   "cell_type": "markdown",
   "metadata": {},
   "source": [
    "\n",
    "\n",
    "This shows you all the files that have changed and how they've changed.\n",
    "\n",
    "Now we can use the **git log** command again to see all new commits.\n",
    "\n",
    "(You may need to switch branches back to the master branch. You can do that using the\n",
    "**git checkout master** command.)"
   ]
  },
  {
   "cell_type": "code",
   "execution_count": null,
   "metadata": {},
   "outputs": [],
   "source": [
    "git log"
   ]
  },
  {
   "cell_type": "markdown",
   "metadata": {},
   "source": [
    "## Done! Ready to use git and GitHub"
   ]
  },
  {
   "cell_type": "markdown",
   "metadata": {},
   "source": [
    "Do you want more: Check https://git-scm.com/doc"
   ]
  }
 ],
 "metadata": {
  "kernelspec": {
   "display_name": "Python 3 (ipykernel)",
   "language": "python",
   "name": "python3"
  },
  "language_info": {
   "codemirror_mode": {
    "name": "ipython",
    "version": 3
   },
   "file_extension": ".py",
   "mimetype": "text/x-python",
   "name": "python",
   "nbconvert_exporter": "python",
   "pygments_lexer": "ipython3",
   "version": "3.9.12"
  }
 },
 "nbformat": 4,
 "nbformat_minor": 4
}