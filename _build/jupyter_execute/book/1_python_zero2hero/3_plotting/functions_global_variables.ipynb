{
 "cells": [
  {
   "cell_type": "code",
   "execution_count": 5,
   "id": "32e84d41",
   "metadata": {},
   "outputs": [],
   "source": [
    "def calc_sum(x,y):\n",
    "    global sum_val # makes sum_val a global variable that can be accessed outside of the function and used in other functions.\n",
    "    sum_val = x+y\n",
    "    print(sum_val)\n",
    "    return sum_val"
   ]
  },
  {
   "cell_type": "code",
   "execution_count": 6,
   "id": "fc350d18",
   "metadata": {},
   "outputs": [
    {
     "name": "stdout",
     "output_type": "stream",
     "text": [
      "35\n"
     ]
    },
    {
     "data": {
      "text/plain": [
       "35"
      ]
     },
     "execution_count": 6,
     "metadata": {},
     "output_type": "execute_result"
    }
   ],
   "source": [
    "first_num = 10\n",
    "second_num = 25\n",
    "calc_sum(first_num, second_num)"
   ]
  },
  {
   "cell_type": "code",
   "execution_count": 4,
   "id": "f7bdb83c",
   "metadata": {},
   "outputs": [
    {
     "ename": "NameError",
     "evalue": "name 'sum_val' is not defined",
     "output_type": "error",
     "traceback": [
      "\u001b[1;31m---------------------------------------------------------------------------\u001b[0m",
      "\u001b[1;31mNameError\u001b[0m                                 Traceback (most recent call last)",
      "Input \u001b[1;32mIn [4]\u001b[0m, in \u001b[0;36m<cell line: 1>\u001b[1;34m()\u001b[0m\n\u001b[1;32m----> 1\u001b[0m \u001b[38;5;28mprint\u001b[39m(\u001b[43msum_val\u001b[49m)\n",
      "\u001b[1;31mNameError\u001b[0m: name 'sum_val' is not defined"
     ]
    }
   ],
   "source": [
    "print(sum_val) # before sum_val was made into a global variable."
   ]
  },
  {
   "cell_type": "code",
   "execution_count": 7,
   "id": "54da42dc",
   "metadata": {},
   "outputs": [
    {
     "name": "stdout",
     "output_type": "stream",
     "text": [
      "35\n"
     ]
    }
   ],
   "source": [
    "print(sum_val)"
   ]
  },
  {
   "cell_type": "code",
   "execution_count": null,
   "id": "766ada49",
   "metadata": {},
   "outputs": [],
   "source": []
  }
 ],
 "metadata": {
  "kernelspec": {
   "display_name": "Python 3 (ipykernel)",
   "language": "python",
   "name": "python3"
  },
  "language_info": {
   "codemirror_mode": {
    "name": "ipython",
    "version": 3
   },
   "file_extension": ".py",
   "mimetype": "text/x-python",
   "name": "python",
   "nbconvert_exporter": "python",
   "pygments_lexer": "ipython3",
   "version": "3.9.12"
  }
 },
 "nbformat": 4,
 "nbformat_minor": 5
}