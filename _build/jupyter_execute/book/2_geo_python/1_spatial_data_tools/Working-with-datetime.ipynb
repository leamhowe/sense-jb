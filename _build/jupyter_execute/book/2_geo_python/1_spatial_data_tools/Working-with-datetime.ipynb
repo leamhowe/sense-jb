{
 "cells": [
  {
   "cell_type": "markdown",
   "metadata": {},
   "source": [
    "# Working with dates and times\n",
    "\n",
    "## The datetime library"
   ]
  },
  {
   "cell_type": "markdown",
   "metadata": {},
   "source": [
    "A combined date and time can be represented by the datetime class.\n"
   ]
  },
  {
   "cell_type": "code",
   "execution_count": 1,
   "metadata": {},
   "outputs": [
    {
     "data": {
      "text/plain": [
       "datetime.datetime(2022, 11, 1, 14, 13, 17, 982593)"
      ]
     },
     "execution_count": 1,
     "metadata": {},
     "output_type": "execute_result"
    }
   ],
   "source": [
    "import datetime\n",
    "\n",
    "# This exact moment:\n",
    "now = datetime.datetime.now()\n",
    "now"
   ]
  },
  {
   "cell_type": "markdown",
   "metadata": {},
   "source": [
    "Each datetime component can be accessed by an attribute:"
   ]
  },
  {
   "cell_type": "code",
   "execution_count": 2,
   "metadata": {},
   "outputs": [
    {
     "name": "stdout",
     "output_type": "stream",
     "text": [
      "year: 2022\n",
      "month: 11\n",
      "day: 1\n",
      "hours: 14\n",
      "minute: 13\n",
      "second: 17\n",
      "microsecond: 982593\n"
     ]
    }
   ],
   "source": [
    "print('year:',  now.year)\n",
    "print('month:', now.month)\n",
    "print('day:',   now.day)\n",
    "print('hours:',  now.hour)\n",
    "print('minute:',now.minute)\n",
    "print('second:',now.second)\n",
    "print('microsecond:',now.microsecond)"
   ]
  },
  {
   "cell_type": "markdown",
   "metadata": {},
   "source": [
    "datetime is aware of local time and how it differs from Universal Coordinated Time (UTC)"
   ]
  },
  {
   "cell_type": "code",
   "execution_count": 4,
   "metadata": {},
   "outputs": [
    {
     "name": "stdout",
     "output_type": "stream",
     "text": [
      "0:00:00\n"
     ]
    }
   ],
   "source": [
    "print( datetime.datetime.now() - datetime.datetime.utcnow() )"
   ]
  },
  {
   "cell_type": "markdown",
   "metadata": {},
   "source": [
    "## Convert text to datetime\n",
    "\n",
    "Parse datetime with `strptime`\n",
    "\n",
    "    datetime.strptime(date_string, format)\n",
    "\n",
    "See the fill list of [directives](https://docs.python.org/2/library/datetime.html#strftime-strptime-behavior) for `format`. "
   ]
  },
  {
   "cell_type": "code",
   "execution_count": 5,
   "metadata": {},
   "outputs": [
    {
     "data": {
      "text/plain": [
       "datetime.datetime(2009, 12, 31, 11, 5)"
      ]
     },
     "execution_count": 5,
     "metadata": {},
     "output_type": "execute_result"
    }
   ],
   "source": [
    " datetime.datetime.strptime('2009/12/31 11:05','%Y/%m/%d %H:%M')"
   ]
  },
  {
   "cell_type": "code",
   "execution_count": 6,
   "metadata": {},
   "outputs": [
    {
     "data": {
      "text/plain": [
       "datetime.datetime(2009, 12, 31, 11, 5, 6, 999900)"
      ]
     },
     "execution_count": 6,
     "metadata": {},
     "output_type": "execute_result"
    }
   ],
   "source": [
    "datetime.datetime.strptime('2009/12/31T11:05:06.9999','%Y/%m/%dT%H:%M:%S.%f')"
   ]
  },
  {
   "cell_type": "markdown",
   "metadata": {},
   "source": [
    "<table border=\"1\" class=\"docutils\">\n",
    "<colgroup>\n",
    "<col width=\"15%\" />\n",
    "<col width=\"43%\" />\n",
    "<col width=\"32%\" />\n",
    "<col width=\"9%\" />\n",
    "</colgroup>\n",
    "<thead valign=\"bottom\">\n",
    "<tr class=\"row-odd\"><th class=\"head\">Directive</th>\n",
    "<th class=\"head\">Meaning</th>\n",
    "<th class=\"head\">Example</th>\n",
    "<th class=\"head\">Notes</th>\n",
    "</tr>\n",
    "</thead>\n",
    "<tbody valign=\"top\">\n",
    "<tr class=\"row-even\"><td><code class=\"docutils literal notranslate\"><span class=\"pre\">%a</span></code></td>\n",
    "<td>Weekday as locale’s\n",
    "abbreviated name.</td>\n",
    "<td><div class=\"first last line-block\">\n",
    "<div class=\"line\">Sun, Mon, …, Sat\n",
    "(en_US);</div>\n",
    "<div class=\"line\">So, Mo, …, Sa\n",
    "(de_DE)</div>\n",
    "</div>\n",
    "</td>\n",
    "<td>(1)</td>\n",
    "</tr>\n",
    "<tr class=\"row-odd\"><td><code class=\"docutils literal notranslate\"><span class=\"pre\">%A</span></code></td>\n",
    "<td>Weekday as locale’s full name.</td>\n",
    "<td><div class=\"first last line-block\">\n",
    "<div class=\"line\">Sunday, Monday, …,\n",
    "Saturday (en_US);</div>\n",
    "<div class=\"line\">Sonntag, Montag, …,\n",
    "Samstag (de_DE)</div>\n",
    "</div>\n",
    "</td>\n",
    "<td>(1)</td>\n",
    "</tr>\n",
    "<tr class=\"row-even\"><td><code class=\"docutils literal notranslate\"><span class=\"pre\">%w</span></code></td>\n",
    "<td>Weekday as a decimal number,\n",
    "where 0 is Sunday and 6 is\n",
    "Saturday.</td>\n",
    "<td>0, 1, …, 6</td>\n",
    "<td>&#160;</td>\n",
    "</tr>\n",
    "<tr class=\"row-odd\"><td><code class=\"docutils literal notranslate\"><span class=\"pre\">%d</span></code></td>\n",
    "<td>Day of the month as a\n",
    "zero-padded decimal number.</td>\n",
    "<td>01, 02, …, 31</td>\n",
    "<td>&#160;</td>\n",
    "</tr>\n",
    "<tr class=\"row-even\"><td><code class=\"docutils literal notranslate\"><span class=\"pre\">%b</span></code></td>\n",
    "<td>Month as locale’s abbreviated\n",
    "name.</td>\n",
    "<td><div class=\"first last line-block\">\n",
    "<div class=\"line\">Jan, Feb, …, Dec\n",
    "(en_US);</div>\n",
    "<div class=\"line\">Jan, Feb, …, Dez\n",
    "(de_DE)</div>\n",
    "</div>\n",
    "</td>\n",
    "<td>(1)</td>\n",
    "</tr>\n",
    "<tr class=\"row-odd\"><td><code class=\"docutils literal notranslate\"><span class=\"pre\">%B</span></code></td>\n",
    "<td>Month as locale’s full name.</td>\n",
    "<td><div class=\"first last line-block\">\n",
    "<div class=\"line\">January, February,\n",
    "…, December (en_US);</div>\n",
    "<div class=\"line\">Januar, Februar, …,\n",
    "Dezember (de_DE)</div>\n",
    "</div>\n",
    "</td>\n",
    "<td>(1)</td>\n",
    "</tr>\n",
    "<tr class=\"row-even\"><td><code class=\"docutils literal notranslate\"><span class=\"pre\">%m</span></code></td>\n",
    "<td>Month as a zero-padded\n",
    "decimal number.</td>\n",
    "<td>01, 02, …, 12</td>\n",
    "<td>&#160;</td>\n",
    "</tr>\n",
    "<tr class=\"row-odd\"><td><code class=\"docutils literal notranslate\"><span class=\"pre\">%y</span></code></td>\n",
    "<td>Year without century as a\n",
    "zero-padded decimal number.</td>\n",
    "<td>00, 01, …, 99</td>\n",
    "<td>&#160;</td>\n",
    "</tr>\n",
    "<tr class=\"row-even\"><td><code class=\"docutils literal notranslate\"><span class=\"pre\">%Y</span></code></td>\n",
    "<td>Year with century as a decimal\n",
    "number.</td>\n",
    "<td>1970, 1988, 2001, 2013</td>\n",
    "<td>&#160;</td>\n",
    "</tr>\n",
    "<tr class=\"row-odd\"><td><code class=\"docutils literal notranslate\"><span class=\"pre\">%H</span></code></td>\n",
    "<td>Hour (24-hour clock) as a\n",
    "zero-padded decimal number.</td>\n",
    "<td>00, 01, …, 23</td>\n",
    "<td>&#160;</td>\n",
    "</tr>\n",
    "<tr class=\"row-even\"><td><code class=\"docutils literal notranslate\"><span class=\"pre\">%I</span></code></td>\n",
    "<td>Hour (12-hour clock) as a\n",
    "zero-padded decimal number.</td>\n",
    "<td>01, 02, …, 12</td>\n",
    "<td>&#160;</td>\n",
    "</tr>\n",
    "<tr class=\"row-odd\"><td><code class=\"docutils literal notranslate\"><span class=\"pre\">%p</span></code></td>\n",
    "<td>Locale’s equivalent of either\n",
    "AM or PM.</td>\n",
    "<td><div class=\"first last line-block\">\n",
    "<div class=\"line\">AM, PM (en_US);</div>\n",
    "<div class=\"line\">am, pm (de_DE)</div>\n",
    "</div>\n",
    "</td>\n",
    "<td>(1),\n",
    "(2)</td>\n",
    "</tr>\n",
    "<tr class=\"row-even\"><td><code class=\"docutils literal notranslate\"><span class=\"pre\">%M</span></code></td>\n",
    "<td>Minute as a zero-padded\n",
    "decimal number.</td>\n",
    "<td>00, 01, …, 59</td>\n",
    "<td>&#160;</td>\n",
    "</tr>\n",
    "<tr class=\"row-odd\"><td><code class=\"docutils literal notranslate\"><span class=\"pre\">%S</span></code></td>\n",
    "<td>Second as a zero-padded\n",
    "decimal number.</td>\n",
    "<td>00, 01, …, 59</td>\n",
    "<td>(3)</td>\n",
    "</tr>\n",
    "<tr class=\"row-even\"><td><code class=\"docutils literal notranslate\"><span class=\"pre\">%f</span></code></td>\n",
    "<td>Microsecond as a decimal\n",
    "number, zero-padded on the\n",
    "left.</td>\n",
    "<td>000000, 000001, …,\n",
    "999999</td>\n",
    "<td>(4)</td>\n",
    "</tr>\n",
    "<tr class=\"row-odd\"><td><code class=\"docutils literal notranslate\"><span class=\"pre\">%z</span></code></td>\n",
    "<td>UTC offset in the form +HHMM\n",
    "or -HHMM (empty string if the\n",
    "the object is naive).</td>\n",
    "<td>(empty), +0000, -0400,\n",
    "+1030</td>\n",
    "<td>(5)</td>\n",
    "</tr>\n",
    "<tr class=\"row-even\"><td><code class=\"docutils literal notranslate\"><span class=\"pre\">%Z</span></code></td>\n",
    "<td>Time zone name (empty string\n",
    "if the object is naive).</td>\n",
    "<td>(empty), UTC, EST, CST</td>\n",
    "<td>&#160;</td>\n",
    "</tr>\n",
    "<tr class=\"row-odd\"><td><code class=\"docutils literal notranslate\"><span class=\"pre\">%j</span></code></td>\n",
    "<td>Day of the year as a\n",
    "zero-padded decimal number.</td>\n",
    "<td>001, 002, …, 366</td>\n",
    "<td>&#160;</td>\n",
    "</tr>\n",
    "<tr class=\"row-even\"><td><code class=\"docutils literal notranslate\"><span class=\"pre\">%U</span></code></td>\n",
    "<td>Week number of the year\n",
    "(Sunday as the first day of\n",
    "the week) as a zero padded\n",
    "decimal number. All days in a\n",
    "new year preceding the first\n",
    "Sunday are considered to be in\n",
    "week 0.</td>\n",
    "<td>00, 01, …, 53</td>\n",
    "<td>(6)</td>\n",
    "</tr>\n",
    "<tr class=\"row-odd\"><td><code class=\"docutils literal notranslate\"><span class=\"pre\">%W</span></code></td>\n",
    "<td>Week number of the year\n",
    "(Monday as the first day of\n",
    "the week) as a decimal number.\n",
    "All days in a new year\n",
    "preceding the first Monday\n",
    "are considered to be in\n",
    "week 0.</td>\n",
    "<td>00, 01, …, 53</td>\n",
    "<td>(6)</td>\n",
    "</tr>\n",
    "<tr class=\"row-even\"><td><code class=\"docutils literal notranslate\"><span class=\"pre\">%c</span></code></td>\n",
    "<td>Locale’s appropriate date and\n",
    "time representation.</td>\n",
    "<td><div class=\"first last line-block\">\n",
    "<div class=\"line\">Tue Aug 16 21:30:00\n",
    "1988 (en_US);</div>\n",
    "<div class=\"line\">Di 16 Aug 21:30:00\n",
    "1988 (de_DE)</div>\n",
    "</div>\n",
    "</td>\n",
    "<td>(1)</td>\n",
    "</tr>\n",
    "<tr class=\"row-odd\"><td><code class=\"docutils literal notranslate\"><span class=\"pre\">%x</span></code></td>\n",
    "<td>Locale’s appropriate date\n",
    "representation.</td>\n",
    "<td><div class=\"first last line-block\">\n",
    "<div class=\"line\">08/16/88 (None);</div>\n",
    "<div class=\"line\">08/16/1988 (en_US);</div>\n",
    "<div class=\"line\">16.08.1988 (de_DE)</div>\n",
    "</div>\n",
    "</td>\n",
    "<td>(1)</td>\n",
    "</tr>\n",
    "<tr class=\"row-even\"><td><code class=\"docutils literal notranslate\"><span class=\"pre\">%X</span></code></td>\n",
    "<td>Locale’s appropriate time\n",
    "representation.</td>\n",
    "<td><div class=\"first last line-block\">\n",
    "<div class=\"line\">21:30:00 (en_US);</div>\n",
    "<div class=\"line\">21:30:00 (de_DE)</div>\n",
    "</div>\n",
    "</td>\n",
    "<td>(1)</td>\n",
    "</tr>\n",
    "<tr class=\"row-odd\"><td><code class=\"docutils literal notranslate\"><span class=\"pre\">%%</span></code></td>\n",
    "<td>A literal <code class=\"docutils literal notranslate\"><span class=\"pre\">'%'</span></code> character.</td>\n",
    "<td>%</td>\n",
    "<td>&#160;</td>\n",
    "</tr>\n",
    "</tbody>\n",
    "</table>"
   ]
  },
  {
   "cell_type": "markdown",
   "metadata": {},
   "source": [
    "## Convert datetime to text\n",
    "\n",
    "print will use a default format to print a datetimte object"
   ]
  },
  {
   "cell_type": "code",
   "execution_count": 7,
   "metadata": {},
   "outputs": [
    {
     "name": "stdout",
     "output_type": "stream",
     "text": [
      "2022-11-01 14:13:17.982593\n"
     ]
    }
   ],
   "source": [
    "print(now)"
   ]
  },
  {
   "cell_type": "markdown",
   "metadata": {},
   "source": [
    "Method strftime works with the same directives but to print a dattetime object to text\n",
    "\n",
    "    datetime.strftime(format)¶"
   ]
  },
  {
   "cell_type": "code",
   "execution_count": 8,
   "metadata": {},
   "outputs": [
    {
     "data": {
      "text/plain": [
       "'2022/11/01___14:13:17'"
      ]
     },
     "execution_count": 8,
     "metadata": {},
     "output_type": "execute_result"
    }
   ],
   "source": [
    "now.strftime('%Y/%m/%d___%H:%M:%S')"
   ]
  },
  {
   "cell_type": "markdown",
   "metadata": {},
   "source": [
    "## Exercise\n",
    "\n",
    "Convert the date and time strings int the list below and print as exemplified for the first entry:\n",
    "\n",
    "`30-11-2009 Mon 12h12 PM`"
   ]
  },
  {
   "cell_type": "code",
   "execution_count": 12,
   "metadata": {},
   "outputs": [
    {
     "data": {
      "text/plain": [
       "datetime.datetime(2009, 11, 30, 12, 12)"
      ]
     },
     "execution_count": 12,
     "metadata": {},
     "output_type": "execute_result"
    }
   ],
   "source": [
    "txtrecords = ['2009-11-30 12:12','2010-01-23 15:15','2010-07-01 17:59', '2011-11-11 11:11']\n",
    "\n",
    "#your code here...\n",
    "\n",
    "#convert to list elements to datetime object\n",
    "datetime.datetime.strptime(txtrecords[0],'%Y-%m-%d %H:%M')\n",
    "datetime.datetime.strptime(txtrecords[1],'%Y-%m-%d %H:%M')\n",
    "datetime.datetime.strptime(txtrecords[2],'%Y-%m-%d %H:%M')\n",
    "datetime.datetime.strptime(txtrecords[3],'%Y-%m-%d %H:%M')\n",
    "\n",
    "#print elements using new format\n",
    "\n"
   ]
  },
  {
   "cell_type": "markdown",
   "metadata": {},
   "source": [
    "## Matplotlib understands datetime objects"
   ]
  },
  {
   "cell_type": "code",
   "execution_count": 10,
   "metadata": {},
   "outputs": [
    {
     "data": {
      "text/plain": [
       "[<matplotlib.lines.Line2D at 0x19ce6ae0820>]"
      ]
     },
     "execution_count": 10,
     "metadata": {},
     "output_type": "execute_result"
    },
    {
     "data": {
      "image/png": "[encoded data removed]",
      "text/plain": [
       "<Figure size 864x144 with 1 Axes>"
      ]
     },
     "metadata": {
      "needs_background": "light"
     },
     "output_type": "display_data"
    }
   ],
   "source": [
    "import numpy as np\n",
    "%matplotlib inline\n",
    "import matplotlib.pyplot as plt\n",
    "\n",
    "# method toordinal coverts to day number as integer\n",
    "start_dt = datetime.datetime(2018,1,1).toordinal()\n",
    "end_dt = datetime.datetime.today().toordinal()\n",
    "\n",
    "#generate random ordinals\n",
    "random_ordinals = np.random.randint(start_dt, end_dt,size=20)\n",
    "\n",
    "# convert from ordinal to datetime\n",
    "random_dates = [datetime.datetime.fromordinal(date) for date in random_ordinals]\n",
    "\n",
    "plt.figure(figsize=(12,2))\n",
    "plt.plot(random_dates, np.random.random(size=20),marker=\"*\",linestyle=\"\")"
   ]
  },
  {
   "cell_type": "markdown",
   "metadata": {},
   "source": [
    "<br /> \n",
    "<br /> \n",
    "<br /> \n",
    "<br /> \n",
    "<br /> \n",
    "<br /> \n",
    "<br /> \n",
    "<br /> \n",
    "<br /> \n",
    "<br /> \n",
    "<br /> \n",
    "<br /> \n",
    "<br /> \n",
    "<br /> \n",
    "<br /> \n",
    "<br /> \n",
    "<br /> \n",
    "<br /> \n",
    "<br /> \n",
    "<br /> \n",
    "<br /> \n",
    "<br /> \n",
    "<br /> \n",
    "<br /> \n",
    "<br /> \n",
    "<br /> \n",
    "<br /> \n",
    "<br /> \n",
    "<br /> \n",
    "<br /> \n",
    "<br /> \n",
    "<br /> \n",
    "<br /> \n",
    "<br /> \n",
    "<br /> \n",
    "<br /> \n",
    "<br /> \n",
    "<br /> \n",
    "<br /> \n",
    "<br /> \n",
    "<br /> \n",
    "learning *is* the struggle\n",
    "<br /> \n",
    "<br /> \n",
    "<br /> \n",
    "<br /> \n",
    "<br /> \n",
    "<br /> \n",
    "<br /> \n",
    "<br /> \n",
    "<br /> \n",
    "<br /> \n",
    "<br /> \n",
    "<br /> \n",
    "<br /> \n",
    "<br /> \n",
    "<br /> \n",
    "<br /> \n",
    "<br /> \n",
    "<br /> \n",
    "<br /> \n",
    "<br /> \n",
    "<br /> \n",
    "<br /> \n",
    "<br /> \n",
    "<br /> \n",
    "<br /> \n",
    "<br /> \n",
    "<br /> \n",
    "<br /> \n",
    "<br /> "
   ]
  },
  {
   "cell_type": "markdown",
   "metadata": {},
   "source": [
    "## Exercise solution"
   ]
  },
  {
   "cell_type": "code",
   "execution_count": null,
   "metadata": {},
   "outputs": [],
   "source": [
    "# Create directives for input format\n",
    "informat = '%Y-%m-%d %H:%M'\n",
    "\n",
    "# A list comprehension is used to generate a list of datetime objects\n",
    "dtrecords = [datetime.datetime.strptime(item, informat ) for item in txtrecords]\n",
    "\n",
    "\n",
    "# Alternatively, using a for loop\n",
    "\n",
    "#dtrecords = []\n",
    "#for item in txtrecords:\n",
    "#    dtrecords.append( datetime.datetime.strptime(item, informat ) )\n",
    "\n",
    "print('dtrecords=',dtrecords,'\\n')\n",
    "\n",
    "# Now print out dates using strftime with a new format\n",
    "# Notes:\n",
    "# %a \tWeekday as locale’s abbreviated name\n",
    "# %I \tHour (12-hour clock) as a zero-padded decimal number. \t\n",
    "# %p \tLocale’s equivalent of either AM or PM.\n",
    "\n",
    "outformat = '%d-%m-%Y %a %Ih%M %p'\n",
    "for item in dtrecords:\n",
    "    print( datetime.datetime.strftime(item,format=outformat) )"
   ]
  }
 ],
 "metadata": {
  "kernelspec": {
   "display_name": "Python 3 (ipykernel)",
   "language": "python",
   "name": "python3"
  },
  "language_info": {
   "codemirror_mode": {
    "name": "ipython",
    "version": 3
   },
   "file_extension": ".py",
   "mimetype": "text/x-python",
   "name": "python",
   "nbconvert_exporter": "python",
   "pygments_lexer": "ipython3",
   "version": "3.9.12"
  }
 },
 "nbformat": 4,
 "nbformat_minor": 2
}