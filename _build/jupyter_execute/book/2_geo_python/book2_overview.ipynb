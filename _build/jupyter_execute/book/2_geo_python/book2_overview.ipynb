{
 "cells": [
  {
   "cell_type": "markdown",
   "metadata": {},
   "source": [
    "# 0 - Overview\n",
    "\n",
    "The resources available within this book originate from a range of sources, [listed below](##References), and explicitly at the top of each tutorial.\n",
    "\n",
    "## Welcome to Book 2 - Geospatial and EO Data Analysis in Python 🛰️\n",
    "\n",
    "This book builds on Book 1, and introduces a selection of the many tools available within the Python ecosystem to work with geospatial data, which includes Earth Observation and satellite datasets. \n",
    "\n",
    "\n",
    "### Aims/Book Summary\n",
    "\n",
    "The aim of this book is to introduce methods of working with geospatial data in python and provide a toolkit that you can use on your own datasets. \n",
    "\n",
    "This book is split into 4 chapters:\n",
    "- **Chapter 1 - Geospatial Data tools**, introduces some of the key python libraries necessary to work with geospatial data in python. \n",
    "- **Chapter 2 - EO Data Providers (under construction)**, briefly outlines some of the platforms available to source Earth Obsercation data, as there are many hosts and your choice might depend on personal preference or intended application. \n",
    "- **Chapter 3 - GEE Python**, put a focus on one of the many hosts of Earth Data, Google Earth Engine (GEE), and how this tool can be used for powerful big data processing and analysis in python.\n",
    "- **Chapter 4 - Putting it all together**, gives an end-to-end example of doing some analysis on some satellite data, piecing together many of the tools that have been covered in the book.\n",
    "\n",
    "### Learning Outcomes\n",
    "\n",
    "On completion of this book you will be able to:\n",
    "1. Be able to use python libraries such as `cartopy`, `geopandas`, `rasterio`, `xarray`, and `rioxarray` to perform geospatial data processing.\n",
    "2. (**Under Development**) Discuss the benefits and drawbacks of a selection of the many different EO data platforms, ranging from primary providers (e.g. NASA EarthData, ESA Copernicus Dataspace) to 3rd party providers (e.g. [Earth Engine](https://developers.google.com/earth-engine/datasets) and [Planetary Computer](https://planetarycomputer.microsoft.com/catalog)).\n",
    "3. Use the Google Earth Engine Python API to perform fast, large-scale data processing and analysis.\n",
    "4. Understand the growing geospatial python ecosystem and numerous tools for large data analysis with powerful libraries that complement each other (e.g. `xarray`, `dask`, `zarr`, `cupy`)\n",
    "\n",
    "### Prerequisites\n",
    "\n",
    "- Basic understanding of coding in Python (e.g. topics covered in [Book 1](/book/1_python_zero2hero/book1_overview.ipynb))"
   ]
  },
  {
   "cell_type": "markdown",
   "metadata": {},
   "source": [
    "## Table of Contents\n",
    "\n",
    "### 1. Spatial Data Tools\n",
    "- [Introduction to Geospatial Data](/1_spatial_data_tools/00_intro_to_geospatial_data.ipynb)\n",
    "- [Cartopy](/1_spatial_data_tools/cartopy.ipynb)\n",
    "- [Xarray and NetCDF Introduction](/1_spatial_data_tools/20-Xarray-NetCDF-Intro.ipynb)\n",
    "- [GeoPandas](/1_spatial_data_tools/geopandas.ipynb)\n",
    "- [Rasterio](/1_spatial_data_tools/rasterio.ipynb)\n",
    "- [RioXarray](/1_spatial_data_tools/rioxarray.ipynb)\n",
    "- [Xarray Basics](/1_spatial_data_tools/xarray.ipynb)\n",
    "- [Xarray OceanHackweek20](/1_spatial_data_tools/xarray-oceanhackweek20.ipynb)\n",
    "\n",
    "### 2. EO Data\n",
    "- [EO Data Chapter (Under Construction)]()\n",
    "\n",
    "### 3. Google Earth Engine with Python\n",
    "- [First Steps with GEE](/3_gee_python/0%20-%20First_steps.ipynb)\n",
    "- [Opening and Displaying Data](/3_gee_python/1_Open_and_display.ipynb)\n",
    "- [Time Series Analysis](/3_gee_python/2_Time_series.ipynb)\n",
    "- [Classification Techniques](/3_gee_python/3_Classification.ipynb)\n",
    "- [Setting up Google Earth Engine API on Colab](/3_gee_python/ee_api_colab_setup.ipynb)\n",
    "\n",
    "### 4. Putting It All Together\n",
    "- [Practical Exercise - SENSE CDT](/4_putting_it_together/SENSE_CDT_OCEAN_D4_student.ipynb)\n",
    "<!-- - [Xarray OceanHackweek20 Advanced](/4_putting_it_together/xarray-oceanhackweek20.ipynb) -->\n",
    "\n"
   ]
  },
  {
   "cell_type": "markdown",
   "metadata": {},
   "source": [
    "## References\n",
    "- [TorchGeo Tutorials](https://torchgeo.readthedocs.io/en/stable/tutorials/geospatial.html). [MIT License](/other_licenses/MIT_LICENSE.txt)\n",
    "- [Introduction to GIS Programming](https://geog-312.gishub.org/) course, offered at the University of Tennessee, Knoxville. [CC-BY-4.0 License](/other_licenses/CC-BY-4.0_LICENSE.txt) \n",
    "- [Aries and Cefas Python Course 2020](https://ueapy.github.io/pythoncourse2021-website/), organised through the Collaborative Centre for Sustainable use of the Seas. [MIT License](/other_licenses/MIT_LICENSE.txt)"
   ]
  }
 ],
 "metadata": {
  "language_info": {
   "name": "python"
  }
 },
 "nbformat": 4,
 "nbformat_minor": 2
}