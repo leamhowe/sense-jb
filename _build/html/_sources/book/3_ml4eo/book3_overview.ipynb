{
 "cells": [
  {
   "cell_type": "markdown",
   "metadata": {},
   "source": [
    "# 0 - Overview\n",
    "\n",
    "## Book 3 - An introduction to Machine Learning for Earth Observation (EO)\n",
    "\n",
    "Again building on the content of the previous books, Book 3 focuses on the use of Machine Learning (ML) within the fields of Earth Observation. \n",
    "\n",
    "In \"Machine Learning for EO,\" we explore the application of machine learning techniques to Earth Observation data. We cover the basics of machine learning, discuss various models including linear regression and classification, delve into deep learning approaches like segmentation using UNet, and explore advanced topics like embeddings and their analysis.\n"
   ]
  },
  {
   "cell_type": "markdown",
   "metadata": {},
   "source": [
    "\n",
    "## Table of Contents\n",
    "\n",
    "### [Overview of Machine Learning for EO](./book/3_ml4eo/book3_overview.ipynb)\n",
    "This section provides an introductory overview, setting the stage for more detailed exploration of machine learning in the context of Earth Observation.\n",
    "\n",
    "### 1. Introduction to Machine Learning with Satellite Data\n",
    "   - [Introduction to Machine Learning Applications in Earth Observation](./book/3_ml4eo/2_sat_ml_intro.md)\n",
    "     - [Linear Regression Models](./book/3_ml4eo/2_sat_ml_intro/1_linear_regression.ipynb)\n",
    "     - [Classification Models](./book/3_ml4eo/2_sat_ml_intro/2_classification.ipynb)\n",
    "     - [Understanding and Applying Kalman Filters](./book/3_ml4eo/2_sat_ml_intro/3_kalman_filter.ipynb)\n",
    "\n",
    "### 2. Deep Learning for Satellite Image Processing\n",
    "   - [Deep Learning in Satellite ML](./book/3_ml4eo/3_sat_ml_deep.md)\n",
    "     - [Introduction to Deep Learning for Earth Observation](./book/3_ml4eo/3_sat_ml_deep/00_intro.ipynb)\n",
    "     - [Image Segmentation with UNet](./book/3_ml4eo/3_sat_ml_deep/02_segmentation_unet.ipynb)\n",
    "     \n",
    "### 3. Advanced Machine Learning Techniques: Embeddings\n",
    "   - [Exploring Tile Embeddings with Machine Learning](./book/3_ml4eo/chapter4.md)\n",
    "     - [Using PCA for Tile Embedding Analysis](./book/3_ml4eo/4_embeddings/notebooks/1a_Use_PCA_analysis_to_study_tile_embeddings.ipynb)\n",
    "     - [Exploring Embedding Space with Clustering Methods](./book/3_ml4eo/4_embeddings/notebooks/1b_Exploring_embedding_space_with_clustering_methods.ipynb)\n",
    "     - [Working with Your Own Data in Embedding Analysis](./book/3_ml4eo/4_embeddings/notebooks/2_Working_with_your_own_data.ipynb)\n"
   ]
  },
  {
   "cell_type": "markdown",
   "metadata": {},
   "source": []
  }
 ],
 "metadata": {
  "language_info": {
   "name": "python"
  }
 },
 "nbformat": 4,
 "nbformat_minor": 2
}
