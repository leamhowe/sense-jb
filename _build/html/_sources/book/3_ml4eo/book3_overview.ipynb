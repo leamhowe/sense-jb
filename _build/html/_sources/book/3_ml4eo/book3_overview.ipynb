{
 "cells": [
  {
   "cell_type": "markdown",
   "metadata": {},
   "source": [
    "# 0 - Overview\n",
    "\n",
    "## Book 3 - An introduction to Machine Learning for Earth Observation (EO) 🤖\n",
    "\n",
    "Again building on the content of the previous books, Book 3 focuses on the use of Machine Learning (ML) within the field of Earth Observation. \n",
    "\n",
    "### Aims/Book Summary\n",
    "\n",
    "In \"Machine Learning for EO\", we explore the application of machine learning techniques to Earth Observation data. We start from simple linear regression and classical machine learning techniques such as random forests, to deep learning methods where we apply a semantic segmentation model , and explore advanced topics like embeddings and their analysis.\n",
    "\n",
    "This book is split into 4 chapters:\n",
    "- **Chapter 1 - Classical ML with Satellite Data**, introduces to some classical and well establish methods and we implement these for classifcation and regression tasks using [scikit-learn](https://scikit-learn.org/stable/). \n",
    "- **Chapter 2 - Satellite image deep Learning with Pytorch**, introduces how deep learning techniques can be implemented to satellite data using [PyTorch](https://pytorch.org/) and [TorchGeo](https://torchgeo.readthedocs.io/en/latest/#module-torchgeo) - an extension to the PyTorch which consists of popular datasets, model architectures, and common image transformations for geospatial data.\n",
    "- **Chapter 3 -  Exploring the embedding space**, sometimes neural networks are referred to as a 'black box' because they have learnt complex no-linear decision functions that it can be tricky to disentangle the reasons for. Here we explore the embedding space of a trained neural network to uncover what is being respresented. \n",
    "- **Chapter 4 - Geospatial Foundation Models (under construction)**, we introduce the concept which has receive a lot of hype in recent years and forms the basis for large language models such as ChatGPT and DeepSeek. This builds on chapter 4 and chapter 5 as these models are all about embeddings and often depend on masked autoencoders for training. \n",
    "\n",
    "### Learning Outcomes\n",
    "\n",
    "On completion of this book you will be able to:\n",
    "1. Explain the added complexities involved in applying machine learning techniques to satellite data.\n",
    "2. Be able to implement classical ML methods using scikit-learn and deep learning techniques using PyTorch to satellite data, and be able to explain the benefits and drawbacks of each.\n",
    "3. Understand the concept of 'embeddings', how it relates to machine learning and their applications. \n",
    "\n",
    "### Prerequisites\n",
    "\n",
    "- Able to code in Python at an 'Intermediate' level. Familiarilty with Object Oriented Programming (OOP) and the use of [classes](https://docs.python.org/3/tutorial/classes.html). Here is a [tutorial](https://realpython.com/python-classes/#getting-started-with-python-classes), but there are lots of resources available elsewhere online.\n",
    "- Basic understanding of ML theory would be useful, [chapter 1](book/3_ml4eo/1_sat_ml_intro.md) points to more resources on this."
   ]
  },
  {
   "cell_type": "markdown",
   "metadata": {},
   "source": [
    "\n",
    "## Table of Contents\n",
    "\n",
    "### [1. Introduction to Machine Learning with Satellite Data](book/3_ml4eo/1_sat_ml_intro.md)\n",
    "- [Linear Regression Models](book/3_ml4eo/2_sat_ml_intro/1_linear_regression.ipynb)\n",
    "- [Classification Models](book/3_ml4eo/2_sat_ml_intro/2_classification.ipynb)\n",
    "- [Understanding and Applying Kalman Filters](book/3_ml4eo/2_sat_ml_intro/3_kalman_filter.ipynb)\n",
    "- [Google Earth Engine Classifiers](book/3_ml4eo/2_sat_ml_intro/4_gee_classifiers.ipynb)\n",
    "\n",
    "\n",
    "### [2. Deep Learning for Satellite Image Processing](book/3_ml4eo/2_sat_ml_deep.md)\n",
    "- [Introduction to Deep Learning for Earth Observation](book/3_ml4eo/3_sat_ml_deep/00_intro.ipynb)\n",
    "- [Image Segmentation with UNet](book/3_ml4eo/3_sat_ml_deep/02_segmentation_unet.ipynb)\n",
    "     \n",
    "### [3. Exploring the embedding space](book/3_ml4eo/3_embeddings.md)\n",
    "- [Using PCA for Tile Embedding Analysis](book/3_ml4eo/4_embeddings/notebooks/1a_Use_PCA_analysis_to_study_tile_embeddings.ipynb)\n",
    "- [Exploring Embedding Space with Clustering Methods](book/3_ml4eo/4_embeddings/notebooks/1b_Exploring_embedding_space_with_clustering_methods.ipynb)\n",
    "- [Working with Your Own Data in Embedding Analysis](book/3_ml4eo/4_embeddings/notebooks/2_Working_with_your_own_data.ipynb)\n",
    "\n",
    "### [4. Geospatial Foundation Models (under construction)](book/3_ml4eo/4_gfm.md)\n"
   ]
  },
  {
   "cell_type": "markdown",
   "metadata": {},
   "source": []
  }
 ],
 "metadata": {
  "language_info": {
   "name": "python"
  }
 },
 "nbformat": 4,
 "nbformat_minor": 2
}
