{
 "cells": [
  {
   "cell_type": "markdown",
   "metadata": {},
   "source": [
    "#\n",
    "\n",
    "Satellite image deep learning with PyTorch\n",
    "\n",
    "Here we introduce how to implement some deep learning methods to satellite data using [PyTorch](https://pytorch.org/) and [TorchGeo](https://torchgeo.readthedocs.io/en/latest/#module-torchgeo) - an extension to the PyTorch which consists of popular datasets, model architectures, and common image transformations for geospatial data.\n",
    "\n"
   ]
  },
  {
   "cell_type": "markdown",
   "metadata": {},
   "source": [
    "## Prerequisites\n",
    "\n",
    "If you are new to deep learning and want to better understand the maths behind it, 3Blue1Brown do a fantastic series of videos on neural networks:\n",
    "* [3Blue1Brown Video Series on Neural Networks](https://www.3blue1brown.com/topics/neural-networks)\n",
    "\n",
    "If you are new to PyTorch before it might be useful to review the tutorials on the Pytorch website:\n",
    "\n",
    "* [PyTorch: Learn the Basics](https://pytorch.org/tutorials/beginner/basics/intro.html)\n",
    "* [Deep Learning with PyTorch: A 60 Minute Blitz](https://pytorch.org/tutorials/beginner/deep_learning_60min_blitz.html)\n",
    "\n",
    "And TorchGeo also provides a good intro to PyTorch:\n",
    "\n",
    "* [TorchGeo: Intro to PyTorch](https://torchgeo.readthedocs.io/en/stable/tutorials/pytorch.html)\n"
   ]
  },
  {
   "cell_type": "markdown",
   "metadata": {},
   "source": [
    "```{tableofcontents}\n",
    "```"
   ]
  }
 ],
 "metadata": {
  "kernelspec": {
   "display_name": "Python 3",
   "language": "python",
   "name": "python3"
  },
  "language_info": {
   "codemirror_mode": {
    "name": "ipython",
    "version": 3
   },
   "file_extension": ".py",
   "mimetype": "text/x-python",
   "name": "python",
   "nbconvert_exporter": "python",
   "pygments_lexer": "ipython3",
   "version": "3.12.9"
  }
 },
 "nbformat": 4,
 "nbformat_minor": 2
}
