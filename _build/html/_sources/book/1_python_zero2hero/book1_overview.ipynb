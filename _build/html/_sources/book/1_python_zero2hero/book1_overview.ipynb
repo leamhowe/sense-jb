{
 "cells": [
  {
   "cell_type": "markdown",
   "metadata": {},
   "source": [
    "# 0 - Overview\n",
    "\n",
    "The content of this book was adapted from Aries and Cefas Python Course 2020, organised through the Collaborative Centre for Sustainable use of the Seas: https://ueapy.github.io/pythoncourse2021-website/\n",
    "\n",
    "## Welcome to Book 1 - Python Software Carpentry 🐍\n",
    "\n",
    "This book introduces the some important underlying concepts that need to be understood before using Python as a scientific programming language. \n",
    "\n",
    "### Aims/Book Summary\n",
    "\n",
    "Python is the most popular programming language. This includes within Environmental Science and Machine Learning. And this is not without good reason: [Why Python keeps growing, explained.](https://github.blog/developer-skills/programming-languages-and-frameworks/why-python-keeps-growing-explained/). \n",
    "\n",
    "### Learning Outcomes\n",
    "\n",
    "On completion of this book you will be able to:\n",
    "1. Understand basic Python syntax and code in Jupyter Notebooks.\n",
    "2. Be able to explain the difference between Python data types (e.g. `int`, `float`, `str`, `dict`)\n",
    "3. Open, analyse, and visualise tabular data in Python. \n",
    "\n",
    "### Prerequisites\n",
    "\n",
    "None! 😃 This book is entry level and assumes no prior programming or python knowledge.\n"
   ]
  },
  {
   "cell_type": "markdown",
   "metadata": {},
   "source": [
    "________________________________________________________________________________________"
   ]
  },
  {
   "cell_type": "markdown",
   "metadata": {},
   "source": [
    "_________________________________________________\n",
    "## Table of Contents\n",
    "\n",
    "<!-- ### 1_intro \\\n",
    "├── 00-Introduction.ipynb \\\n",
    "├── 01-How-to-Run-Python-Code.ipynb \\\n",
    "├── 02-Jupyter-Notebook.ipynb \\\n",
    "└── 03-Basic-Python-Syntax.ipynb \\\n",
    "### 2_python_basics \\\n",
    "├── 01-Semantics-Variables.ipynb \\\n",
    "├── 02-Semantics-Operators.ipynb \\\n",
    "├── 03-Built-in-Scalar-Types.ipynb \\\n",
    "├── 04-Built-in-Data-Structures.ipynb \\\n",
    "├── 05-Ex-Try-Python-Basics.ipynb \\\n",
    "├── 06-Control-Flow-Statements.ipynb \\\n",
    "├── 07-Defining-Functions.ipynb \\\n",
    "├── 08-Ex-Build-A-Program.ipynb \\\n",
    "├── 09-Modules-and-Packages.ipynb \\\n",
    "└── 10-Ex-Create-module.ipynb \\\n",
    "### 3_data_analysis_visualisation \\\n",
    "├── 01-Numpy-Intro.ipynb \\\n",
    "├── 02-Matplotlib.ipynb \\\n",
    "├── 03-Working-with-datetime.ipynb \\\n",
    "├── 04-Pandas-Intro.ipynb \\\n",
    "└── 05-Plotting-with-Seaborn.ipynb  -->\n",
    "\n",
    "### [1. Introduction to Python](/book/1_python_zero2hero/1_intro.md)\n",
    "- [Introduction to Python](/book/1_python_zero2hero/1_intro/00-Introduction.ipynb ) \n",
    "- [How to Run Python Code](/book/1_python_zero2hero/1_intro/01-How-to-Run-Python-Code.ipynb )\n",
    "- [Jupyter Notebook](/book/1_python_zero2hero/1_intro/02-Jupyter-Notebook.ipynb )\n",
    "- [Basic Python Syntax](/book/1_python_zero2hero/1_intro/03-Basic-Python-Syntax.ipynb )\n",
    "\n",
    "### [2. Python Basics](/book/1_python_zero2hero/2_python_basics.md)\n",
    "- [Semantics Variables](/book/1_python_zero2hero/2_python_basics/01-Semantics-Variables.ipynb )\n",
    "- [Semantics Operators](/book/1_python_zero2hero/2_python_basics/02-Semantics-Operators.ipynb )\n",
    "- [Built-in Scalar Types](/book/1_python_zero2hero/2_python_basics/03-Built-in-Scalar-Types.ipynb )\n",
    "- [Built-in Data Structures](/book/1_python_zero2hero/2_python_basics/04-Built-in-Data-Structures.ipynb )\n",
    "- [Exercise: Try Python Basics](/book/1_python_zero2hero/2_python_basics/05-Ex-Try-Python-Basics.ipynb)\n",
    "- [Control Flow Statements](/book/1_python_zero2hero/2_python_basics/06-Control-Flow-Statements.ipynb )\n",
    "- [Defining Functions](/book/1_python_zero2hero/2_python_basics/07-Defining-Functions.ipynb )\n",
    "- [Creating a Module](/book/1_python_zero2hero/2_python_basics/08-Ex-Create-module.ipynb )\n",
    "- [Modules and Packages](/book/1_python_zero2hero/2_python_basics/09-Modules-and-Packages.ipynb )\n",
    "- [Exercise: Create a Module](/book/1_python_zero2hero/2_python_basics/10-Ex-Create-module.ipynb )\n",
    "\n",
    "### [3. Data analysis and visualisation](/book/1_python_zero2hero/3_data_analysis_visualisation.md)\n",
    "- [NumPy](/book/1_python_zero2hero/3_data_analysis_visualisation/01-Numpy-Intro.ipynb)\n",
    "- [Matplotlib Basics](/book/1_python_zero2hero/3_data_analysis_visualisation/02-Matplotlib.ipynb)\n",
    "- [Datetime](/book/1_python_zero2hero/3_data_analysis_visualisation/03-Working-with-datetime.ipynb)\n",
    "- [Pandas DataFrames](/book/1_python_zero2hero/3_data_analysis_visualisation/04-Pandas-Intro.ipynb)\n",
    "- [Further Plotting with seaborn](/book/1_python_zero2hero/3_data_analysis_visualisation/05-Plotting-with-Seaborn.ipynb)\n",
    "\n",
    "<!-- ### 1. Introduction to Python\n",
    "- [Introduction](/book/1_python_zero2hero/1_intro.md)\n",
    "  - [Introduction to Python](/book/1_python_zero2hero/1_intro/00-Introduction.ipynb )\n",
    "  - [How to Run Python Code](/book/1_python_zero2hero/1_intro/01-How-to-Run-Python-Code.ipynb )\n",
    "  - [Jupyter Notebook](/book/1_python_zero2hero/1_intro/02-Jupyter-Notebook.ipynb )\n",
    "  - [Basic Python Syntax](/book/1_python_zero2hero/1_intro/03-Basic-Python-Syntax.ipynb )\n",
    "\n",
    "### 2. Python Basics\n",
    "- [Basics of Python](/book/1_python_zero2hero/2_python_basics.md)\n",
    "  - [Semantics Variables](/book/1_python_zero2hero/2_python_basics/01-Semantics-Variables.ipynb )\n",
    "  - [Semantics Operators](/book/1_python_zero2hero/2_python_basics/02-Semantics-Operators.ipynb )\n",
    "  - [Built-in Scalar Types](/book/1_python_zero2hero/2_python_basics/03-Built-in-Scalar-Types.ipynb )\n",
    "  - [Built-in Data Structures](/book/1_python_zero2hero/2_python_basics/04-Built-in-Data-Structures.ipynb )\n",
    "  - [Exercise: Try Python Basics](/book/1_python_zero2hero/2_python_basics/05-Ex-Try-Python-Basics.ipynb)\n",
    "  - [Control Flow Statements](/book/1_python_zero2hero/2_python_basics/06-Control-Flow-Statements.ipynb )\n",
    "  - [Defining Functions](/book/1_python_zero2hero/2_python_basics/07-Defining-Functions.ipynb )\n",
    "  - [Creating a Module](/book/1_python_zero2hero/2_python_basics/08-Ex-Create-module.ipynb )\n",
    "  - [Modules and Packages](/book/1_python_zero2hero/2_python_basics/09-Modules-and-Packages.ipynb )\n",
    "  - [Exercise: Create a Module](/book/1_python_zero2hero/2_python_basics/10-Ex-Create-module.ipynb )\n",
    "\n",
    "### 3. Data analysis and visualisation\n",
    "- [Plotting Basics](/book/1_python_zero2hero/3_data_analysis_visualisation.md)\n",
    "  - [NumPy](/book/1_python_zero2hero/3_data_analysis_visualisation/01-Numpy-Intro.ipynb)\n",
    "  - [Matplotlib Basics](/book/1_python_zero2hero/3_data_analysis_visualisation/02-Matplotlib.ipynb)\n",
    "  - [Datetime](/book/1_python_zero2hero/3_data_analysis_visualisation/03-Working-with-datetime.ipynb)\n",
    "  - [Pandas DataFrames](/book/1_python_zero2hero/3_data_analysis_visualisation/04-Pandas-Intro.ipynb)\n",
    "  - [Further Plotting with seaborn](/book/1_python_zero2hero/3_data_analysis_visualisation/05-Plotting-with-Seaborn.ipynb) -->\n",
    "  <!-- - [Functions and Global Variables in Plotting](/book/1_python_zero2hero/3_data_analysis_visualisation/functions_global_variables.ipynb )  -->"
   ]
  },
  {
   "cell_type": "markdown",
   "metadata": {},
   "source": [
    "________________________________________________________________________________________"
   ]
  },
  {
   "cell_type": "markdown",
   "metadata": {},
   "source": [
    "## The Zen of Python"
   ]
  },
  {
   "cell_type": "code",
   "execution_count": 1,
   "metadata": {},
   "outputs": [
    {
     "name": "stdout",
     "output_type": "stream",
     "text": [
      "The Zen of Python, by Tim Peters\n",
      "\n",
      "Beautiful is better than ugly.\n",
      "Explicit is better than implicit.\n",
      "Simple is better than complex.\n",
      "Complex is better than complicated.\n",
      "Flat is better than nested.\n",
      "Sparse is better than dense.\n",
      "Readability counts.\n",
      "Special cases aren't special enough to break the rules.\n",
      "Although practicality beats purity.\n",
      "Errors should never pass silently.\n",
      "Unless explicitly silenced.\n",
      "In the face of ambiguity, refuse the temptation to guess.\n",
      "There should be one-- and preferably only one --obvious way to do it.\n",
      "Although that way may not be obvious at first unless you're Dutch.\n",
      "Now is better than never.\n",
      "Although never is often better than *right* now.\n",
      "If the implementation is hard to explain, it's a bad idea.\n",
      "If the implementation is easy to explain, it may be a good idea.\n",
      "Namespaces are one honking great idea -- let's do more of those!\n"
     ]
    }
   ],
   "source": [
    "import this"
   ]
  },
  {
   "cell_type": "markdown",
   "metadata": {},
   "source": [
    "Maybe some of this makes sense to you right now, maybe none. We hope by the end of the course that you will understand the huge benefits to using Python, and become a zen python user."
   ]
  },
  {
   "cell_type": "code",
   "execution_count": null,
   "metadata": {},
   "outputs": [],
   "source": []
  },
  {
   "cell_type": "code",
   "execution_count": null,
   "metadata": {},
   "outputs": [],
   "source": []
  },
  {
   "cell_type": "markdown",
   "metadata": {},
   "source": [
    "### References\n",
    "- Aries and Cefas Python Course 2020, organised through the Collaborative Centre for Sustainable use of the Seas: https://ueapy.github.io/pythoncourse2021-website/"
   ]
  }
 ],
 "metadata": {
  "kernelspec": {
   "display_name": "Python 3",
   "language": "python",
   "name": "python3"
  },
  "language_info": {
   "codemirror_mode": {
    "name": "ipython",
    "version": 3
   },
   "file_extension": ".py",
   "mimetype": "text/x-python",
   "name": "python",
   "nbconvert_exporter": "python",
   "pygments_lexer": "ipython3",
   "version": "3.12.9"
  }
 },
 "nbformat": 4,
 "nbformat_minor": 2
}
