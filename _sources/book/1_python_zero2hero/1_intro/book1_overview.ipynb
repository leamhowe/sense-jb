{
 "cells": [
  {
   "cell_type": "markdown",
   "metadata": {},
   "source": [
    "# 0 - Overview\n",
    "\n",
    "This course content was adapted from Aries and Cefas Python Course 2020, organised through the Collaborative Centre for Sustainable use of the Seas: https://ueapy.github.io/pythoncourse2021-website/\n",
    "\n",
    "## Book 1 - Python Software Carpentry\n",
    "\n",
    "This book introduces the some important underlying concepts that important to understand before using Python as a scientific programming language. \n",
    "\n"
   ]
  },
  {
   "cell_type": "markdown",
   "metadata": {},
   "source": [
    "## The Zen of Python"
   ]
  },
  {
   "cell_type": "code",
   "execution_count": 1,
   "metadata": {},
   "outputs": [
    {
     "name": "stdout",
     "output_type": "stream",
     "text": [
      "The Zen of Python, by Tim Peters\n",
      "\n",
      "Beautiful is better than ugly.\n",
      "Explicit is better than implicit.\n",
      "Simple is better than complex.\n",
      "Complex is better than complicated.\n",
      "Flat is better than nested.\n",
      "Sparse is better than dense.\n",
      "Readability counts.\n",
      "Special cases aren't special enough to break the rules.\n",
      "Although practicality beats purity.\n",
      "Errors should never pass silently.\n",
      "Unless explicitly silenced.\n",
      "In the face of ambiguity, refuse the temptation to guess.\n",
      "There should be one-- and preferably only one --obvious way to do it.\n",
      "Although that way may not be obvious at first unless you're Dutch.\n",
      "Now is better than never.\n",
      "Although never is often better than *right* now.\n",
      "If the implementation is hard to explain, it's a bad idea.\n",
      "If the implementation is easy to explain, it may be a good idea.\n",
      "Namespaces are one honking great idea -- let's do more of those!\n"
     ]
    }
   ],
   "source": [
    "import this"
   ]
  },
  {
   "cell_type": "markdown",
   "metadata": {},
   "source": [
    "Maybe some of this makes sense to you right now, maybe none. We hope by the end of the course that you will understand the huge benefits to using Python, and become a zen python user."
   ]
  },
  {
   "cell_type": "markdown",
   "metadata": {},
   "source": [
    "_________________________________________________\n",
    "## Table of Contents\n",
    "\n",
    "### 1. Introduction to Python\n",
    "- [Introduction](./book/1_python_zero2hero/1_intro.md)\n",
    "  - [Introduction to Python](./book/1_python_zero2hero/1_intro/00-Introduction.ipynb)\n",
    "  - [How to Run Python Code](./book/1_python_zero2hero/1_intro/01-How-to-Run-Python-Code.ipynb)\n",
    "  - [Jupyter Notebook](./book/1_python_zero2hero/1_intro/02-Jupyter-Notebook.ipynb)\n",
    "  - [Basic Python Syntax](./book/1_python_zero2hero/1_intro/03-Basic-Python-Syntax.ipynb)\n",
    "\n",
    "### 2. Python Basics\n",
    "- [Basics of Python](./book/1_python_zero2hero/2_python_basics.md)\n",
    "  - [Semantics Variables](./book/1_python_zero2hero/2_python_basics/01-Semantics-Variables.ipynb)\n",
    "  - [Semantics Operators](./book/1_python_zero2hero/2_python_basics/02-Semantics-Operators.ipynb)\n",
    "  - [Built-in Scalar Types](./book/1_python_zero2hero/2_python_basics/03-Built-in-Scalar-Types.ipynb)\n",
    "  - [Built-in Data Structures](./book/1_python_zero2hero/2_python_basics/04-Built-in-Data-Structures.ipynb)\n",
    "  - [Control Flow Statements](./book/1_python_zero2hero/2_python_basics/05-Control-Flow-Statements.ipynb)\n",
    "  - [Defining Functions](./book/1_python_zero2hero/2_python_basics/06-Defining-Functions.ipynb)\n",
    "  - [Creating a Module](./book/1_python_zero2hero/2_python_basics/07-Ex-Create-module.ipynb)\n",
    "  - [Modules and Packages](./book/1_python_zero2hero/2_python_basics/08-Modules-and-Packages.ipynb)\n",
    "  - [Exercise: Try Python Basics](./book/1_python_zero2hero/2_python_basics/09-Ex-Try-Python-Basics.ipynb)\n",
    "\n",
    "### 3. Plotting in Python\n",
    "- [Plotting Basics](./book/1_python_zero2hero/3_plotting.md)\n",
    "  - [Matplotlib Basics](./book/1_python_zero2hero/3_plotting/15-Matplotlib.ipynb)\n",
    "  - [Further Plotting](./book/1_python_zero2hero/3_plotting/17-Futher-plotting.ipynb)\n",
    "  - [Functions and Global Variables in Plotting](./book/1_python_zero2hero/3_plotting/functions_global_variables.ipynb)"
   ]
  }
 ],
 "metadata": {
  "kernelspec": {
   "display_name": "Python 3",
   "language": "python",
   "name": "python3"
  },
  "language_info": {
   "codemirror_mode": {
    "name": "ipython",
    "version": 3
   },
   "file_extension": ".py",
   "mimetype": "text/x-python",
   "name": "python",
   "nbconvert_exporter": "python",
   "pygments_lexer": "ipython3",
   "version": "3.12.9"
  }
 },
 "nbformat": 4,
 "nbformat_minor": 2
}
