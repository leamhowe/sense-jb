{
 "cells": [
  {
   "cell_type": "markdown",
   "metadata": {},
   "source": [
    "(structure:index)=\n",
    "# 3 - GEE Python\n",
    "\n",
    "Using Google Earth Engine (GEE) in Python.\n",
    "\n",
    "## Table of contents\n",
    "\n",
    "```{tableofcontents}\n",
    "```"
   ]
  }
 ],
 "metadata": {
  "language_info": {
   "name": "python"
  }
 },
 "nbformat": 4,
 "nbformat_minor": 2
}
