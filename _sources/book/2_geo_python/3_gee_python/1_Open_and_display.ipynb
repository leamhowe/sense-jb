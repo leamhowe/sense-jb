{
 "cells": [
  {
   "cell_type": "markdown",
   "metadata": {
    "colab_type": "text",
    "id": "gL1R2F6wbaej"
   },
   "source": [
    "# Google Earth Engine: JavaScript, but Python"
   ]
  },
  {
   "cell_type": "markdown",
   "metadata": {
    "colab_type": "text",
    "id": "XPveyQEHt-Hj"
   },
   "source": [
    "[Google Earth Engine (GEE)](https://earthengine.google.com/) is an online tool that combines a huge catalogue of satellite imagery and other geospatial datasets with Google's processing capabilities to reduce processes that before would take days to only seconds.  "
   ]
  },
  {
   "cell_type": "markdown",
   "metadata": {
    "colab_type": "text",
    "id": "tgjlYZh9uxyT"
   },
   "source": [
    "GEE API (Application Programming Interface) is available in JavaScript (the original one) and Python.\n",
    "\n",
    "\n",
    "\n"
   ]
  },
  {
   "cell_type": "markdown",
   "metadata": {
    "colab_type": "text",
    "id": "3JjaUWYQx9WT"
   },
   "source": [
    "The GEE JavaScript API is available through the [Code Editor](https://code.earthengine.google.com/#workspace), and while it is very useful to get started with GEE, it is limited in terms of processing power (time limitations, slower).\n",
    "\n",
    "\n",
    "The GEE Python API can be loaded via a library (`ee`), and combines the power of Python with everything else you can do via the JavaScript API. \n",
    "\n",
    "\n",
    "\n"
   ]
  },
  {
   "cell_type": "markdown",
   "metadata": {
    "colab_type": "text",
    "id": "edVdlkwAyAAo"
   },
   "source": [
    "The only \"issue\" with the Python API: ALL of the GEE [documentation](https://developers.google.com/earth-engine/) and [tutorials](https://developers.google.com/earth-engine/tutorials) are developed in JavaScript!!\n",
    "\n",
    "\n"
   ]
  },
  {
   "cell_type": "markdown",
   "metadata": {
    "colab_type": "text",
    "id": "_Uqn6xPayCDn"
   },
   "source": [
    "Which means there are two possible routes:\n",
    "\n",
    "\n",
    "1.   The painful one (the one I took): learn everything in JavaScript and THEN transfer to Python (NOT RECOMMENDED!).\n",
    "2.   The sensible one, but slower: to learn the Pythonic way from the start.\n",
    "\n",
    "We are only going to use Python in this course, but it is very useful to have all the documentation,e ven if it is JavaScript, as we can see how things are done and translate them!"
   ]
  },
  {
   "cell_type": "markdown",
   "metadata": {
    "colab_type": "text",
    "id": "jeGcIW_pbaeq"
   },
   "source": [
    "Note: we are going to jump directly to Python, but here we show how some things can be expressed in JavaScript and their equivalent in Python. And remember, if you want to use the [GEE online code editor](https://code.earthengine.google.com/), it has to be JavaScript style! \n",
    "\n",
    "I recommend working from Google Colab (using Google's cloud computing services for free!!) and the GEE Python API from the start.\n",
    "\n",
    "We are using the GEE Guides, but online you will find them in JavaScript, while here we have the Python version. You should go through the GEE guides and tutorials in your own time, and try to transfer to Python for consistency."
   ]
  },
  {
   "cell_type": "markdown",
   "metadata": {
    "colab_type": "text",
    "id": "Kn73Tk6zbaer"
   },
   "source": [
    "## `Maps` warning!"
   ]
  },
  {
   "cell_type": "markdown",
   "metadata": {
    "colab_type": "text",
    "id": "V9aRkeXQwyea"
   },
   "source": [
    "The GEE JavaScript does not allow loops or conditionals. Instead, you will have to use the `Map` function. This is a huge limitation , particularly when we want to work with satellite data and other big datasets, machine learning applications, etc.\n",
    "\n",
    "Keep that in mind if you use the GEE Code Editor."
   ]
  },
  {
   "cell_type": "markdown",
   "metadata": {
    "colab_type": "text",
    "id": "oBWGt04Gbaer"
   },
   "source": [
    "# Some basic GEE concepts"
   ]
  },
  {
   "cell_type": "markdown",
   "metadata": {
    "colab_type": "text",
    "id": "2t4mjQ_ibaes"
   },
   "source": [
    "Import the GEE API:"
   ]
  },
  {
   "cell_type": "code",
   "execution_count": 1,
   "metadata": {
    "colab": {},
    "colab_type": "code",
    "id": "_YVPmI6Sbaes"
   },
   "outputs": [],
   "source": [
    "import ee"
   ]
  },
  {
   "cell_type": "markdown",
   "metadata": {
    "colab_type": "text",
    "id": "9EpYa9srbaex"
   },
   "source": [
    "Authenticate and initialise:"
   ]
  },
  {
   "cell_type": "code",
   "execution_count": 2,
   "metadata": {
    "colab": {},
    "colab_type": "code",
    "id": "i546YYi7baex"
   },
   "outputs": [],
   "source": [
    "# Trigger the authentication flow.\n",
    "ee.Authenticate()\n",
    "\n",
    "# Initialize the library.\n",
    "ee.Initialize()"
   ]
  },
  {
   "cell_type": "markdown",
   "metadata": {
    "colab_type": "text",
    "id": "iazv9chVbae1"
   },
   "source": [
    "## Image constructor: ee.Image"
   ]
  },
  {
   "cell_type": "markdown",
   "metadata": {
    "colab_type": "text",
    "id": "xcXAzeJPbae1"
   },
   "source": [
    "Raster data is represented as Image objects in Earth Engine. \n",
    "\n",
    "Images are composed of one or more bands and each band has its own name, data type, scale, mask and projection. Each image has metadata stored as a set of properties."
   ]
  },
  {
   "cell_type": "markdown",
   "metadata": {
    "colab_type": "text",
    "id": "1ZDY0Gbqbae2"
   },
   "source": [
    "Images can be loaded by pasting an Earth Engine asset ID into the ee.Image constructor. You can find image IDs in the data catalog. For example, to load JAXA's ALOS DSM:"
   ]
  },
  {
   "cell_type": "code",
   "execution_count": 3,
   "metadata": {
    "colab": {},
    "colab_type": "code",
    "id": "7UuLCFtvbae3"
   },
   "outputs": [
    {
     "name": "stderr",
     "output_type": "stream",
     "text": [
      "/exports/csce/datastore/geos/users/s2112771/miniforge3/envs/sensebook/lib/python3.12/site-packages/ee/deprecation.py:207: DeprecationWarning: \n",
      "\n",
      "Attention required for JAXA/ALOS/AW3D30/V2_2! You are using a deprecated asset.\n",
      "To make sure your code keeps working, please update it.\n",
      "Learn more: https://developers.google.com/earth-engine/datasets/catalog/JAXA_ALOS_AW3D30_V2_2\n",
      "\n",
      "  warnings.warn(warning, category=DeprecationWarning)\n"
     ]
    }
   ],
   "source": [
    "loadedImage = ee.Image('JAXA/ALOS/AW3D30/V2_2')"
   ]
  },
  {
   "cell_type": "markdown",
   "metadata": {
    "colab_type": "text",
    "id": "K0z-m9QEbae6"
   },
   "source": [
    "Note that finding an image through the GEE Code Editor search tool is equivalent. When you import the asset, the image construction code is written for you in the imports section of the Code Editor. You can also use the asset ID (bottom left when you search online)."
   ]
  },
  {
   "cell_type": "markdown",
   "metadata": {
    "colab_type": "text",
    "id": "4PVvYPh7bae8"
   },
   "source": [
    "## Visualising images and image bands"
   ]
  },
  {
   "cell_type": "markdown",
   "metadata": {
    "colab_type": "text",
    "id": "1K4XOEbkbae9"
   },
   "source": [
    "## Get an ee.Image from an ee.ImageCollection"
   ]
  },
  {
   "cell_type": "markdown",
   "metadata": {
    "colab_type": "text",
    "id": "IISMM_i2bae9"
   },
   "source": [
    "The standard way to get an image out of a collection is to load the collection, filter the collection, with filters in order of decreasing specificity. For example, to get an image out of the Sentinel-2 surface reflectance collection (level 2A):"
   ]
  },
  {
   "cell_type": "code",
   "execution_count": 4,
   "metadata": {
    "colab": {},
    "colab_type": "code",
    "id": "8VOcTyySbafB"
   },
   "outputs": [
    {
     "name": "stderr",
     "output_type": "stream",
     "text": [
      "/exports/csce/datastore/geos/users/s2112771/miniforge3/envs/sensebook/lib/python3.12/site-packages/ee/deprecation.py:207: DeprecationWarning: \n",
      "\n",
      "Attention required for COPERNICUS/S2_SR! You are using a deprecated asset.\n",
      "To make sure your code keeps working, please update it.\n",
      "Learn more: https://developers.google.com/earth-engine/datasets/catalog/COPERNICUS_S2_SR\n",
      "\n",
      "  warnings.warn(warning, category=DeprecationWarning)\n"
     ]
    }
   ],
   "source": [
    "# Image near Acra (Ghana)\n",
    "first = ee.ImageCollection('COPERNICUS/S2_SR').filterBounds(ee.Geometry.Point(0, 6)).filterDate('2019-01-01', '2019-12-31').sort('CLOUDY_PIXEL_PERCENTAGE').first()      "
   ]
  },
  {
   "cell_type": "markdown",
   "metadata": {
    "colab_type": "text",
    "id": "TbMnMe1xgTR7"
   },
   "source": [
    "## Display static image"
   ]
  },
  {
   "cell_type": "code",
   "execution_count": 5,
   "metadata": {
    "colab": {},
    "colab_type": "code",
    "id": "dxYeYJ4RgZuL"
   },
   "outputs": [
    {
     "data": {
      "text/html": [
       "<img src=\"https://earthengine.googleapis.com/v1/projects/522364178051/thumbnails/0b86cab7904fb25b76a50dc70aaa2964-434163318343e7bc95317bf99c16c8d2:getPixels\"/>"
      ],
      "text/plain": [
       "<IPython.core.display.Image object>"
      ]
     },
     "execution_count": 5,
     "metadata": {},
     "output_type": "execute_result"
    }
   ],
   "source": [
    "from IPython.display import Image\n",
    "\n",
    "Image(url=first.getThumbUrl({'min': 0, 'max': 2000, 'bands':['B4','B3','B2'],'dimensions': 512}))"
   ]
  },
  {
   "cell_type": "markdown",
   "metadata": {
    "colab_type": "text",
    "id": "xBJ0OPqVbafI"
   },
   "source": [
    "## Constant images"
   ]
  },
  {
   "cell_type": "markdown",
   "metadata": {
    "colab_type": "text",
    "id": "hL_ATfsP_hOp"
   },
   "source": [
    "In addition to loading images by ID, you can also create images from constants, lists or other suitable Earth Engine objects. The following illustrates methods for creating images, getting band subsets, and manipulating bands:"
   ]
  },
  {
   "cell_type": "code",
   "execution_count": 6,
   "metadata": {
    "colab": {},
    "colab_type": "code",
    "id": "idyAOXkr_kfi"
   },
   "outputs": [
    {
     "name": "stdout",
     "output_type": "stream",
     "text": [
      "image1: {'type': 'Image', 'bands': [{'id': 'constant', 'data_type': {'type': 'PixelType', 'precision': 'int', 'min': 1, 'max': 1}, 'crs': 'EPSG:4326', 'crs_transform': [1, 0, 0, 0, 1, 0]}]}\n",
      "image3: {'type': 'Image', 'bands': [{'id': 'constant', 'data_type': {'type': 'PixelType', 'precision': 'int', 'min': 1, 'max': 1}, 'crs': 'EPSG:4326', 'crs_transform': [1, 0, 0, 0, 1, 0]}, {'id': 'constant_1', 'data_type': {'type': 'PixelType', 'precision': 'int', 'min': 2, 'max': 2}, 'crs': 'EPSG:4326', 'crs_transform': [1, 0, 0, 0, 1, 0]}]}\n",
      "mutiband: {'type': 'Image', 'bands': [{'id': 'constant', 'data_type': {'type': 'PixelType', 'precision': 'int', 'min': 1, 'max': 1}, 'crs': 'EPSG:4326', 'crs_transform': [1, 0, 0, 0, 1, 0]}, {'id': 'constant_1', 'data_type': {'type': 'PixelType', 'precision': 'int', 'min': 2, 'max': 2}, 'crs': 'EPSG:4326', 'crs_transform': [1, 0, 0, 0, 1, 0]}, {'id': 'constant_2', 'data_type': {'type': 'PixelType', 'precision': 'int', 'min': 3, 'max': 3}, 'crs': 'EPSG:4326', 'crs_transform': [1, 0, 0, 0, 1, 0]}]}\n",
      "renamed: {'type': 'Image', 'bands': [{'id': 'band1', 'data_type': {'type': 'PixelType', 'precision': 'int', 'min': 1, 'max': 1}, 'crs': 'EPSG:4326', 'crs_transform': [1, 0, 0, 0, 1, 0]}, {'id': 'band2', 'data_type': {'type': 'PixelType', 'precision': 'int', 'min': 2, 'max': 2}, 'crs': 'EPSG:4326', 'crs_transform': [1, 0, 0, 0, 1, 0]}, {'id': 'band3', 'data_type': {'type': 'PixelType', 'precision': 'int', 'min': 3, 'max': 3}, 'crs': 'EPSG:4326', 'crs_transform': [1, 0, 0, 0, 1, 0]}]}\n",
      "image4: {'type': 'Image', 'bands': [{'id': 'constant', 'data_type': {'type': 'PixelType', 'precision': 'int', 'min': 1, 'max': 1}, 'crs': 'EPSG:4326', 'crs_transform': [1, 0, 0, 0, 1, 0]}, {'id': 'constant_1', 'data_type': {'type': 'PixelType', 'precision': 'int', 'min': 2, 'max': 2}, 'crs': 'EPSG:4326', 'crs_transform': [1, 0, 0, 0, 1, 0]}, {'id': 'constant_2', 'data_type': {'type': 'PixelType', 'precision': 'int', 'min': 42, 'max': 42}, 'crs': 'EPSG:4326', 'crs_transform': [1, 0, 0, 0, 1, 0]}]}\n"
     ]
    }
   ],
   "source": [
    "# Create a constant image\n",
    "image1 = ee.Image(1)\n",
    "print(\"image1:\",image1.getInfo())\n",
    "\n",
    "# Concatenate two images into one multi-band image.\n",
    "image2 = ee.Image(2)\n",
    "image3 = ee.Image.cat([image1, image2])\n",
    "print(\"image3:\",image3.getInfo())\n",
    "\n",
    "# Create a multi-band image from a list of constants.\n",
    "multiband = ee.Image([1, 2, 3]);\n",
    "print(\"mutiband:\",multiband.getInfo())\n",
    "\n",
    "# Select and (optionally) rename bands.\n",
    "renamed = multiband.select(['constant', 'constant_1', 'constant_2'],['band1', 'band2', 'band3'])\n",
    "print(\"renamed:\",renamed.getInfo())\n",
    "\n",
    "# Add bands to an image.\n",
    "image4 = image3.addBands(ee.Image(42))\n",
    "print(\"image4:\",image4.getInfo())"
   ]
  },
  {
   "cell_type": "markdown",
   "metadata": {
    "colab_type": "text",
    "id": "oO_dJ6ARbafI"
   },
   "source": [
    "## RGB composites"
   ]
  },
  {
   "cell_type": "markdown",
   "metadata": {
    "colab_type": "text",
    "id": "eRDAzM4EP2Rq"
   },
   "source": [
    "The following illustrates the use of parameters to style a Landsat 8 image as a false-color composite:"
   ]
  },
  {
   "cell_type": "code",
   "execution_count": 8,
   "metadata": {
    "colab": {},
    "colab_type": "code",
    "id": "HlPvaEKNP3_o"
   },
   "outputs": [
    {
     "data": {
      "text/html": [
       "<img src=\"https://earthengine.googleapis.com/v1/projects/522364178051/thumbnails/6e863837d788c18002d0297ca4bda656-b26c3b2621a0d730b7372fa38116aa85:getPixels\"/>"
      ],
      "text/plain": [
       "<IPython.core.display.Image object>"
      ]
     },
     "execution_count": 8,
     "metadata": {},
     "output_type": "execute_result"
    }
   ],
   "source": [
    "# Load an image.\n",
    "image = ee.Image('LANDSAT/LC08/C02/T1_TOA/LC08_044034_20140318')\n",
    "\n",
    "# ANOTHER WAY TO DO IT\n",
    "#Define the visualization parameters.\n",
    "#vizParams = {'min': 0,  'max': 0.5,  'gamma': [0.95, 1.1, 1]}\n",
    "#import ee.mapclient\n",
    "#ee.mapclient.centerMap(-122.1899, 37.5010, 9) # San Francisco Bay\n",
    "#ee.mapclient.addToMap(image.select('B5','B4','B3'), vizParams, 'False colour composite')\n",
    "\n",
    "# Display the image normally.\n",
    "Image(url=image.getThumbUrl({'bands':['B5','B4','B3'],'min': 0,  'max': 0.5,'dimensions': 512}))"
   ]
  },
  {
   "cell_type": "markdown",
   "metadata": {
    "colab_type": "text",
    "id": "9flOTebeWEym"
   },
   "source": [
    "In this example, band ‘B5’ (NIR) is assigned to red, ‘B4’ (Red) is assigned to green, and ‘B3’ (Green) is assigned to blue, creating the false colour composite.\n",
    "\n",
    "False color composites allow us to visualize the wavelengths the human eye does not see (near the infrared range). The use of bands, such as near infrared, increases spectral separation and can enhance the interpretability of data. "
   ]
  },
  {
   "cell_type": "markdown",
   "metadata": {
    "colab_type": "text",
    "id": "2OJ0omUvbafJ"
   },
   "source": [
    "## Colour palettes"
   ]
  },
  {
   "cell_type": "markdown",
   "metadata": {
    "colab_type": "text",
    "id": "ZY1KhAAOWrJE"
   },
   "source": [
    "To display a single band of an image in colour, set the palette parameter with a colour ramp represented by a list of CSS-style color strings.\n",
    "\n",
    "The following example illustrates how to use colors from cyan (‘00FFFF’) to blue (‘0000FF’) to render a Normalized Difference Water Index (NDWI) image:"
   ]
  },
  {
   "cell_type": "code",
   "execution_count": 9,
   "metadata": {
    "colab": {},
    "colab_type": "code",
    "id": "nNDYEY-gW8nV"
   },
   "outputs": [
    {
     "data": {
      "text/html": [
       "<img src=\"https://earthengine.googleapis.com/v1/projects/522364178051/thumbnails/a92e7bcdeba1b20eed8f6e4229fdb97e-a75aa9e1bbf6512d4a3432e073a2e09e:getPixels\"/>"
      ],
      "text/plain": [
       "<IPython.core.display.Image object>"
      ]
     },
     "execution_count": 9,
     "metadata": {},
     "output_type": "execute_result"
    }
   ],
   "source": [
    "# Create an NDWI image from previous image, define visualization parameters and display\n",
    "ndwi = image.normalizedDifference(['B3', 'B5'])\n",
    "\n",
    "Image(url=ndwi.getThumbUrl({'min': 0.5, 'max': 1, 'palette': ['00FFFF', '0000FF'],'dimensions': 512}))"
   ]
  },
  {
   "cell_type": "markdown",
   "metadata": {
    "colab_type": "text",
    "id": "I_DajMbbXj3Q"
   },
   "source": [
    "In this example, note that the min and max parameters indicate the range of pixel values to which the palette should be applied. Intermediate values are linearly stretched."
   ]
  },
  {
   "cell_type": "markdown",
   "metadata": {
    "colab_type": "text",
    "id": "Y4SA26uEbafJ"
   },
   "source": [
    "## Masking"
   ]
  },
  {
   "cell_type": "markdown",
   "metadata": {
    "colab_type": "text",
    "id": "PkKrEHZAX03c"
   },
   "source": [
    "You can use image.updateMask() to set the opacity of individual pixels based on where pixels in a mask image are non-zero. Pixels equal to zero in the mask are excluded from computations and the opacity is set to 0 for display. The following example uses an NDWI threshold to update the mask on the NDWI layer created previously:"
   ]
  },
  {
   "cell_type": "code",
   "execution_count": 10,
   "metadata": {
    "colab": {},
    "colab_type": "code",
    "id": "cojQTML8X5yt"
   },
   "outputs": [
    {
     "data": {
      "text/html": [
       "<img src=\"https://earthengine.googleapis.com/v1/projects/522364178051/thumbnails/6c138680b5c2f042fa4b98da55cf9cbf-86b5020991492ecdd3720f4e5341abf8:getPixels\"/>"
      ],
      "text/plain": [
       "<IPython.core.display.Image object>"
      ]
     },
     "execution_count": 10,
     "metadata": {},
     "output_type": "execute_result"
    }
   ],
   "source": [
    "# Mask the non-watery parts of the image, where NDWI < 0.4\n",
    "ndwiMasked = ndwi.updateMask(ndwi.gte(0.4))\n",
    "Image(url=ndwiMasked.getThumbUrl({'min': 0.5, 'max': 1, 'palette': ['00FFFF', '0000FF'],'dimensions': 512}))"
   ]
  },
  {
   "cell_type": "markdown",
   "metadata": {
    "colab_type": "text",
    "id": "dJYpKlp4bafK"
   },
   "source": [
    "## Mosaicking"
   ]
  },
  {
   "cell_type": "markdown",
   "metadata": {
    "colab_type": "text",
    "id": "MjkqWVOGYxhG"
   },
   "source": [
    "You can use masking and `imageCollection.mosaic()` to achieve various cartographic effects. The `mosaic()` method renders layers in the output image according to their order in the input collection. The following example uses `mosaic()` to combine the masked NDWI and the false color composite and obtain a new visualization:"
   ]
  },
  {
   "cell_type": "code",
   "execution_count": 11,
   "metadata": {
    "colab": {},
    "colab_type": "code",
    "id": "NoL3P47rY_GE"
   },
   "outputs": [],
   "source": [
    "# Mosaic the layers and display \n",
    "# Load the least cloudy image of 2015 image in Acra (Ghana)\n",
    "next = ee.ImageCollection('COPERNICUS/S2_SR').filterBounds(ee.Geometry.Point(0.9, 6)).filterDate('2019-01-01', '2019-01-31').sort('CLOUDY_PIXEL_PERCENTAGE').first()    \n",
    "\n",
    "mosaic = ee.ImageCollection([first, next]).mosaic()"
   ]
  },
  {
   "cell_type": "code",
   "execution_count": 12,
   "metadata": {
    "colab": {},
    "colab_type": "code",
    "id": "-lou2oRp0kTy"
   },
   "outputs": [
    {
     "data": {
      "text/html": [
       "<div style=\"width:100%;\"><div style=\"position:relative;width:100%;height:0;padding-bottom:60%;\"><span style=\"color:#565656\">Make this Notebook Trusted to load map: File -> Trust Notebook</span><iframe srcdoc=\"&lt;!DOCTYPE html&gt;\n",
       "&lt;html&gt;\n",
       "&lt;head&gt;\n",
       "    \n",
       "    &lt;meta http-equiv=&quot;content-type&quot; content=&quot;text/html; charset=UTF-8&quot; /&gt;\n",
       "    \n",
       "        &lt;script&gt;\n",
       "            L_NO_TOUCH = false;\n",
       "            L_DISABLE_3D = false;\n",
       "        &lt;/script&gt;\n",
       "    \n",
       "    &lt;style&gt;html, body {width: 100%;height: 100%;margin: 0;padding: 0;}&lt;/style&gt;\n",
       "    &lt;style&gt;#map {position:absolute;top:0;bottom:0;right:0;left:0;}&lt;/style&gt;\n",
       "    &lt;script src=&quot;https://cdn.jsdelivr.net/npm/leaflet@1.9.3/dist/leaflet.js&quot;&gt;&lt;/script&gt;\n",
       "    &lt;script src=&quot;https://code.jquery.com/jquery-3.7.1.min.js&quot;&gt;&lt;/script&gt;\n",
       "    &lt;script src=&quot;https://cdn.jsdelivr.net/npm/bootstrap@5.2.2/dist/js/bootstrap.bundle.min.js&quot;&gt;&lt;/script&gt;\n",
       "    &lt;script src=&quot;https://cdnjs.cloudflare.com/ajax/libs/Leaflet.awesome-markers/2.0.2/leaflet.awesome-markers.js&quot;&gt;&lt;/script&gt;\n",
       "    &lt;link rel=&quot;stylesheet&quot; href=&quot;https://cdn.jsdelivr.net/npm/leaflet@1.9.3/dist/leaflet.css&quot;/&gt;\n",
       "    &lt;link rel=&quot;stylesheet&quot; href=&quot;https://cdn.jsdelivr.net/npm/bootstrap@5.2.2/dist/css/bootstrap.min.css&quot;/&gt;\n",
       "    &lt;link rel=&quot;stylesheet&quot; href=&quot;https://netdna.bootstrapcdn.com/bootstrap/3.0.0/css/bootstrap-glyphicons.css&quot;/&gt;\n",
       "    &lt;link rel=&quot;stylesheet&quot; href=&quot;https://cdn.jsdelivr.net/npm/@fortawesome/fontawesome-free@6.2.0/css/all.min.css&quot;/&gt;\n",
       "    &lt;link rel=&quot;stylesheet&quot; href=&quot;https://cdnjs.cloudflare.com/ajax/libs/Leaflet.awesome-markers/2.0.2/leaflet.awesome-markers.css&quot;/&gt;\n",
       "    &lt;link rel=&quot;stylesheet&quot; href=&quot;https://cdn.jsdelivr.net/gh/python-visualization/folium/folium/templates/leaflet.awesome.rotate.min.css&quot;/&gt;\n",
       "    \n",
       "            &lt;meta name=&quot;viewport&quot; content=&quot;width=device-width,\n",
       "                initial-scale=1.0, maximum-scale=1.0, user-scalable=no&quot; /&gt;\n",
       "            &lt;style&gt;\n",
       "                #map_d7f631dfd863b1c07ba7f188f762a621 {\n",
       "                    position: relative;\n",
       "                    width: 100.0%;\n",
       "                    height: 100.0%;\n",
       "                    left: 0.0%;\n",
       "                    top: 0.0%;\n",
       "                }\n",
       "                .leaflet-container { font-size: 1rem; }\n",
       "            &lt;/style&gt;\n",
       "        \n",
       "&lt;/head&gt;\n",
       "&lt;body&gt;\n",
       "    \n",
       "    \n",
       "            &lt;div class=&quot;folium-map&quot; id=&quot;map_d7f631dfd863b1c07ba7f188f762a621&quot; &gt;&lt;/div&gt;\n",
       "        \n",
       "&lt;/body&gt;\n",
       "&lt;script&gt;\n",
       "    \n",
       "    \n",
       "            var map_d7f631dfd863b1c07ba7f188f762a621 = L.map(\n",
       "                &quot;map_d7f631dfd863b1c07ba7f188f762a621&quot;,\n",
       "                {\n",
       "                    center: [6.0, 0.9],\n",
       "                    crs: L.CRS.EPSG3857,\n",
       "                    ...{\n",
       "  &quot;zoom&quot;: 9,\n",
       "  &quot;zoomControl&quot;: true,\n",
       "  &quot;preferCanvas&quot;: false,\n",
       "}\n",
       "\n",
       "                }\n",
       "            );\n",
       "\n",
       "            \n",
       "\n",
       "        \n",
       "    \n",
       "            var tile_layer_ec7980efcf2b181ea153d417c5051f4e = L.tileLayer(\n",
       "                &quot;https://tile.openstreetmap.org/{z}/{x}/{y}.png&quot;,\n",
       "                {\n",
       "  &quot;minZoom&quot;: 0,\n",
       "  &quot;maxZoom&quot;: 19,\n",
       "  &quot;maxNativeZoom&quot;: 19,\n",
       "  &quot;noWrap&quot;: false,\n",
       "  &quot;attribution&quot;: &quot;\\u0026copy; \\u003ca href=\\&quot;https://www.openstreetmap.org/copyright\\&quot;\\u003eOpenStreetMap\\u003c/a\\u003e contributors&quot;,\n",
       "  &quot;subdomains&quot;: &quot;abc&quot;,\n",
       "  &quot;detectRetina&quot;: false,\n",
       "  &quot;tms&quot;: false,\n",
       "  &quot;opacity&quot;: 1,\n",
       "}\n",
       "\n",
       "            );\n",
       "        \n",
       "    \n",
       "            tile_layer_ec7980efcf2b181ea153d417c5051f4e.addTo(map_d7f631dfd863b1c07ba7f188f762a621);\n",
       "        \n",
       "    \n",
       "            var tile_layer_ddace468881fd9a561549efd4c333d69 = L.tileLayer(\n",
       "                &quot;https://earthengine.googleapis.com/v1/projects/522364178051/maps/d675a17e7e738a2d2a7c46fe4518b63a-788df93ac05684186d6fd115cf0bc578/tiles/{z}/{x}/{y}&quot;,\n",
       "                {\n",
       "  &quot;minZoom&quot;: 0,\n",
       "  &quot;maxZoom&quot;: 18,\n",
       "  &quot;maxNativeZoom&quot;: 18,\n",
       "  &quot;noWrap&quot;: false,\n",
       "  &quot;attribution&quot;: &quot;Google Earth Engine&quot;,\n",
       "  &quot;subdomains&quot;: &quot;abc&quot;,\n",
       "  &quot;detectRetina&quot;: false,\n",
       "  &quot;tms&quot;: false,\n",
       "  &quot;opacity&quot;: 1,\n",
       "}\n",
       "\n",
       "            );\n",
       "        \n",
       "    \n",
       "            tile_layer_ddace468881fd9a561549efd4c333d69.addTo(map_d7f631dfd863b1c07ba7f188f762a621);\n",
       "        \n",
       "&lt;/script&gt;\n",
       "&lt;/html&gt;\" style=\"position:absolute;width:100%;height:100%;left:0;top:0;border:none !important;\" allowfullscreen webkitallowfullscreen mozallowfullscreen></iframe></div></div>"
      ],
      "text/plain": [
       "<folium.folium.Map at 0x71c9bfac7c20>"
      ]
     },
     "execution_count": 12,
     "metadata": {},
     "output_type": "execute_result"
    }
   ],
   "source": [
    "import folium\n",
    "#!pip install geehydro # Life saver for plotting GEE stuff with Python!\n",
    "import geehydro\n",
    "\n",
    "\n",
    "# Use folium to visualize the imagery.\n",
    "map = folium.Map(location=[6,0.9],zoom_start=9)\n",
    "#map.setOptions('HYBRID') # To see GE map underneath\n",
    "\n",
    "map.addLayer(mosaic, {'min': 0, 'max': 2000, 'bands':['B4','B3','B2']}, 'mosaic')\n",
    "\n",
    "map"
   ]
  },
  {
   "cell_type": "markdown",
   "metadata": {
    "colab_type": "text",
    "id": "68VT0FPibafK"
   },
   "source": [
    "## Clipping"
   ]
  },
  {
   "cell_type": "markdown",
   "metadata": {
    "colab_type": "text",
    "id": "mF1AW7KGzHNM"
   },
   "source": [
    "The `image.clip()` method is useful for achieving cartographic effects. The following example clips the mosaic built in the previous section to an arbitrary buffer zone:"
   ]
  },
  {
   "cell_type": "code",
   "execution_count": 13,
   "metadata": {
    "colab": {},
    "colab_type": "code",
    "id": "fKuTDP7DzWyI"
   },
   "outputs": [
    {
     "data": {
      "text/html": [
       "<div style=\"width:100%;\"><div style=\"position:relative;width:100%;height:0;padding-bottom:60%;\"><span style=\"color:#565656\">Make this Notebook Trusted to load map: File -> Trust Notebook</span><iframe srcdoc=\"&lt;!DOCTYPE html&gt;\n",
       "&lt;html&gt;\n",
       "&lt;head&gt;\n",
       "    \n",
       "    &lt;meta http-equiv=&quot;content-type&quot; content=&quot;text/html; charset=UTF-8&quot; /&gt;\n",
       "    \n",
       "        &lt;script&gt;\n",
       "            L_NO_TOUCH = false;\n",
       "            L_DISABLE_3D = false;\n",
       "        &lt;/script&gt;\n",
       "    \n",
       "    &lt;style&gt;html, body {width: 100%;height: 100%;margin: 0;padding: 0;}&lt;/style&gt;\n",
       "    &lt;style&gt;#map {position:absolute;top:0;bottom:0;right:0;left:0;}&lt;/style&gt;\n",
       "    &lt;script src=&quot;https://cdn.jsdelivr.net/npm/leaflet@1.9.3/dist/leaflet.js&quot;&gt;&lt;/script&gt;\n",
       "    &lt;script src=&quot;https://code.jquery.com/jquery-3.7.1.min.js&quot;&gt;&lt;/script&gt;\n",
       "    &lt;script src=&quot;https://cdn.jsdelivr.net/npm/bootstrap@5.2.2/dist/js/bootstrap.bundle.min.js&quot;&gt;&lt;/script&gt;\n",
       "    &lt;script src=&quot;https://cdnjs.cloudflare.com/ajax/libs/Leaflet.awesome-markers/2.0.2/leaflet.awesome-markers.js&quot;&gt;&lt;/script&gt;\n",
       "    &lt;link rel=&quot;stylesheet&quot; href=&quot;https://cdn.jsdelivr.net/npm/leaflet@1.9.3/dist/leaflet.css&quot;/&gt;\n",
       "    &lt;link rel=&quot;stylesheet&quot; href=&quot;https://cdn.jsdelivr.net/npm/bootstrap@5.2.2/dist/css/bootstrap.min.css&quot;/&gt;\n",
       "    &lt;link rel=&quot;stylesheet&quot; href=&quot;https://netdna.bootstrapcdn.com/bootstrap/3.0.0/css/bootstrap-glyphicons.css&quot;/&gt;\n",
       "    &lt;link rel=&quot;stylesheet&quot; href=&quot;https://cdn.jsdelivr.net/npm/@fortawesome/fontawesome-free@6.2.0/css/all.min.css&quot;/&gt;\n",
       "    &lt;link rel=&quot;stylesheet&quot; href=&quot;https://cdnjs.cloudflare.com/ajax/libs/Leaflet.awesome-markers/2.0.2/leaflet.awesome-markers.css&quot;/&gt;\n",
       "    &lt;link rel=&quot;stylesheet&quot; href=&quot;https://cdn.jsdelivr.net/gh/python-visualization/folium/folium/templates/leaflet.awesome.rotate.min.css&quot;/&gt;\n",
       "    \n",
       "            &lt;meta name=&quot;viewport&quot; content=&quot;width=device-width,\n",
       "                initial-scale=1.0, maximum-scale=1.0, user-scalable=no&quot; /&gt;\n",
       "            &lt;style&gt;\n",
       "                #map_d7f631dfd863b1c07ba7f188f762a621 {\n",
       "                    position: relative;\n",
       "                    width: 100.0%;\n",
       "                    height: 100.0%;\n",
       "                    left: 0.0%;\n",
       "                    top: 0.0%;\n",
       "                }\n",
       "                .leaflet-container { font-size: 1rem; }\n",
       "            &lt;/style&gt;\n",
       "        \n",
       "&lt;/head&gt;\n",
       "&lt;body&gt;\n",
       "    \n",
       "    \n",
       "            &lt;div class=&quot;folium-map&quot; id=&quot;map_d7f631dfd863b1c07ba7f188f762a621&quot; &gt;&lt;/div&gt;\n",
       "        \n",
       "&lt;/body&gt;\n",
       "&lt;script&gt;\n",
       "    \n",
       "    \n",
       "            var map_d7f631dfd863b1c07ba7f188f762a621 = L.map(\n",
       "                &quot;map_d7f631dfd863b1c07ba7f188f762a621&quot;,\n",
       "                {\n",
       "                    center: [6.0, 0.9],\n",
       "                    crs: L.CRS.EPSG3857,\n",
       "                    ...{\n",
       "  &quot;zoom&quot;: 9,\n",
       "  &quot;zoomControl&quot;: true,\n",
       "  &quot;preferCanvas&quot;: false,\n",
       "}\n",
       "\n",
       "                }\n",
       "            );\n",
       "\n",
       "            \n",
       "\n",
       "        \n",
       "    \n",
       "            var tile_layer_ec7980efcf2b181ea153d417c5051f4e = L.tileLayer(\n",
       "                &quot;https://tile.openstreetmap.org/{z}/{x}/{y}.png&quot;,\n",
       "                {\n",
       "  &quot;minZoom&quot;: 0,\n",
       "  &quot;maxZoom&quot;: 19,\n",
       "  &quot;maxNativeZoom&quot;: 19,\n",
       "  &quot;noWrap&quot;: false,\n",
       "  &quot;attribution&quot;: &quot;\\u0026copy; \\u003ca href=\\&quot;https://www.openstreetmap.org/copyright\\&quot;\\u003eOpenStreetMap\\u003c/a\\u003e contributors&quot;,\n",
       "  &quot;subdomains&quot;: &quot;abc&quot;,\n",
       "  &quot;detectRetina&quot;: false,\n",
       "  &quot;tms&quot;: false,\n",
       "  &quot;opacity&quot;: 1,\n",
       "}\n",
       "\n",
       "            );\n",
       "        \n",
       "    \n",
       "            tile_layer_ec7980efcf2b181ea153d417c5051f4e.addTo(map_d7f631dfd863b1c07ba7f188f762a621);\n",
       "        \n",
       "    \n",
       "            var tile_layer_ddace468881fd9a561549efd4c333d69 = L.tileLayer(\n",
       "                &quot;https://earthengine.googleapis.com/v1/projects/522364178051/maps/d675a17e7e738a2d2a7c46fe4518b63a-788df93ac05684186d6fd115cf0bc578/tiles/{z}/{x}/{y}&quot;,\n",
       "                {\n",
       "  &quot;minZoom&quot;: 0,\n",
       "  &quot;maxZoom&quot;: 18,\n",
       "  &quot;maxNativeZoom&quot;: 18,\n",
       "  &quot;noWrap&quot;: false,\n",
       "  &quot;attribution&quot;: &quot;Google Earth Engine&quot;,\n",
       "  &quot;subdomains&quot;: &quot;abc&quot;,\n",
       "  &quot;detectRetina&quot;: false,\n",
       "  &quot;tms&quot;: false,\n",
       "  &quot;opacity&quot;: 1,\n",
       "}\n",
       "\n",
       "            );\n",
       "        \n",
       "    \n",
       "            tile_layer_ddace468881fd9a561549efd4c333d69.addTo(map_d7f631dfd863b1c07ba7f188f762a621);\n",
       "        \n",
       "    \n",
       "            tile_layer_ec7980efcf2b181ea153d417c5051f4e.addTo(map_d7f631dfd863b1c07ba7f188f762a621);\n",
       "        \n",
       "    \n",
       "            tile_layer_ddace468881fd9a561549efd4c333d69.addTo(map_d7f631dfd863b1c07ba7f188f762a621);\n",
       "        \n",
       "    \n",
       "            var tile_layer_45b1412504983597686fe3c658621f18 = L.tileLayer(\n",
       "                &quot;https://earthengine.googleapis.com/v1/projects/522364178051/maps/3b7baf6ce3dd50743249ac6fad4d9906-2d2afff191e6f9190ab7fb4b891ce9e8/tiles/{z}/{x}/{y}&quot;,\n",
       "                {\n",
       "  &quot;minZoom&quot;: 0,\n",
       "  &quot;maxZoom&quot;: 18,\n",
       "  &quot;maxNativeZoom&quot;: 18,\n",
       "  &quot;noWrap&quot;: false,\n",
       "  &quot;attribution&quot;: &quot;Google Earth Engine&quot;,\n",
       "  &quot;subdomains&quot;: &quot;abc&quot;,\n",
       "  &quot;detectRetina&quot;: false,\n",
       "  &quot;tms&quot;: false,\n",
       "  &quot;opacity&quot;: 1,\n",
       "}\n",
       "\n",
       "            );\n",
       "        \n",
       "    \n",
       "            tile_layer_45b1412504983597686fe3c658621f18.addTo(map_d7f631dfd863b1c07ba7f188f762a621);\n",
       "        \n",
       "    \n",
       "            var layer_control_2572269a6d9c075afb6900cf5356a94c_layers = {\n",
       "                base_layers : {\n",
       "                    &quot;openstreetmap&quot; : tile_layer_ec7980efcf2b181ea153d417c5051f4e,\n",
       "                },\n",
       "                overlays :  {\n",
       "                    &quot;mosaic&quot; : tile_layer_ddace468881fd9a561549efd4c333d69,\n",
       "                    &quot;cropped&quot; : tile_layer_45b1412504983597686fe3c658621f18,\n",
       "                },\n",
       "            };\n",
       "            let layer_control_2572269a6d9c075afb6900cf5356a94c = L.control.layers(\n",
       "                layer_control_2572269a6d9c075afb6900cf5356a94c_layers.base_layers,\n",
       "                layer_control_2572269a6d9c075afb6900cf5356a94c_layers.overlays,\n",
       "                {\n",
       "  &quot;position&quot;: &quot;topright&quot;,\n",
       "  &quot;collapsed&quot;: true,\n",
       "  &quot;autoZIndex&quot;: true,\n",
       "}\n",
       "            ).addTo(map_d7f631dfd863b1c07ba7f188f762a621);\n",
       "\n",
       "        \n",
       "&lt;/script&gt;\n",
       "&lt;/html&gt;\" style=\"position:absolute;width:100%;height:100%;left:0;top:0;border:none !important;\" allowfullscreen webkitallowfullscreen mozallowfullscreen></iframe></div></div>"
      ],
      "text/plain": [
       "<folium.folium.Map at 0x71c9bfac7c20>"
      ]
     },
     "execution_count": 13,
     "metadata": {},
     "output_type": "execute_result"
    }
   ],
   "source": [
    "# Create a circle by drawing a 20,000 meter buffer around a point.\n",
    "roi = ee.Geometry.Point([0.3, 6]).buffer(20000)\n",
    "\n",
    "# Display a clipped version of the mosaic.\n",
    "map.addLayer(mosaic.clip(roi),{'min': 0, 'max': 2000, 'bands':['B4','B3','B2']},'cropped')\n",
    "# Adding layer control to be able to activate/deactivate layers\n",
    "folium.LayerControl().add_to(map)\n",
    "# Show me\n",
    "map"
   ]
  },
  {
   "cell_type": "markdown",
   "metadata": {
    "colab_type": "text",
    "id": "b5_cTHAcbafL"
   },
   "source": [
    "## Image information and metadata"
   ]
  },
  {
   "cell_type": "markdown",
   "metadata": {
    "colab_type": "text",
    "id": "K6l72ebK31dN"
   },
   "source": [
    "To explore image bands and properties in the Code Editor, print() the image and inspect the output."
   ]
  },
  {
   "cell_type": "code",
   "execution_count": 14,
   "metadata": {
    "colab": {},
    "colab_type": "code",
    "id": "D3DXXiOx3aM7"
   },
   "outputs": [
    {
     "name": "stdout",
     "output_type": "stream",
     "text": [
      "Band names: ['B1', 'B2', 'B3', 'B4', 'B5', 'B6', 'B7', 'B8', 'B9', 'B10', 'B11', 'QA_PIXEL', 'QA_RADSAT', 'SAA', 'SZA', 'VAA', 'VZA']\n",
      "Band 1 projection: {'type': 'Projection', 'crs': 'EPSG:32610', 'transform': [30, 0, 460785, 0, -30, 4264215]}\n",
      "Band 1 scale: 30\n",
      "Band 8 scale: 15\n",
      "Metadata properties: ['system:version', 'system:id', 'RADIANCE_MULT_BAND_5', 'RADIANCE_MULT_BAND_6', 'RADIANCE_MULT_BAND_3', 'RADIANCE_MULT_BAND_4', 'RADIANCE_MULT_BAND_1', 'RADIANCE_MULT_BAND_2', 'WRS_TYPE', 'K2_CONSTANT_BAND_11', 'K2_CONSTANT_BAND_10', 'system:footprint', 'REFLECTIVE_SAMPLES', 'SUN_AZIMUTH', 'DATA_SOURCE_TIRS_STRAY_LIGHT_CORRECTION', 'DATE_ACQUIRED', 'ELLIPSOID', 'STATION_ID', 'RESAMPLING_OPTION', 'ORIENTATION', 'WRS_ROW', 'RADIANCE_MULT_BAND_9', 'TARGET_WRS_ROW', 'RADIANCE_MULT_BAND_7', 'RADIANCE_MULT_BAND_8', 'IMAGE_QUALITY_TIRS', 'TRUNCATION_OLI', 'CLOUD_COVER', 'GEOMETRIC_RMSE_VERIFY', 'COLLECTION_CATEGORY', 'GRID_CELL_SIZE_REFLECTIVE', 'CLOUD_COVER_LAND', 'GEOMETRIC_RMSE_MODEL', 'COLLECTION_NUMBER', 'IMAGE_QUALITY_OLI', 'LANDSAT_SCENE_ID', 'WRS_PATH', 'PANCHROMATIC_SAMPLES', 'PANCHROMATIC_LINES', 'GEOMETRIC_RMSE_MODEL_Y', 'REFLECTIVE_LINES', 'GEOMETRIC_RMSE_MODEL_X', 'system:asset_size', 'system:index', 'DATA_SOURCE_ELEVATION', 'REFLECTANCE_ADD_BAND_1', 'REFLECTANCE_ADD_BAND_2', 'DATUM', 'REFLECTANCE_ADD_BAND_3', 'REFLECTANCE_ADD_BAND_4', 'REFLECTANCE_ADD_BAND_5', 'REFLECTANCE_ADD_BAND_6', 'REFLECTANCE_ADD_BAND_7', 'REFLECTANCE_ADD_BAND_8', 'GROUND_CONTROL_POINTS_VERSION', 'UTM_ZONE', 'system:time_end', 'LANDSAT_PRODUCT_ID', 'REFLECTANCE_ADD_BAND_9', 'GRID_CELL_SIZE_PANCHROMATIC', 'RADIANCE_ADD_BAND_4', 'REFLECTANCE_MULT_BAND_7', 'system:time_start', 'RADIANCE_ADD_BAND_5', 'REFLECTANCE_MULT_BAND_6', 'RADIANCE_ADD_BAND_6', 'REFLECTANCE_MULT_BAND_9', 'PROCESSING_SOFTWARE_VERSION', 'RADIANCE_ADD_BAND_7', 'REFLECTANCE_MULT_BAND_8', 'RADIANCE_ADD_BAND_1', 'RADIANCE_ADD_BAND_2', 'RADIANCE_ADD_BAND_3', 'REFLECTANCE_MULT_BAND_1', 'RADIANCE_ADD_BAND_8', 'REFLECTANCE_MULT_BAND_3', 'RADIANCE_ADD_BAND_9', 'REFLECTANCE_MULT_BAND_2', 'REFLECTANCE_MULT_BAND_5', 'REFLECTANCE_MULT_BAND_4', 'THERMAL_LINES', 'TIRS_SSM_POSITION_STATUS', 'GRID_CELL_SIZE_THERMAL', 'NADIR_OFFNADIR', 'RADIANCE_ADD_BAND_11', 'REQUEST_ID', 'EARTH_SUN_DISTANCE', 'TIRS_SSM_MODEL', 'SCENE_CENTER_TIME', 'SUN_ELEVATION', 'RADIANCE_ADD_BAND_10', 'ROLL_ANGLE', 'DATE_PRODUCT_GENERATED', 'K1_CONSTANT_BAND_10', 'SATURATION_BAND_1', 'SATURATION_BAND_2', 'SATURATION_BAND_3', 'SATURATION_BAND_4', 'SATURATION_BAND_5', 'MAP_PROJECTION', 'SATURATION_BAND_6', 'SENSOR_ID', 'SATURATION_BAND_7', 'K1_CONSTANT_BAND_11', 'SATURATION_BAND_8', 'SATURATION_BAND_9', 'TARGET_WRS_PATH', 'PROCESSING_LEVEL', 'RADIANCE_MULT_BAND_11', 'RADIANCE_MULT_BAND_10', 'GROUND_CONTROL_POINTS_MODEL', 'SPACECRAFT_ID', 'THERMAL_SAMPLES', 'GROUND_CONTROL_POINTS_VERIFY', 'system:bands', 'system:band_names']\n",
      "CLOUD_COVER: 0.06\n",
      "Timestamp: {'type': 'Date', 'value': 1395168392053}\n"
     ]
    }
   ],
   "source": [
    "#Get information about the bands as a list.\n",
    "bandNames = image.bandNames()\n",
    "print('Band names: '+str(bandNames.getInfo())) # ee.List of band names\n",
    "\n",
    "#Get projection information from band 1.\n",
    "b1proj = image.select('B1').projection()\n",
    "print('Band 1 projection: '+str(b1proj.getInfo())) # ee.Projection object\n",
    "\n",
    "#Get scale (in meters) information from band 1.\n",
    "b1scale = image.select('B1').projection().nominalScale()\n",
    "print('Band 1 scale: '+str(b1scale.getInfo())) # ee.Number\n",
    "\n",
    "#Note that different bands can have different projections and scale.\n",
    "b8scale = image.select('B8').projection().nominalScale()\n",
    "print('Band 8 scale: '+str(b8scale.getInfo())) # ee.Number\n",
    "\n",
    "#Get a list of all metadata properties.\n",
    "properties = image.propertyNames()\n",
    "print('Metadata properties: '+str(properties.getInfo())) # ee.List of metadata properties\n",
    "\n",
    "#Get a specific metadata property.\n",
    "cloudiness = image.get('CLOUD_COVER')\n",
    "print('CLOUD_COVER: '+str(cloudiness.getInfo())) # ee.Number\n",
    "\n",
    "#Get the timestamp and convert it to a date.\n",
    "date = ee.Date(image.get('system:time_start'))\n",
    "print('Timestamp: '+str(date.getInfo())) # ee.Date"
   ]
  },
  {
   "cell_type": "markdown",
   "metadata": {
    "colab_type": "text",
    "id": "EXS97OzBbafL"
   },
   "source": [
    "## Mathematical operators"
   ]
  },
  {
   "cell_type": "markdown",
   "metadata": {
    "colab_type": "text",
    "id": "BlUl4XVq4opG"
   },
   "source": [
    "Earth Engine supports many basic mathematical operators. They share some common features. Earth Engine performs math operations per pixel. When an operator is applied to an image, it's applied to each unmasked pixel of each band. In the case of operations on two images, the operation is only applied at the locations where pixels in both images are unmasked. Earth Engine automatically matches bands between images. When an operator is applied to two images, the images are expected to have the same number of bands so they can be matched pairwise. However, if one of the images has only a single band, it is matched with all of the bands in the other image, essentially replicating that band enough times to match the other image.\n",
    "\n",
    "For a simple example, consider the task of creating the Normalized Difference Vegetation Index (NDVI) using Landsat imagery:"
   ]
  },
  {
   "cell_type": "code",
   "execution_count": 15,
   "metadata": {
    "colab": {},
    "colab_type": "code",
    "id": "Z8-5JmMV4qos"
   },
   "outputs": [
    {
     "name": "stdout",
     "output_type": "stream",
     "text": [
      "NDVI 1999\n",
      "{'bands': [{'crs': 'EPSG:4326',\n",
      "            'crs_transform': [0.00026949456294719256,\n",
      "                              0,\n",
      "                              -180,\n",
      "                              0,\n",
      "                              -0.00026949456294719256,\n",
      "                              86.0000269494563],\n",
      "            'data_type': {'precision': 'float', 'type': 'PixelType'},\n",
      "            'id': 'NDVI'}],\n",
      " 'type': 'Image'}\n",
      "\n",
      "NDVI 2008\n",
      "{'bands': [{'crs': 'EPSG:4326',\n",
      "            'crs_transform': [0.00026949456294719256,\n",
      "                              0,\n",
      "                              -180,\n",
      "                              0,\n",
      "                              -0.00026949456294719256,\n",
      "                              86.0000269494563],\n",
      "            'data_type': {'max': 1,\n",
      "                          'min': -1,\n",
      "                          'precision': 'float',\n",
      "                          'type': 'PixelType'},\n",
      "            'dimensions': [1335834, 638232],\n",
      "            'id': 'NDVI'}],\n",
      " 'type': 'Image'}\n"
     ]
    }
   ],
   "source": [
    "#!pip install pprint\n",
    "import pprint\n",
    "\n",
    "# Configure the pretty printing output & initialize earthengine.\n",
    "pp = pprint.PrettyPrinter(depth=4)\n",
    "\n",
    "# Load two 5-year Landsat 7 composites.\n",
    "landsat1999 = ee.Image('LANDSAT/LE7_TOA_5YEAR/1999_2003')\n",
    "landsat2008 = ee.Image('LANDSAT/LE7_TOA_5YEAR/2008_2012')\n",
    "\n",
    "# Compute NDVI the hard way.\n",
    "ndvi1999 = (landsat1999.select('B4').subtract(landsat1999.select('B3'))\n",
    "    .divide(landsat1999.select('B4').add(landsat1999.select('B3'))).rename(['NDVI']))\n",
    "\n",
    "# Compute NDVI the easy way.\n",
    "ndvi2008 = landsat2008.normalizedDifference(['B4', 'B3']).rename(['NDVI'])\n",
    "\n",
    "print('NDVI 1999')\n",
    "pp.pprint(ndvi1999.getInfo())\n",
    "\n",
    "print('\\n'+'NDVI 2008')\n",
    "pp.pprint(ndvi2008.getInfo())"
   ]
  },
  {
   "cell_type": "code",
   "execution_count": 16,
   "metadata": {
    "colab": {},
    "colab_type": "code",
    "id": "FCY_T1NX50KH"
   },
   "outputs": [
    {
     "data": {
      "text/html": [
       "<div style=\"width:100%;\"><div style=\"position:relative;width:100%;height:0;padding-bottom:60%;\"><span style=\"color:#565656\">Make this Notebook Trusted to load map: File -> Trust Notebook</span><iframe srcdoc=\"&lt;!DOCTYPE html&gt;\n",
       "&lt;html&gt;\n",
       "&lt;head&gt;\n",
       "    \n",
       "    &lt;meta http-equiv=&quot;content-type&quot; content=&quot;text/html; charset=UTF-8&quot; /&gt;\n",
       "    \n",
       "        &lt;script&gt;\n",
       "            L_NO_TOUCH = false;\n",
       "            L_DISABLE_3D = false;\n",
       "        &lt;/script&gt;\n",
       "    \n",
       "    &lt;style&gt;html, body {width: 100%;height: 100%;margin: 0;padding: 0;}&lt;/style&gt;\n",
       "    &lt;style&gt;#map {position:absolute;top:0;bottom:0;right:0;left:0;}&lt;/style&gt;\n",
       "    &lt;script src=&quot;https://cdn.jsdelivr.net/npm/leaflet@1.9.3/dist/leaflet.js&quot;&gt;&lt;/script&gt;\n",
       "    &lt;script src=&quot;https://code.jquery.com/jquery-3.7.1.min.js&quot;&gt;&lt;/script&gt;\n",
       "    &lt;script src=&quot;https://cdn.jsdelivr.net/npm/bootstrap@5.2.2/dist/js/bootstrap.bundle.min.js&quot;&gt;&lt;/script&gt;\n",
       "    &lt;script src=&quot;https://cdnjs.cloudflare.com/ajax/libs/Leaflet.awesome-markers/2.0.2/leaflet.awesome-markers.js&quot;&gt;&lt;/script&gt;\n",
       "    &lt;link rel=&quot;stylesheet&quot; href=&quot;https://cdn.jsdelivr.net/npm/leaflet@1.9.3/dist/leaflet.css&quot;/&gt;\n",
       "    &lt;link rel=&quot;stylesheet&quot; href=&quot;https://cdn.jsdelivr.net/npm/bootstrap@5.2.2/dist/css/bootstrap.min.css&quot;/&gt;\n",
       "    &lt;link rel=&quot;stylesheet&quot; href=&quot;https://netdna.bootstrapcdn.com/bootstrap/3.0.0/css/bootstrap-glyphicons.css&quot;/&gt;\n",
       "    &lt;link rel=&quot;stylesheet&quot; href=&quot;https://cdn.jsdelivr.net/npm/@fortawesome/fontawesome-free@6.2.0/css/all.min.css&quot;/&gt;\n",
       "    &lt;link rel=&quot;stylesheet&quot; href=&quot;https://cdnjs.cloudflare.com/ajax/libs/Leaflet.awesome-markers/2.0.2/leaflet.awesome-markers.css&quot;/&gt;\n",
       "    &lt;link rel=&quot;stylesheet&quot; href=&quot;https://cdn.jsdelivr.net/gh/python-visualization/folium/folium/templates/leaflet.awesome.rotate.min.css&quot;/&gt;\n",
       "    \n",
       "            &lt;meta name=&quot;viewport&quot; content=&quot;width=device-width,\n",
       "                initial-scale=1.0, maximum-scale=1.0, user-scalable=no&quot; /&gt;\n",
       "            &lt;style&gt;\n",
       "                #map_eff857b92c629f2c8b4d8cfff6da1091 {\n",
       "                    position: relative;\n",
       "                    width: 100.0%;\n",
       "                    height: 100.0%;\n",
       "                    left: 0.0%;\n",
       "                    top: 0.0%;\n",
       "                }\n",
       "                .leaflet-container { font-size: 1rem; }\n",
       "            &lt;/style&gt;\n",
       "        \n",
       "    &lt;script src=&quot;https://cdnjs.cloudflare.com/ajax/libs/d3/3.5.5/d3.min.js&quot;&gt;&lt;/script&gt;\n",
       "&lt;/head&gt;\n",
       "&lt;body&gt;\n",
       "    \n",
       "    \n",
       "            &lt;div class=&quot;folium-map&quot; id=&quot;map_eff857b92c629f2c8b4d8cfff6da1091&quot; &gt;&lt;/div&gt;\n",
       "        \n",
       "&lt;/body&gt;\n",
       "&lt;script&gt;\n",
       "    \n",
       "    \n",
       "            var map_eff857b92c629f2c8b4d8cfff6da1091 = L.map(\n",
       "                &quot;map_eff857b92c629f2c8b4d8cfff6da1091&quot;,\n",
       "                {\n",
       "                    center: [0.0, 0.0],\n",
       "                    crs: L.CRS.EPSG3857,\n",
       "                    ...{\n",
       "  &quot;zoom&quot;: 1,\n",
       "  &quot;zoomControl&quot;: true,\n",
       "  &quot;preferCanvas&quot;: false,\n",
       "}\n",
       "\n",
       "                }\n",
       "            );\n",
       "\n",
       "            \n",
       "\n",
       "        \n",
       "    \n",
       "            var tile_layer_e9cdb5a08e6db1a57d4dee73a9808945 = L.tileLayer(\n",
       "                &quot;https://tile.openstreetmap.org/{z}/{x}/{y}.png&quot;,\n",
       "                {\n",
       "  &quot;minZoom&quot;: 0,\n",
       "  &quot;maxZoom&quot;: 19,\n",
       "  &quot;maxNativeZoom&quot;: 19,\n",
       "  &quot;noWrap&quot;: false,\n",
       "  &quot;attribution&quot;: &quot;\\u0026copy; \\u003ca href=\\&quot;https://www.openstreetmap.org/copyright\\&quot;\\u003eOpenStreetMap\\u003c/a\\u003e contributors&quot;,\n",
       "  &quot;subdomains&quot;: &quot;abc&quot;,\n",
       "  &quot;detectRetina&quot;: false,\n",
       "  &quot;tms&quot;: false,\n",
       "  &quot;opacity&quot;: 1,\n",
       "}\n",
       "\n",
       "            );\n",
       "        \n",
       "    \n",
       "            tile_layer_e9cdb5a08e6db1a57d4dee73a9808945.addTo(map_eff857b92c629f2c8b4d8cfff6da1091);\n",
       "        \n",
       "    \n",
       "            var tile_layer_ff8d1a2f3844cb956ee8f72fb5b7fa30 = L.tileLayer(\n",
       "                &quot;https://earthengine.googleapis.com/v1/projects/522364178051/maps/f0074f1b2c5e62cf219a8d704f309db6-4b8c6ae73e2c933783bd9c37d5124e7d/tiles/{z}/{x}/{y}&quot;,\n",
       "                {\n",
       "  &quot;minZoom&quot;: 0,\n",
       "  &quot;maxZoom&quot;: 18,\n",
       "  &quot;maxNativeZoom&quot;: 18,\n",
       "  &quot;noWrap&quot;: false,\n",
       "  &quot;attribution&quot;: &quot;Google Earth Engine&quot;,\n",
       "  &quot;subdomains&quot;: &quot;abc&quot;,\n",
       "  &quot;detectRetina&quot;: false,\n",
       "  &quot;tms&quot;: false,\n",
       "  &quot;opacity&quot;: 1,\n",
       "}\n",
       "\n",
       "            );\n",
       "        \n",
       "    \n",
       "            tile_layer_ff8d1a2f3844cb956ee8f72fb5b7fa30.addTo(map_eff857b92c629f2c8b4d8cfff6da1091);\n",
       "        \n",
       "    \n",
       "    var color_map_1c4a4da6690de07d1c9677696979e8e3 = {};\n",
       "\n",
       "    \n",
       "    color_map_1c4a4da6690de07d1c9677696979e8e3.color = d3.scale.threshold()\n",
       "              .domain([-0.1, -0.0995991983967936, -0.09919839679358718, -0.09879759519038077, -0.09839679358717436, -0.09799599198396794, -0.09759519038076153, -0.09719438877755511, -0.0967935871743487, -0.0963927855711423, -0.09599198396793587, -0.09559118236472947, -0.09519038076152306, -0.09478957915831664, -0.09438877755511023, -0.09398797595190381, -0.0935871743486974, -0.09318637274549099, -0.09278557114228457, -0.09238476953907816, -0.09198396793587175, -0.09158316633266533, -0.09118236472945893, -0.0907815631262525, -0.0903807615230461, -0.08997995991983969, -0.08957915831663327, -0.08917835671342686, -0.08877755511022045, -0.08837675350701403, -0.08797595190380762, -0.0875751503006012, -0.0871743486973948, -0.08677354709418839, -0.08637274549098196, -0.08597194388777556, -0.08557114228456915, -0.08517034068136273, -0.08476953907815632, -0.08436873747494991, -0.08396793587174349, -0.08356713426853708, -0.08316633266533066, -0.08276553106212425, -0.08236472945891785, -0.08196392785571142, -0.08156312625250502, -0.0811623246492986, -0.08076152304609219, -0.08036072144288578, -0.07995991983967937, -0.07955911823647295, -0.07915831663326654, -0.07875751503006012, -0.07835671342685371, -0.0779559118236473, -0.07755511022044088, -0.07715430861723448, -0.07675350701402806, -0.07635270541082165, -0.07595190380761524, -0.07555110220440882, -0.07515030060120241, -0.07474949899799599, -0.07434869739478958, -0.07394789579158317, -0.07354709418837675, -0.07314629258517034, -0.07274549098196392, -0.07234468937875752, -0.07194388777555111, -0.0715430861723447, -0.07114228456913828, -0.07074148296593187, -0.07034068136272545, -0.06993987975951904, -0.06953907815631263, -0.06913827655310621, -0.0687374749498998, -0.06833667334669338, -0.06793587174348698, -0.06753507014028057, -0.06713426853707416, -0.06673346693386774, -0.06633266533066132, -0.06593186372745491, -0.0655310621242485, -0.0651302605210421, -0.06472945891783567, -0.06432865731462926, -0.06392785571142284, -0.06352705410821644, -0.06312625250501003, -0.06272545090180362, -0.0623246492985972, -0.061923847695390784, -0.06152304609218437, -0.061122244488977955, -0.06072144288577155, -0.06032064128256513, -0.059919839679358725, -0.0595190380761523, -0.059118236472945895, -0.05871743486973948, -0.05831663326653307, -0.05791583166332666, -0.05751503006012024, -0.05711422845691383, -0.056713426853707415, -0.05631262525050101, -0.05591182364729459, -0.05551102204408818, -0.05511022044088176, -0.054709418837675355, -0.05430861723446894, -0.05390781563126253, -0.05350701402805611, -0.053106212424849704, -0.05270541082164329, -0.052304609218436875, -0.05190380761523047, -0.051503006012024045, -0.05110220440881764, -0.05070140280561122, -0.050300601202404815, -0.0498997995991984, -0.049498997995991986, -0.04909819639278557, -0.048697394789579164, -0.04829659318637275, -0.04789579158316634, -0.04749498997995992, -0.047094188376753505, -0.0466933867735471, -0.04629258517034068, -0.045891783567134276, -0.045490981963927854, -0.045090180360721446, -0.04468937875751503, -0.044288577154308624, -0.04388777555110221, -0.043486973947895795, -0.04308617234468938, -0.042685370741482966, -0.04228456913827656, -0.04188376753507014, -0.04148296593186373, -0.041082164328657314, -0.040681362725450906, -0.04028056112224449, -0.039879759519038084, -0.03947895791583166, -0.039078156312625255, -0.03867735470941884, -0.038276553106212426, -0.03787575150300602, -0.0374749498997996, -0.03707414829659318, -0.036673346693386774, -0.036272545090180366, -0.03587174348697396, -0.03547094188376754, -0.03507014028056113, -0.03466933867735471, -0.0342685370741483, -0.03386773547094189, -0.03346693386773547, -0.03306613226452906, -0.03266533066132264, -0.032264529058116234, -0.031863727454909826, -0.031462925851703405, -0.031062124248496997, -0.03066132264529059, -0.030260521042084168, -0.02985971943887776, -0.02945891783567134, -0.029058116232464945, -0.028657314629258523, -0.028256513026052102, -0.027855711422845694, -0.027454909819639273, -0.02705410821643288, -0.026653306613226457, -0.026252505010020036, -0.025851703406813628, -0.02545090180360722, -0.025050100200400813, -0.02464929859719439, -0.02424849699398797, -0.023847695390781562, -0.023446893787575154, -0.023046092184368733, -0.022645290581162325, -0.022244488977955904, -0.02184368737474951, -0.021442885771543088, -0.021042084168336667, -0.02064128256513026, -0.02024048096192385, -0.019839679358717444, -0.019438877755511022, -0.0190380761523046, -0.018637274549098193, -0.018236472945891785, -0.017835671342685377, -0.017434869739478956, -0.017034068136272534, -0.01663326653306614, -0.01623246492985972, -0.01583166332665331, -0.01543086172344689, -0.015030060120240468, -0.014629258517034074, -0.014228456913827653, -0.013827655310621245, -0.013426853707414824, -0.013026052104208416, -0.012625250501002008, -0.012224448897795587, -0.011823647294589179, -0.011422845691382771, -0.01102204408817635, -0.010621242484969942, -0.01022044088176352, -0.009819639278557113, -0.009418837675350705, -0.009018036072144284, -0.008617234468937876, -0.008216432865731454, -0.00781563126252506, -0.007414829659318639, -0.007014028056112218, -0.00661322645290581, -0.006212424849699402, -0.0058116232464929946, -0.005410821643286573, -0.0050100200400801514, -0.004609218436873744, -0.004208416833667336, -0.0038076152304609284, -0.003406813627254507, -0.0030060120240480853, -0.0026052104208416915, -0.00220440881763527, -0.0018036072144288623, -0.0014028056112224407, -0.001002004008016033, -0.0006012024048096254, -0.00020040080160320384, 0.00020040080160320384, 0.0006012024048096254, 0.001002004008016033, 0.0014028056112224407, 0.0018036072144288623, 0.00220440881763527, 0.0026052104208416776, 0.003006012024048099, 0.003406813627254507, 0.0038076152304609284, 0.004208416833667322, 0.004609218436873744, 0.005010020040080165, 0.005410821643286573, 0.0058116232464929946, 0.006212424849699388, 0.00661322645290581, 0.0070140280561122315, 0.007414829659318639, 0.007815631262525047, 0.008216432865731454, 0.008617234468937876, 0.009018036072144298, 0.009418837675350705, 0.009819639278557113, 0.01022044088176352, 0.010621242484969942, 0.011022044088176364, 0.011422845691382758, 0.011823647294589179, 0.012224448897795587, 0.012625250501002008, 0.013026052104208416, 0.013426853707414824, 0.013827655310621245, 0.014228456913827653, 0.014629258517034074, 0.015030060120240482, 0.01543086172344689, 0.01583166332665331, 0.01623246492985972, 0.016633266533066127, 0.017034068136272548, 0.017434869739478956, 0.017835671342685377, 0.01823647294589177, 0.018637274549098193, 0.019038076152304614, 0.019438877755511022, 0.019839679358717444, 0.020240480961923837, 0.02064128256513026, 0.02104208416833668, 0.021442885771543088, 0.021843687374749496, 0.022244488977955904, 0.022645290581162325, 0.023046092184368747, 0.023446893787575154, 0.023847695390781562, 0.02424849699398797, 0.02464929859719439, 0.0250501002004008, 0.025450901803607207, 0.025851703406813642, 0.026252505010020022, 0.026653306613226457, 0.027054108216432865, 0.027454909819639273, 0.027855711422845708, 0.028256513026052088, 0.028657314629258523, 0.02905811623246493, 0.029458917835671367, 0.029859719438877746, 0.030260521042084154, 0.03066132264529059, 0.031062124248496997, 0.031462925851703405, 0.03186372745490981, 0.03226452905811622, 0.032665330661322656, 0.03306613226452906, 0.03346693386773547, 0.03386773547094188, 0.034268537074148286, 0.03466933867735472, 0.03507014028056113, 0.03547094188376754, 0.035871743486973945, 0.03627254509018035, 0.03667334669338676, 0.037074148296593196, 0.0374749498997996, 0.03787575150300601, 0.03827655310621242, 0.038677354709418826, 0.03907815631262526, 0.03947895791583167, 0.03987975951903808, 0.040280561122244485, 0.04068136272545089, 0.04108216432865733, 0.041482965931863736, 0.041883767535070116, 0.04228456913827655, 0.04268537074148296, 0.043086172344689394, 0.0434869739478958, 0.04388777555110218, 0.04428857715430862, 0.044689378757515025, 0.04509018036072146, 0.04549098196392787, 0.04589178356713425, 0.04629258517034068, 0.04669338677354709, 0.047094188376753526, 0.047494989979959934, 0.047895791583166314, 0.04829659318637275, 0.04869739478957916, 0.049098196392785565, 0.049498997995992, 0.04989979959919838, 0.050300601202404815, 0.05070140280561122, 0.05110220440881763, 0.051503006012024066, 0.051903807615230446, 0.05230460921843688, 0.05270541082164329, 0.0531062124248497, 0.05350701402805613, 0.05390781563126254, 0.05430861723446892, 0.054709418837675355, 0.05511022044088176, 0.0555110220440882, 0.055911823647294606, 0.056312625250500986, 0.05671342685370742, 0.05711422845691383, 0.057515030060120265, 0.05791583166332667, 0.05831663326653305, 0.05871743486973949, 0.059118236472945895, 0.0595190380761523, 0.05991983967935874, 0.06032064128256512, 0.060721442885771554, 0.06112224448897796, 0.06152304609218437, 0.061923847695390805, 0.062324649298597184, 0.06272545090180362, 0.06312625250501003, 0.06352705410821644, 0.06392785571142287, 0.06432865731462925, 0.06472945891783566, 0.0651302605210421, 0.0655310621242485, 0.06593186372745494, 0.06633266533066132, 0.06673346693386772, 0.06713426853707416, 0.06753507014028057, 0.067935871743487, 0.06833667334669338, 0.06873747494989979, 0.06913827655310623, 0.06953907815631263, 0.06993987975951907, 0.07034068136272545, 0.07074148296593186, 0.07114228456913829, 0.0715430861723447, 0.07194388777555111, 0.07234468937875752, 0.07274549098196392, 0.07314629258517036, 0.07354709418837677, 0.07394789579158317, 0.07434869739478958, 0.07474949899799599, 0.07515030060120242, 0.07555110220440883, 0.07595190380761524, 0.07635270541082165, 0.07675350701402806, 0.07715430861723446, 0.0775551102204409, 0.0779559118236473, 0.07835671342685371, 0.07875751503006012, 0.07915831663326653, 0.07955911823647296, 0.07995991983967937, 0.08036072144288578, 0.08076152304609219, 0.0811623246492986, 0.08156312625250503, 0.08196392785571144, 0.08236472945891782, 0.08276553106212425, 0.08316633266533066, 0.0835671342685371, 0.0839679358717435, 0.08436873747494988, 0.08476953907815632, 0.08517034068136273, 0.08557114228456916, 0.08597194388777557, 0.08637274549098195, 0.08677354709418839, 0.0871743486973948, 0.0875751503006012, 0.08797595190380764, 0.08837675350701402, 0.08877755511022045, 0.08917835671342686, 0.08957915831663327, 0.0899799599198397, 0.09038076152304608, 0.09078156312625252, 0.09118236472945893, 0.09158316633266533, 0.09198396793587177, 0.09238476953907815, 0.09278557114228456, 0.09318637274549099, 0.0935871743486974, 0.09398797595190383, 0.09438877755511021, 0.09478957915831662, 0.09519038076152306, 0.09559118236472947, 0.0959919839679359, 0.09639278557114228, 0.09679358717434869, 0.09719438877755512, 0.09759519038076153, 0.09799599198396794, 0.09839679358717435, 0.09879759519038075, 0.09919839679358719, 0.0995991983967936, 0.1])\n",
       "              .range([&#x27;#ffffccff&#x27;, &#x27;#ffffccff&#x27;, &#x27;#ffffcbff&#x27;, &#x27;#ffffcaff&#x27;, &#x27;#fffec9ff&#x27;, &#x27;#fffec9ff&#x27;, &#x27;#fffec8ff&#x27;, &#x27;#fffdc7ff&#x27;, &#x27;#fffdc7ff&#x27;, &#x27;#fffdc6ff&#x27;, &#x27;#fffdc5ff&#x27;, &#x27;#fffcc5ff&#x27;, &#x27;#fffcc4ff&#x27;, &#x27;#fffcc3ff&#x27;, &#x27;#fffbc2ff&#x27;, &#x27;#fffbc2ff&#x27;, &#x27;#fffbc1ff&#x27;, &#x27;#fffbc0ff&#x27;, &#x27;#fffac0ff&#x27;, &#x27;#fffabfff&#x27;, &#x27;#fffabeff&#x27;, &#x27;#fff9bdff&#x27;, &#x27;#fff9bdff&#x27;, &#x27;#fff9bcff&#x27;, &#x27;#fff9bbff&#x27;, &#x27;#fff8bbff&#x27;, &#x27;#fff8baff&#x27;, &#x27;#fff8b9ff&#x27;, &#x27;#fff7b8ff&#x27;, &#x27;#fff7b8ff&#x27;, &#x27;#fff7b7ff&#x27;, &#x27;#fff7b6ff&#x27;, &#x27;#fff6b6ff&#x27;, &#x27;#fff6b5ff&#x27;, &#x27;#fff6b4ff&#x27;, &#x27;#fff5b4ff&#x27;, &#x27;#fff5b3ff&#x27;, &#x27;#fff5b2ff&#x27;, &#x27;#fff4b1ff&#x27;, &#x27;#fff4b1ff&#x27;, &#x27;#fff4b0ff&#x27;, &#x27;#fff4afff&#x27;, &#x27;#fff3afff&#x27;, &#x27;#fff3aeff&#x27;, &#x27;#fff3adff&#x27;, &#x27;#fff2acff&#x27;, &#x27;#fff2acff&#x27;, &#x27;#fff2abff&#x27;, &#x27;#fff2aaff&#x27;, &#x27;#fff1aaff&#x27;, &#x27;#fff1a9ff&#x27;, &#x27;#fff1a8ff&#x27;, &#x27;#fff0a7ff&#x27;, &#x27;#fff0a7ff&#x27;, &#x27;#fff0a6ff&#x27;, &#x27;#fff0a5ff&#x27;, &#x27;#ffefa5ff&#x27;, &#x27;#ffefa4ff&#x27;, &#x27;#ffefa3ff&#x27;, &#x27;#ffeea3ff&#x27;, &#x27;#ffeea2ff&#x27;, &#x27;#ffeea1ff&#x27;, &#x27;#ffeea0ff&#x27;, &#x27;#ffeda0ff&#x27;, &#x27;#ffed9fff&#x27;, &#x27;#ffed9eff&#x27;, &#x27;#ffec9eff&#x27;, &#x27;#ffec9dff&#x27;, &#x27;#ffec9cff&#x27;, &#x27;#ffeb9cff&#x27;, &#x27;#ffeb9bff&#x27;, &#x27;#ffeb9aff&#x27;, &#x27;#ffea9aff&#x27;, &#x27;#ffea99ff&#x27;, &#x27;#ffea98ff&#x27;, &#x27;#ffe998ff&#x27;, &#x27;#ffe997ff&#x27;, &#x27;#ffe996ff&#x27;, &#x27;#ffe896ff&#x27;, &#x27;#ffe895ff&#x27;, &#x27;#ffe894ff&#x27;, &#x27;#ffe794ff&#x27;, &#x27;#ffe793ff&#x27;, &#x27;#ffe792ff&#x27;, &#x27;#ffe692ff&#x27;, &#x27;#ffe691ff&#x27;, &#x27;#ffe690ff&#x27;, &#x27;#ffe68fff&#x27;, &#x27;#ffe58fff&#x27;, &#x27;#ffe58eff&#x27;, &#x27;#ffe58dff&#x27;, &#x27;#ffe48dff&#x27;, &#x27;#ffe48cff&#x27;, &#x27;#ffe48bff&#x27;, &#x27;#ffe38bff&#x27;, &#x27;#ffe38aff&#x27;, &#x27;#ffe389ff&#x27;, &#x27;#ffe289ff&#x27;, &#x27;#ffe288ff&#x27;, &#x27;#ffe287ff&#x27;, &#x27;#ffe187ff&#x27;, &#x27;#ffe186ff&#x27;, &#x27;#ffe185ff&#x27;, &#x27;#ffe085ff&#x27;, &#x27;#ffe084ff&#x27;, &#x27;#ffe083ff&#x27;, &#x27;#ffdf83ff&#x27;, &#x27;#ffdf82ff&#x27;, &#x27;#ffdf81ff&#x27;, &#x27;#ffde81ff&#x27;, &#x27;#ffde80ff&#x27;, &#x27;#ffde7fff&#x27;, &#x27;#ffdd7fff&#x27;, &#x27;#ffdd7eff&#x27;, &#x27;#ffdd7dff&#x27;, &#x27;#ffdc7dff&#x27;, &#x27;#ffdc7cff&#x27;, &#x27;#ffdc7bff&#x27;, &#x27;#ffdc7bff&#x27;, &#x27;#ffdb7aff&#x27;, &#x27;#ffdb79ff&#x27;, &#x27;#ffdb78ff&#x27;, &#x27;#ffda78ff&#x27;, &#x27;#ffda77ff&#x27;, &#x27;#ffda76ff&#x27;, &#x27;#fed976ff&#x27;, &#x27;#fed975ff&#x27;, &#x27;#fed874ff&#x27;, &#x27;#fed774ff&#x27;, &#x27;#fed773ff&#x27;, &#x27;#fed672ff&#x27;, &#x27;#fed572ff&#x27;, &#x27;#fed571ff&#x27;, &#x27;#fed470ff&#x27;, &#x27;#fed470ff&#x27;, &#x27;#fed36fff&#x27;, &#x27;#fed26eff&#x27;, &#x27;#fed26eff&#x27;, &#x27;#fed16dff&#x27;, &#x27;#fed06cff&#x27;, &#x27;#fed06cff&#x27;, &#x27;#fecf6bff&#x27;, &#x27;#fecf6aff&#x27;, &#x27;#fece6aff&#x27;, &#x27;#fecd69ff&#x27;, &#x27;#fecd68ff&#x27;, &#x27;#fecc68ff&#x27;, &#x27;#fecb67ff&#x27;, &#x27;#fecb66ff&#x27;, &#x27;#feca66ff&#x27;, &#x27;#feca65ff&#x27;, &#x27;#fec964ff&#x27;, &#x27;#fec864ff&#x27;, &#x27;#fec863ff&#x27;, &#x27;#fec762ff&#x27;, &#x27;#fec662ff&#x27;, &#x27;#fec661ff&#x27;, &#x27;#fec560ff&#x27;, &#x27;#fec45fff&#x27;, &#x27;#fec45fff&#x27;, &#x27;#fec35eff&#x27;, &#x27;#fec35dff&#x27;, &#x27;#fec25dff&#x27;, &#x27;#fec15cff&#x27;, &#x27;#fec15bff&#x27;, &#x27;#fec05bff&#x27;, &#x27;#febf5aff&#x27;, &#x27;#febf59ff&#x27;, &#x27;#febe59ff&#x27;, &#x27;#febe58ff&#x27;, &#x27;#febd57ff&#x27;, &#x27;#febc57ff&#x27;, &#x27;#febc56ff&#x27;, &#x27;#febb55ff&#x27;, &#x27;#feba55ff&#x27;, &#x27;#feba54ff&#x27;, &#x27;#feb953ff&#x27;, &#x27;#feb953ff&#x27;, &#x27;#feb852ff&#x27;, &#x27;#feb751ff&#x27;, &#x27;#feb751ff&#x27;, &#x27;#feb650ff&#x27;, &#x27;#feb54fff&#x27;, &#x27;#feb54fff&#x27;, &#x27;#feb44eff&#x27;, &#x27;#feb44dff&#x27;, &#x27;#feb34dff&#x27;, &#x27;#feb24cff&#x27;, &#x27;#feb24cff&#x27;, &#x27;#feb14bff&#x27;, &#x27;#feb04bff&#x27;, &#x27;#feb04bff&#x27;, &#x27;#feaf4bff&#x27;, &#x27;#feaf4aff&#x27;, &#x27;#feae4aff&#x27;, &#x27;#feae4aff&#x27;, &#x27;#fead4aff&#x27;, &#x27;#feac49ff&#x27;, &#x27;#feac49ff&#x27;, &#x27;#feab49ff&#x27;, &#x27;#feab48ff&#x27;, &#x27;#feaa48ff&#x27;, &#x27;#fea948ff&#x27;, &#x27;#fea948ff&#x27;, &#x27;#fea847ff&#x27;, &#x27;#fea847ff&#x27;, &#x27;#fea747ff&#x27;, &#x27;#fea647ff&#x27;, &#x27;#fea646ff&#x27;, &#x27;#fea546ff&#x27;, &#x27;#fea546ff&#x27;, &#x27;#fea446ff&#x27;, &#x27;#fea345ff&#x27;, &#x27;#fea345ff&#x27;, &#x27;#fea245ff&#x27;, &#x27;#fea245ff&#x27;, &#x27;#fea144ff&#x27;, &#x27;#fea044ff&#x27;, &#x27;#fea044ff&#x27;, &#x27;#fe9f44ff&#x27;, &#x27;#fe9f43ff&#x27;, &#x27;#fe9e43ff&#x27;, &#x27;#fe9d43ff&#x27;, &#x27;#fe9d43ff&#x27;, &#x27;#fe9c42ff&#x27;, &#x27;#fe9c42ff&#x27;, &#x27;#fe9b42ff&#x27;, &#x27;#fe9a42ff&#x27;, &#x27;#fe9a41ff&#x27;, &#x27;#fe9941ff&#x27;, &#x27;#fe9941ff&#x27;, &#x27;#fe9840ff&#x27;, &#x27;#fe9740ff&#x27;, &#x27;#fe9740ff&#x27;, &#x27;#fe9640ff&#x27;, &#x27;#fe963fff&#x27;, &#x27;#fe953fff&#x27;, &#x27;#fe943fff&#x27;, &#x27;#fe943fff&#x27;, &#x27;#fe933eff&#x27;, &#x27;#fe933eff&#x27;, &#x27;#fe923eff&#x27;, &#x27;#fe923eff&#x27;, &#x27;#fe913dff&#x27;, &#x27;#fe903dff&#x27;, &#x27;#fe903dff&#x27;, &#x27;#fe8f3dff&#x27;, &#x27;#fe8f3cff&#x27;, &#x27;#fe8e3cff&#x27;, &#x27;#fe8d3cff&#x27;, &#x27;#fd8d3cff&#x27;, &#x27;#fd8c3bff&#x27;, &#x27;#fd8b3bff&#x27;, &#x27;#fd8a3bff&#x27;, &#x27;#fd883aff&#x27;, &#x27;#fd873aff&#x27;, &#x27;#fd863aff&#x27;, &#x27;#fd853aff&#x27;, &#x27;#fd8439ff&#x27;, &#x27;#fd8339ff&#x27;, &#x27;#fd8239ff&#x27;, &#x27;#fd8138ff&#x27;, &#x27;#fd8038ff&#x27;, &#x27;#fd7f38ff&#x27;, &#x27;#fd7e38ff&#x27;, &#x27;#fd7d37ff&#x27;, &#x27;#fd7c37ff&#x27;, &#x27;#fd7b37ff&#x27;, &#x27;#fd7a36ff&#x27;, &#x27;#fd7936ff&#x27;, &#x27;#fd7836ff&#x27;, &#x27;#fd7736ff&#x27;, &#x27;#fd7635ff&#x27;, &#x27;#fd7535ff&#x27;, &#x27;#fd7435ff&#x27;, &#x27;#fd7334ff&#x27;, &#x27;#fd7234ff&#x27;, &#x27;#fd7134ff&#x27;, &#x27;#fd7033ff&#x27;, &#x27;#fd6f33ff&#x27;, &#x27;#fd6e33ff&#x27;, &#x27;#fd6d33ff&#x27;, &#x27;#fd6c32ff&#x27;, &#x27;#fd6b32ff&#x27;, &#x27;#fd6a32ff&#x27;, &#x27;#fd6931ff&#x27;, &#x27;#fd6831ff&#x27;, &#x27;#fd6731ff&#x27;, &#x27;#fd6631ff&#x27;, &#x27;#fd6530ff&#x27;, &#x27;#fd6430ff&#x27;, &#x27;#fd6330ff&#x27;, &#x27;#fd622fff&#x27;, &#x27;#fd612fff&#x27;, &#x27;#fd602fff&#x27;, &#x27;#fd5f2fff&#x27;, &#x27;#fd5e2eff&#x27;, &#x27;#fd5d2eff&#x27;, &#x27;#fd5c2eff&#x27;, &#x27;#fd5b2dff&#x27;, &#x27;#fd5a2dff&#x27;, &#x27;#fd592dff&#x27;, &#x27;#fd582dff&#x27;, &#x27;#fd572cff&#x27;, &#x27;#fd562cff&#x27;, &#x27;#fd552cff&#x27;, &#x27;#fd542bff&#x27;, &#x27;#fd532bff&#x27;, &#x27;#fd522bff&#x27;, &#x27;#fd512aff&#x27;, &#x27;#fd502aff&#x27;, &#x27;#fd4f2aff&#x27;, &#x27;#fc4e2aff&#x27;, &#x27;#fc4d29ff&#x27;, &#x27;#fc4c29ff&#x27;, &#x27;#fb4b29ff&#x27;, &#x27;#fb4a29ff&#x27;, &#x27;#fa4a29ff&#x27;, &#x27;#fa4928ff&#x27;, &#x27;#fa4828ff&#x27;, &#x27;#f94728ff&#x27;, &#x27;#f94628ff&#x27;, &#x27;#f84527ff&#x27;, &#x27;#f84427ff&#x27;, &#x27;#f84427ff&#x27;, &#x27;#f74327ff&#x27;, &#x27;#f74226ff&#x27;, &#x27;#f64126ff&#x27;, &#x27;#f64026ff&#x27;, &#x27;#f63f26ff&#x27;, &#x27;#f53f26ff&#x27;, &#x27;#f53e25ff&#x27;, &#x27;#f43d25ff&#x27;, &#x27;#f43c25ff&#x27;, &#x27;#f43b25ff&#x27;, &#x27;#f33a24ff&#x27;, &#x27;#f33a24ff&#x27;, &#x27;#f23924ff&#x27;, &#x27;#f23824ff&#x27;, &#x27;#f23724ff&#x27;, &#x27;#f13623ff&#x27;, &#x27;#f13523ff&#x27;, &#x27;#f03523ff&#x27;, &#x27;#f03423ff&#x27;, &#x27;#f03322ff&#x27;, &#x27;#ef3222ff&#x27;, &#x27;#ef3122ff&#x27;, &#x27;#ee3022ff&#x27;, &#x27;#ee3022ff&#x27;, &#x27;#ee2f21ff&#x27;, &#x27;#ed2e21ff&#x27;, &#x27;#ed2d21ff&#x27;, &#x27;#ec2c21ff&#x27;, &#x27;#ec2b20ff&#x27;, &#x27;#ec2b20ff&#x27;, &#x27;#eb2a20ff&#x27;, &#x27;#eb2920ff&#x27;, &#x27;#ea281fff&#x27;, &#x27;#ea271fff&#x27;, &#x27;#ea261fff&#x27;, &#x27;#e9261fff&#x27;, &#x27;#e9251fff&#x27;, &#x27;#e8241eff&#x27;, &#x27;#e8231eff&#x27;, &#x27;#e8221eff&#x27;, &#x27;#e7211eff&#x27;, &#x27;#e7211dff&#x27;, &#x27;#e6201dff&#x27;, &#x27;#e61f1dff&#x27;, &#x27;#e61e1dff&#x27;, &#x27;#e51d1dff&#x27;, &#x27;#e51c1cff&#x27;, &#x27;#e41b1cff&#x27;, &#x27;#e41b1cff&#x27;, &#x27;#e31a1cff&#x27;, &#x27;#e3191cff&#x27;, &#x27;#e2191cff&#x27;, &#x27;#e2181cff&#x27;, &#x27;#e1181cff&#x27;, &#x27;#e0181cff&#x27;, &#x27;#e0171dff&#x27;, &#x27;#df171dff&#x27;, &#x27;#df161dff&#x27;, &#x27;#de161dff&#x27;, &#x27;#dd161dff&#x27;, &#x27;#dd151dff&#x27;, &#x27;#dc151eff&#x27;, &#x27;#dc141eff&#x27;, &#x27;#db141eff&#x27;, &#x27;#da131eff&#x27;, &#x27;#da131eff&#x27;, &#x27;#d9131eff&#x27;, &#x27;#d9121eff&#x27;, &#x27;#d8121fff&#x27;, &#x27;#d7111fff&#x27;, &#x27;#d7111fff&#x27;, &#x27;#d6111fff&#x27;, &#x27;#d5101fff&#x27;, &#x27;#d5101fff&#x27;, &#x27;#d40f20ff&#x27;, &#x27;#d40f20ff&#x27;, &#x27;#d30e20ff&#x27;, &#x27;#d20e20ff&#x27;, &#x27;#d20e20ff&#x27;, &#x27;#d10d20ff&#x27;, &#x27;#d10d21ff&#x27;, &#x27;#d00c21ff&#x27;, &#x27;#cf0c21ff&#x27;, &#x27;#cf0b21ff&#x27;, &#x27;#ce0b21ff&#x27;, &#x27;#ce0b21ff&#x27;, &#x27;#cd0a22ff&#x27;, &#x27;#cc0a22ff&#x27;, &#x27;#cc0922ff&#x27;, &#x27;#cb0922ff&#x27;, &#x27;#ca0922ff&#x27;, &#x27;#ca0822ff&#x27;, &#x27;#c90822ff&#x27;, &#x27;#c90723ff&#x27;, &#x27;#c80723ff&#x27;, &#x27;#c70623ff&#x27;, &#x27;#c70623ff&#x27;, &#x27;#c60623ff&#x27;, &#x27;#c60523ff&#x27;, &#x27;#c50524ff&#x27;, &#x27;#c40424ff&#x27;, &#x27;#c40424ff&#x27;, &#x27;#c30424ff&#x27;, &#x27;#c30324ff&#x27;, &#x27;#c20324ff&#x27;, &#x27;#c10225ff&#x27;, &#x27;#c10225ff&#x27;, &#x27;#c00125ff&#x27;, &#x27;#bf0125ff&#x27;, &#x27;#bf0125ff&#x27;, &#x27;#be0025ff&#x27;, &#x27;#be0026ff&#x27;, &#x27;#bd0026ff&#x27;, &#x27;#bc0026ff&#x27;, &#x27;#bb0026ff&#x27;, &#x27;#ba0026ff&#x27;, &#x27;#b90026ff&#x27;, &#x27;#b80026ff&#x27;, &#x27;#b70026ff&#x27;, &#x27;#b60026ff&#x27;, &#x27;#b50026ff&#x27;, &#x27;#b40026ff&#x27;, &#x27;#b30026ff&#x27;, &#x27;#b20026ff&#x27;, &#x27;#b10026ff&#x27;, &#x27;#b00026ff&#x27;, &#x27;#af0026ff&#x27;, &#x27;#ae0026ff&#x27;, &#x27;#ad0026ff&#x27;, &#x27;#ac0026ff&#x27;, &#x27;#ab0026ff&#x27;, &#x27;#aa0026ff&#x27;, &#x27;#a90026ff&#x27;, &#x27;#a80026ff&#x27;, &#x27;#a70026ff&#x27;, &#x27;#a60026ff&#x27;, &#x27;#a50026ff&#x27;, &#x27;#a40026ff&#x27;, &#x27;#a30026ff&#x27;, &#x27;#a20026ff&#x27;, &#x27;#a10026ff&#x27;, &#x27;#a00026ff&#x27;, &#x27;#9f0026ff&#x27;, &#x27;#9e0026ff&#x27;, &#x27;#9d0026ff&#x27;, &#x27;#9c0026ff&#x27;, &#x27;#9b0026ff&#x27;, &#x27;#9b0026ff&#x27;, &#x27;#9a0026ff&#x27;, &#x27;#990026ff&#x27;, &#x27;#980026ff&#x27;, &#x27;#970026ff&#x27;, &#x27;#960026ff&#x27;, &#x27;#950026ff&#x27;, &#x27;#940026ff&#x27;, &#x27;#930026ff&#x27;, &#x27;#920026ff&#x27;, &#x27;#910026ff&#x27;, &#x27;#900026ff&#x27;, &#x27;#8f0026ff&#x27;, &#x27;#8e0026ff&#x27;, &#x27;#8d0026ff&#x27;, &#x27;#8c0026ff&#x27;, &#x27;#8b0026ff&#x27;, &#x27;#8a0026ff&#x27;, &#x27;#890026ff&#x27;, &#x27;#880026ff&#x27;, &#x27;#870026ff&#x27;, &#x27;#860026ff&#x27;, &#x27;#850026ff&#x27;, &#x27;#840026ff&#x27;, &#x27;#830026ff&#x27;, &#x27;#820026ff&#x27;, &#x27;#810026ff&#x27;, &#x27;#800026ff&#x27;]);\n",
       "    \n",
       "\n",
       "    color_map_1c4a4da6690de07d1c9677696979e8e3.x = d3.scale.linear()\n",
       "              .domain([-0.1, 0.1])\n",
       "              .range([0, 450 - 50]);\n",
       "\n",
       "    color_map_1c4a4da6690de07d1c9677696979e8e3.legend = L.control({position: &#x27;topright&#x27;});\n",
       "    color_map_1c4a4da6690de07d1c9677696979e8e3.legend.onAdd = function (map) {var div = L.DomUtil.create(&#x27;div&#x27;, &#x27;legend&#x27;); return div};\n",
       "    color_map_1c4a4da6690de07d1c9677696979e8e3.legend.addTo(map_eff857b92c629f2c8b4d8cfff6da1091);\n",
       "\n",
       "    color_map_1c4a4da6690de07d1c9677696979e8e3.xAxis = d3.svg.axis()\n",
       "        .scale(color_map_1c4a4da6690de07d1c9677696979e8e3.x)\n",
       "        .orient(&quot;top&quot;)\n",
       "        .tickSize(1)\n",
       "        .tickValues([-0.1, -0.07500000000000001, -0.05, -0.024999999999999994, 0.0, 0.024999999999999994, 0.05000000000000002, 0.07500000000000001, 0.1]);\n",
       "\n",
       "    color_map_1c4a4da6690de07d1c9677696979e8e3.svg = d3.select(&quot;.legend.leaflet-control&quot;).append(&quot;svg&quot;)\n",
       "        .attr(&quot;id&quot;, &#x27;legend&#x27;)\n",
       "        .attr(&quot;width&quot;, 450)\n",
       "        .attr(&quot;height&quot;, 40);\n",
       "\n",
       "    color_map_1c4a4da6690de07d1c9677696979e8e3.g = color_map_1c4a4da6690de07d1c9677696979e8e3.svg.append(&quot;g&quot;)\n",
       "        .attr(&quot;class&quot;, &quot;key&quot;)\n",
       "        .attr(&quot;fill&quot;, &quot;black&quot;)\n",
       "        .attr(&quot;transform&quot;, &quot;translate(25,16)&quot;);\n",
       "\n",
       "    color_map_1c4a4da6690de07d1c9677696979e8e3.g.selectAll(&quot;rect&quot;)\n",
       "        .data(color_map_1c4a4da6690de07d1c9677696979e8e3.color.range().map(function(d, i) {\n",
       "          return {\n",
       "            x0: i ? color_map_1c4a4da6690de07d1c9677696979e8e3.x(color_map_1c4a4da6690de07d1c9677696979e8e3.color.domain()[i - 1]) : color_map_1c4a4da6690de07d1c9677696979e8e3.x.range()[0],\n",
       "            x1: i &lt; color_map_1c4a4da6690de07d1c9677696979e8e3.color.domain().length ? color_map_1c4a4da6690de07d1c9677696979e8e3.x(color_map_1c4a4da6690de07d1c9677696979e8e3.color.domain()[i]) : color_map_1c4a4da6690de07d1c9677696979e8e3.x.range()[1],\n",
       "            z: d\n",
       "          };\n",
       "        }))\n",
       "      .enter().append(&quot;rect&quot;)\n",
       "        .attr(&quot;height&quot;, 40 - 30)\n",
       "        .attr(&quot;x&quot;, function(d) { return d.x0; })\n",
       "        .attr(&quot;width&quot;, function(d) { return d.x1 - d.x0; })\n",
       "        .style(&quot;fill&quot;, function(d) { return d.z; });\n",
       "\n",
       "    color_map_1c4a4da6690de07d1c9677696979e8e3.g.call(color_map_1c4a4da6690de07d1c9677696979e8e3.xAxis).append(&quot;text&quot;)\n",
       "        .attr(&quot;class&quot;, &quot;caption&quot;)\n",
       "        .attr(&quot;y&quot;, 21)\n",
       "        .attr(&quot;fill&quot;, &quot;black&quot;)\n",
       "        .text(&quot;NDVI Difference 2008 - 1999&quot;);\n",
       "&lt;/script&gt;\n",
       "&lt;/html&gt;\" style=\"position:absolute;width:100%;height:100%;left:0;top:0;border:none !important;\" allowfullscreen webkitallowfullscreen mozallowfullscreen></iframe></div></div>"
      ],
      "text/plain": [
       "<folium.folium.Map at 0x71ca52138a10>"
      ]
     },
     "execution_count": 16,
     "metadata": {},
     "output_type": "execute_result"
    }
   ],
   "source": [
    "ndvi_diff = ndvi2008.subtract(ndvi1999)\n",
    "map2 = folium.Map()\n",
    "map2.addLayer(ndvi_diff, {'min': -0.1, 'max': 0.1, 'palette': ['ffffcc', '800026'],}, 'ndvi_diff') # Palette code for YlOrRd_09: min=ffffcc, max= 800026\n",
    "\n",
    "# Colour map\n",
    "import branca.colormap as cm\n",
    "colormap = cm.linear.YlOrRd_09.scale(-0.1, 0.1)\n",
    "colormap.caption = 'NDVI Difference 2008 - 1999'\n",
    "map2.add_child(colormap)\n",
    "map2"
   ]
  },
  {
   "cell_type": "markdown",
   "metadata": {
    "colab_type": "text",
    "id": "io4h4GIb5gi1"
   },
   "source": [
    "Mathematical operators perform basic arithmetic operations on image bands. The normalized difference operation is so common in remote sensing, Earth Engine provides a shortcut method, as shown in the second part of the example. Subtracting the images in this example results in a \"change vector\" for each pixel. Bands are matched automatically to perform the difference:"
   ]
  },
  {
   "cell_type": "code",
   "execution_count": 17,
   "metadata": {
    "colab": {},
    "colab_type": "code",
    "id": "uvxfl35V5nN9"
   },
   "outputs": [
    {
     "name": "stdout",
     "output_type": "stream",
     "text": [
      "Difference\n",
      "{'bands': [{'crs': 'EPSG:4326',\n",
      "            'crs_transform': [0.00026949456294719256,\n",
      "                              0,\n",
      "                              -180,\n",
      "                              0,\n",
      "                              -0.00026949456294719256,\n",
      "                              86.0000269494563],\n",
      "            'data_type': {'max': 255,\n",
      "                          'min': -255,\n",
      "                          'precision': 'int',\n",
      "                          'type': 'PixelType'},\n",
      "            'id': 'B4'},\n",
      "           {'crs': 'EPSG:4326',\n",
      "            'crs_transform': [0.00026949456294719256,\n",
      "                              0,\n",
      "                              -180,\n",
      "                              0,\n",
      "                              -0.00026949456294719256,\n",
      "                              86.0000269494563],\n",
      "            'data_type': {'max': 255,\n",
      "                          'min': -255,\n",
      "                          'precision': 'int',\n",
      "                          'type': 'PixelType'},\n",
      "            'id': 'B3'},\n",
      "           {'crs': 'EPSG:4326',\n",
      "            'crs_transform': [0.00026949456294719256,\n",
      "                              0,\n",
      "                              -180,\n",
      "                              0,\n",
      "                              -0.00026949456294719256,\n",
      "                              86.0000269494563],\n",
      "            'data_type': {'max': 255,\n",
      "                          'min': -255,\n",
      "                          'precision': 'int',\n",
      "                          'type': 'PixelType'},\n",
      "            'id': 'B2'}],\n",
      " 'type': 'Image'}\n",
      "\n",
      "Squared Difference\n",
      "{'bands': [{'crs': 'EPSG:4326',\n",
      "            'crs_transform': [0.00026949456294719256,\n",
      "                              0,\n",
      "                              -180,\n",
      "                              0,\n",
      "                              -0.00026949456294719256,\n",
      "                              86.0000269494563],\n",
      "            'data_type': {'precision': 'float', 'type': 'PixelType'},\n",
      "            'id': 'B4'},\n",
      "           {'crs': 'EPSG:4326',\n",
      "            'crs_transform': [0.00026949456294719256,\n",
      "                              0,\n",
      "                              -180,\n",
      "                              0,\n",
      "                              -0.00026949456294719256,\n",
      "                              86.0000269494563],\n",
      "            'data_type': {'precision': 'float', 'type': 'PixelType'},\n",
      "            'id': 'B3'},\n",
      "           {'crs': 'EPSG:4326',\n",
      "            'crs_transform': [0.00026949456294719256,\n",
      "                              0,\n",
      "                              -180,\n",
      "                              0,\n",
      "                              -0.00026949456294719256,\n",
      "                              86.0000269494563],\n",
      "            'data_type': {'precision': 'float', 'type': 'PixelType'},\n",
      "            'id': 'B2'}],\n",
      " 'type': 'Image'}\n"
     ]
    }
   ],
   "source": [
    "# Load two 5-year Landsat 7 composites get only 3bands from them\n",
    "landsat1999 = ee.Image('LANDSAT/LE7_TOA_5YEAR/1999_2003').select(['B4', 'B3', 'B2'])\n",
    "landsat2008 = ee.Image('LANDSAT/LE7_TOA_5YEAR/2008_2012').select(['B4', 'B3', 'B2'])\n",
    "\n",
    "# Compute the multi-band difference image.\n",
    "diff = landsat2008.subtract(landsat1999)\n",
    "print('Difference')\n",
    "pp.pprint(diff.getInfo())\n",
    "\n",
    "\n",
    "# Compute the squared difference in each band.\n",
    "squaredDifference = diff.pow(2)\n",
    "print('\\n'+'Squared Difference')\n",
    "pp.pprint(squaredDifference.getInfo())"
   ]
  },
  {
   "cell_type": "markdown",
   "metadata": {
    "colab_type": "text",
    "id": "se_322KvBS3D"
   },
   "source": [
    "## Expressions"
   ]
  },
  {
   "cell_type": "markdown",
   "metadata": {
    "colab_type": "text",
    "id": "tTW42SgjBUxY"
   },
   "source": [
    "To implement more complex mathematical expressions, consider using image.`expression()`, which parses a text representation of a math operation. The following example uses `expression()` to compute the Enhanced Vegetation Index (EVI):"
   ]
  },
  {
   "cell_type": "code",
   "execution_count": 19,
   "metadata": {
    "colab": {},
    "colab_type": "code",
    "id": "MfAgoyzsBabT"
   },
   "outputs": [
    {
     "data": {
      "text/html": [
       "<img src=\"https://earthengine.googleapis.com/v1/projects/522364178051/thumbnails/107bd9f6d64477db60f3c9bdfa9990b4-059c7375fa71e86cfb90ad09b627aeac:getPixels\"/>"
      ],
      "text/plain": [
       "<IPython.core.display.Image object>"
      ]
     },
     "execution_count": 19,
     "metadata": {},
     "output_type": "execute_result"
    }
   ],
   "source": [
    "# Load a Landsat 8 image.\n",
    "image5 = ee.Image('LANDSAT/LC08/C02/T1_TOA/LC08_044034_20200505');\n",
    "\n",
    "# Compute the EVI using an expression.\n",
    "evi = image5.expression(\n",
    "    '2.5 * ((NIR - RED) / (NIR + 6 * RED - 7.5 * BLUE + 1))', {\n",
    "      'NIR': image5.select('B5'),\n",
    "      'RED': image5.select('B4'),\n",
    "      'BLUE': image5.select('B2')\n",
    "})\n",
    "\n",
    "Image(url=evi.getThumbUrl({'min': -1, 'max': 1, 'palette':  ['FF0000', '00FF00'],'dimensions': 512}))"
   ]
  },
  {
   "cell_type": "markdown",
   "metadata": {
    "colab_type": "text",
    "id": "FVRnc-R3bafN"
   },
   "source": [
    "## Relational, conditional and Boolean operations"
   ]
  },
  {
   "cell_type": "markdown",
   "metadata": {
    "colab_type": "text",
    "id": "oEd9aDn9IP3x"
   },
   "source": [
    "To perform per-pixel comparisons between images, use relational operators. To extract urbanized areas in an image, this example uses relational operators to threshold spectral indices, combining the thresholds with and():"
   ]
  },
  {
   "cell_type": "code",
   "execution_count": 20,
   "metadata": {
    "colab": {},
    "colab_type": "code",
    "id": "RXxGRebuIPGm"
   },
   "outputs": [
    {
     "name": "stdout",
     "output_type": "stream",
     "text": [
      "Bare\n",
      "{'bands': [{'crs': 'EPSG:32610',\n",
      "            'crs_transform': [30, 0, 460785, 0, -30, 4264215],\n",
      "            'data_type': {'max': 1,\n",
      "                          'min': 0,\n",
      "                          'precision': 'int',\n",
      "                          'type': 'PixelType'},\n",
      "            'dimensions': [7661, 7801],\n",
      "            'id': 'nd'}],\n",
      " 'properties': {'system:footprint': {'coordinates': [[...],\n",
      "                                                     [...],\n",
      "                                                     [...],\n",
      "                                                     [...],\n",
      "                                                     [...],\n",
      "                                                     [...],\n",
      "                                                     [...],\n",
      "                                                     [...],\n",
      "                                                     [...],\n",
      "                                                     [...],\n",
      "                                                     [...],\n",
      "                                                     [...],\n",
      "                                                     [...],\n",
      "                                                     [...],\n",
      "                                                     [...],\n",
      "                                                     [...],\n",
      "                                                     [...],\n",
      "                                                     [...],\n",
      "                                                     [...],\n",
      "                                                     [...],\n",
      "                                                     [...],\n",
      "                                                     [...]],\n",
      "                                     'type': 'LinearRing'}},\n",
      " 'type': 'Image'}\n"
     ]
    }
   ],
   "source": [
    "# Create NDVI and NDWI spectral indices.\n",
    "ndvi = image.normalizedDifference(['B5', 'B4'])\n",
    "ndwi = image.normalizedDifference(['B3', 'B5'])\n",
    "\n",
    "# Create a binary layer using logical operations.\n",
    "bare = ndvi.lt(0.2) and (ndwi.lt(0))\n",
    "\n",
    "print('Bare')\n",
    "pp.pprint(bare.getInfo())"
   ]
  },
  {
   "cell_type": "code",
   "execution_count": 21,
   "metadata": {
    "colab": {},
    "colab_type": "code",
    "id": "7pNnbgXtIim6"
   },
   "outputs": [
    {
     "data": {
      "text/html": [
       "<img src=\"https://earthengine.googleapis.com/v1/projects/522364178051/thumbnails/bc3ee4ff06086e057f6fc1936f66a24f-18d4330bf680027606ffaa2eca9d2ea4:getPixels\"/>"
      ],
      "text/plain": [
       "<IPython.core.display.Image object>"
      ]
     },
     "execution_count": 21,
     "metadata": {},
     "output_type": "execute_result"
    }
   ],
   "source": [
    "Image(url=bare.getThumbUrl({'min': 0, 'max': 1, 'palette':  ['C0C0C0', '000000'],'dimensions': 512})) # Min is silver, max is black"
   ]
  },
  {
   "cell_type": "code",
   "execution_count": 22,
   "metadata": {
    "colab": {},
    "colab_type": "code",
    "id": "7hr_CjUZI5rb"
   },
   "outputs": [
    {
     "data": {
      "text/html": [
       "<div style=\"width:100%;\"><div style=\"position:relative;width:100%;height:0;padding-bottom:60%;\"><span style=\"color:#565656\">Make this Notebook Trusted to load map: File -> Trust Notebook</span><iframe srcdoc=\"&lt;!DOCTYPE html&gt;\n",
       "&lt;html&gt;\n",
       "&lt;head&gt;\n",
       "    \n",
       "    &lt;meta http-equiv=&quot;content-type&quot; content=&quot;text/html; charset=UTF-8&quot; /&gt;\n",
       "    \n",
       "        &lt;script&gt;\n",
       "            L_NO_TOUCH = false;\n",
       "            L_DISABLE_3D = false;\n",
       "        &lt;/script&gt;\n",
       "    \n",
       "    &lt;style&gt;html, body {width: 100%;height: 100%;margin: 0;padding: 0;}&lt;/style&gt;\n",
       "    &lt;style&gt;#map {position:absolute;top:0;bottom:0;right:0;left:0;}&lt;/style&gt;\n",
       "    &lt;script src=&quot;https://cdn.jsdelivr.net/npm/leaflet@1.9.3/dist/leaflet.js&quot;&gt;&lt;/script&gt;\n",
       "    &lt;script src=&quot;https://code.jquery.com/jquery-3.7.1.min.js&quot;&gt;&lt;/script&gt;\n",
       "    &lt;script src=&quot;https://cdn.jsdelivr.net/npm/bootstrap@5.2.2/dist/js/bootstrap.bundle.min.js&quot;&gt;&lt;/script&gt;\n",
       "    &lt;script src=&quot;https://cdnjs.cloudflare.com/ajax/libs/Leaflet.awesome-markers/2.0.2/leaflet.awesome-markers.js&quot;&gt;&lt;/script&gt;\n",
       "    &lt;link rel=&quot;stylesheet&quot; href=&quot;https://cdn.jsdelivr.net/npm/leaflet@1.9.3/dist/leaflet.css&quot;/&gt;\n",
       "    &lt;link rel=&quot;stylesheet&quot; href=&quot;https://cdn.jsdelivr.net/npm/bootstrap@5.2.2/dist/css/bootstrap.min.css&quot;/&gt;\n",
       "    &lt;link rel=&quot;stylesheet&quot; href=&quot;https://netdna.bootstrapcdn.com/bootstrap/3.0.0/css/bootstrap-glyphicons.css&quot;/&gt;\n",
       "    &lt;link rel=&quot;stylesheet&quot; href=&quot;https://cdn.jsdelivr.net/npm/@fortawesome/fontawesome-free@6.2.0/css/all.min.css&quot;/&gt;\n",
       "    &lt;link rel=&quot;stylesheet&quot; href=&quot;https://cdnjs.cloudflare.com/ajax/libs/Leaflet.awesome-markers/2.0.2/leaflet.awesome-markers.css&quot;/&gt;\n",
       "    &lt;link rel=&quot;stylesheet&quot; href=&quot;https://cdn.jsdelivr.net/gh/python-visualization/folium/folium/templates/leaflet.awesome.rotate.min.css&quot;/&gt;\n",
       "    \n",
       "            &lt;meta name=&quot;viewport&quot; content=&quot;width=device-width,\n",
       "                initial-scale=1.0, maximum-scale=1.0, user-scalable=no&quot; /&gt;\n",
       "            &lt;style&gt;\n",
       "                #map_1b5ec1c9fbf597e694bce2f18a1483e3 {\n",
       "                    position: relative;\n",
       "                    width: 100.0%;\n",
       "                    height: 100.0%;\n",
       "                    left: 0.0%;\n",
       "                    top: 0.0%;\n",
       "                }\n",
       "                .leaflet-container { font-size: 1rem; }\n",
       "            &lt;/style&gt;\n",
       "        \n",
       "&lt;/head&gt;\n",
       "&lt;body&gt;\n",
       "    \n",
       "    \n",
       "            &lt;div class=&quot;folium-map&quot; id=&quot;map_1b5ec1c9fbf597e694bce2f18a1483e3&quot; &gt;&lt;/div&gt;\n",
       "        \n",
       "&lt;/body&gt;\n",
       "&lt;script&gt;\n",
       "    \n",
       "    \n",
       "            var map_1b5ec1c9fbf597e694bce2f18a1483e3 = L.map(\n",
       "                &quot;map_1b5ec1c9fbf597e694bce2f18a1483e3&quot;,\n",
       "                {\n",
       "                    center: [37.501, -122.1899],\n",
       "                    crs: L.CRS.EPSG3857,\n",
       "                    ...{\n",
       "  &quot;zoom&quot;: 8,\n",
       "  &quot;zoomControl&quot;: true,\n",
       "  &quot;preferCanvas&quot;: false,\n",
       "}\n",
       "\n",
       "                }\n",
       "            );\n",
       "\n",
       "            \n",
       "\n",
       "        \n",
       "    \n",
       "            var tile_layer_50b2ae48b5e59ae34a7a4827cc318079 = L.tileLayer(\n",
       "                &quot;https://tile.openstreetmap.org/{z}/{x}/{y}.png&quot;,\n",
       "                {\n",
       "  &quot;minZoom&quot;: 0,\n",
       "  &quot;maxZoom&quot;: 19,\n",
       "  &quot;maxNativeZoom&quot;: 19,\n",
       "  &quot;noWrap&quot;: false,\n",
       "  &quot;attribution&quot;: &quot;\\u0026copy; \\u003ca href=\\&quot;https://www.openstreetmap.org/copyright\\&quot;\\u003eOpenStreetMap\\u003c/a\\u003e contributors&quot;,\n",
       "  &quot;subdomains&quot;: &quot;abc&quot;,\n",
       "  &quot;detectRetina&quot;: false,\n",
       "  &quot;tms&quot;: false,\n",
       "  &quot;opacity&quot;: 1,\n",
       "}\n",
       "\n",
       "            );\n",
       "        \n",
       "    \n",
       "            tile_layer_50b2ae48b5e59ae34a7a4827cc318079.addTo(map_1b5ec1c9fbf597e694bce2f18a1483e3);\n",
       "        \n",
       "    \n",
       "            var tile_layer_5f1384c64e13b7576de4ceb711beefe7 = L.tileLayer(\n",
       "                &quot;https://earthengine.googleapis.com/v1/projects/522364178051/maps/014d3c408052d3ceab9570fd8453642b-29797225943a70bc1aaea4df4263e4f8/tiles/{z}/{x}/{y}&quot;,\n",
       "                {\n",
       "  &quot;minZoom&quot;: 0,\n",
       "  &quot;maxZoom&quot;: 18,\n",
       "  &quot;maxNativeZoom&quot;: 18,\n",
       "  &quot;noWrap&quot;: false,\n",
       "  &quot;attribution&quot;: &quot;Google Earth Engine&quot;,\n",
       "  &quot;subdomains&quot;: &quot;abc&quot;,\n",
       "  &quot;detectRetina&quot;: false,\n",
       "  &quot;tms&quot;: false,\n",
       "  &quot;opacity&quot;: 1,\n",
       "}\n",
       "\n",
       "            );\n",
       "        \n",
       "    \n",
       "            tile_layer_5f1384c64e13b7576de4ceb711beefe7.addTo(map_1b5ec1c9fbf597e694bce2f18a1483e3);\n",
       "        \n",
       "&lt;/script&gt;\n",
       "&lt;/html&gt;\" style=\"position:absolute;width:100%;height:100%;left:0;top:0;border:none !important;\" allowfullscreen webkitallowfullscreen mozallowfullscreen></iframe></div></div>"
      ],
      "text/plain": [
       "<folium.folium.Map at 0x71c9bed3ad80>"
      ]
     },
     "execution_count": 22,
     "metadata": {},
     "output_type": "execute_result"
    }
   ],
   "source": [
    "# Mask the image with itslef to obtain only the land (pixels with value==1 (or TRUE))\n",
    "map3 = folium.Map(location=[37.5010,-122.1899],zoom_start=8)\n",
    "newbare = bare.updateMask(bare)\n",
    "map3.addLayer(newbare, {'min': 0, 'max': 0.1, 'palette': ['FF0000', '00FF00']}, 'Water vs land') \n",
    "map3"
   ]
  },
  {
   "cell_type": "code",
   "execution_count": 23,
   "metadata": {
    "colab": {},
    "colab_type": "code",
    "id": "VwSlpouOKaWe"
   },
   "outputs": [
    {
     "data": {
      "text/html": [
       "<div style=\"width:100%;\"><div style=\"position:relative;width:100%;height:0;padding-bottom:60%;\"><span style=\"color:#565656\">Make this Notebook Trusted to load map: File -> Trust Notebook</span><iframe srcdoc=\"&lt;!DOCTYPE html&gt;\n",
       "&lt;html&gt;\n",
       "&lt;head&gt;\n",
       "    \n",
       "    &lt;meta http-equiv=&quot;content-type&quot; content=&quot;text/html; charset=UTF-8&quot; /&gt;\n",
       "    \n",
       "        &lt;script&gt;\n",
       "            L_NO_TOUCH = false;\n",
       "            L_DISABLE_3D = false;\n",
       "        &lt;/script&gt;\n",
       "    \n",
       "    &lt;style&gt;html, body {width: 100%;height: 100%;margin: 0;padding: 0;}&lt;/style&gt;\n",
       "    &lt;style&gt;#map {position:absolute;top:0;bottom:0;right:0;left:0;}&lt;/style&gt;\n",
       "    &lt;script src=&quot;https://cdn.jsdelivr.net/npm/leaflet@1.9.3/dist/leaflet.js&quot;&gt;&lt;/script&gt;\n",
       "    &lt;script src=&quot;https://code.jquery.com/jquery-3.7.1.min.js&quot;&gt;&lt;/script&gt;\n",
       "    &lt;script src=&quot;https://cdn.jsdelivr.net/npm/bootstrap@5.2.2/dist/js/bootstrap.bundle.min.js&quot;&gt;&lt;/script&gt;\n",
       "    &lt;script src=&quot;https://cdnjs.cloudflare.com/ajax/libs/Leaflet.awesome-markers/2.0.2/leaflet.awesome-markers.js&quot;&gt;&lt;/script&gt;\n",
       "    &lt;link rel=&quot;stylesheet&quot; href=&quot;https://cdn.jsdelivr.net/npm/leaflet@1.9.3/dist/leaflet.css&quot;/&gt;\n",
       "    &lt;link rel=&quot;stylesheet&quot; href=&quot;https://cdn.jsdelivr.net/npm/bootstrap@5.2.2/dist/css/bootstrap.min.css&quot;/&gt;\n",
       "    &lt;link rel=&quot;stylesheet&quot; href=&quot;https://netdna.bootstrapcdn.com/bootstrap/3.0.0/css/bootstrap-glyphicons.css&quot;/&gt;\n",
       "    &lt;link rel=&quot;stylesheet&quot; href=&quot;https://cdn.jsdelivr.net/npm/@fortawesome/fontawesome-free@6.2.0/css/all.min.css&quot;/&gt;\n",
       "    &lt;link rel=&quot;stylesheet&quot; href=&quot;https://cdnjs.cloudflare.com/ajax/libs/Leaflet.awesome-markers/2.0.2/leaflet.awesome-markers.css&quot;/&gt;\n",
       "    &lt;link rel=&quot;stylesheet&quot; href=&quot;https://cdn.jsdelivr.net/gh/python-visualization/folium/folium/templates/leaflet.awesome.rotate.min.css&quot;/&gt;\n",
       "    \n",
       "            &lt;meta name=&quot;viewport&quot; content=&quot;width=device-width,\n",
       "                initial-scale=1.0, maximum-scale=1.0, user-scalable=no&quot; /&gt;\n",
       "            &lt;style&gt;\n",
       "                #map_974b58e2c2fe54a14be4f7107386ea51 {\n",
       "                    position: relative;\n",
       "                    width: 100.0%;\n",
       "                    height: 100.0%;\n",
       "                    left: 0.0%;\n",
       "                    top: 0.0%;\n",
       "                }\n",
       "                .leaflet-container { font-size: 1rem; }\n",
       "            &lt;/style&gt;\n",
       "        \n",
       "&lt;/head&gt;\n",
       "&lt;body&gt;\n",
       "    \n",
       "    \n",
       "            &lt;div class=&quot;folium-map&quot; id=&quot;map_974b58e2c2fe54a14be4f7107386ea51&quot; &gt;&lt;/div&gt;\n",
       "        \n",
       "&lt;/body&gt;\n",
       "&lt;script&gt;\n",
       "    \n",
       "    \n",
       "            var map_974b58e2c2fe54a14be4f7107386ea51 = L.map(\n",
       "                &quot;map_974b58e2c2fe54a14be4f7107386ea51&quot;,\n",
       "                {\n",
       "                    center: [37.501, -122.1899],\n",
       "                    crs: L.CRS.EPSG3857,\n",
       "                    ...{\n",
       "  &quot;zoom&quot;: 8,\n",
       "  &quot;zoomControl&quot;: true,\n",
       "  &quot;preferCanvas&quot;: false,\n",
       "}\n",
       "\n",
       "                }\n",
       "            );\n",
       "\n",
       "            \n",
       "\n",
       "        \n",
       "    \n",
       "            var tile_layer_e6a2582f4d013d383897896afadd2c04 = L.tileLayer(\n",
       "                &quot;https://tile.openstreetmap.org/{z}/{x}/{y}.png&quot;,\n",
       "                {\n",
       "  &quot;minZoom&quot;: 0,\n",
       "  &quot;maxZoom&quot;: 19,\n",
       "  &quot;maxNativeZoom&quot;: 19,\n",
       "  &quot;noWrap&quot;: false,\n",
       "  &quot;attribution&quot;: &quot;\\u0026copy; \\u003ca href=\\&quot;https://www.openstreetmap.org/copyright\\&quot;\\u003eOpenStreetMap\\u003c/a\\u003e contributors&quot;,\n",
       "  &quot;subdomains&quot;: &quot;abc&quot;,\n",
       "  &quot;detectRetina&quot;: false,\n",
       "  &quot;tms&quot;: false,\n",
       "  &quot;opacity&quot;: 1,\n",
       "}\n",
       "\n",
       "            );\n",
       "        \n",
       "    \n",
       "            tile_layer_e6a2582f4d013d383897896afadd2c04.addTo(map_974b58e2c2fe54a14be4f7107386ea51);\n",
       "        \n",
       "    \n",
       "            var tile_layer_9fd2a3e35fa0394364bbde8e3221d0a4 = L.tileLayer(\n",
       "                &quot;https://earthengine.googleapis.com/v1/projects/522364178051/maps/1acc049c2e18d63e26e2e182a5df6e21-ec9c7014c20988c19b55fec6bf76dcd3/tiles/{z}/{x}/{y}&quot;,\n",
       "                {\n",
       "  &quot;minZoom&quot;: 0,\n",
       "  &quot;maxZoom&quot;: 18,\n",
       "  &quot;maxNativeZoom&quot;: 18,\n",
       "  &quot;noWrap&quot;: false,\n",
       "  &quot;attribution&quot;: &quot;Google Earth Engine&quot;,\n",
       "  &quot;subdomains&quot;: &quot;abc&quot;,\n",
       "  &quot;detectRetina&quot;: false,\n",
       "  &quot;tms&quot;: false,\n",
       "  &quot;opacity&quot;: 1,\n",
       "}\n",
       "\n",
       "            );\n",
       "        \n",
       "    \n",
       "            tile_layer_9fd2a3e35fa0394364bbde8e3221d0a4.addTo(map_974b58e2c2fe54a14be4f7107386ea51);\n",
       "        \n",
       "&lt;/script&gt;\n",
       "&lt;/html&gt;\" style=\"position:absolute;width:100%;height:100%;left:0;top:0;border:none !important;\" allowfullscreen webkitallowfullscreen mozallowfullscreen></iframe></div></div>"
      ],
      "text/plain": [
       "<folium.folium.Map at 0x71c9bed147a0>"
      ]
     },
     "execution_count": 23,
     "metadata": {},
     "output_type": "execute_result"
    }
   ],
   "source": [
    "# Mask the image with pixels with value==0 \n",
    "map4 = folium.Map(location=[37.5010,-122.1899],zoom_start=8)\n",
    "opp_bare = bare.updateMask(bare.eq(0))\n",
    "map4.addLayer(opp_bare, {'min': 0, 'max': 0.1, 'palette': ['FF0000', '00FF00']}, 'Water vs land') \n",
    "map4"
   ]
  },
  {
   "cell_type": "code",
   "execution_count": null,
   "metadata": {},
   "outputs": [],
   "source": []
  },
  {
   "cell_type": "code",
   "execution_count": null,
   "metadata": {},
   "outputs": [],
   "source": []
  }
 ],
 "metadata": {
  "colab": {
   "collapsed_sections": [],
   "name": "1 - Open_and_display.ipynb",
   "provenance": []
  },
  "kernelspec": {
   "display_name": "Python 3 (ipykernel)",
   "language": "python",
   "name": "python3"
  },
  "language_info": {
   "codemirror_mode": {
    "name": "ipython",
    "version": 3
   },
   "file_extension": ".py",
   "mimetype": "text/x-python",
   "name": "python",
   "nbconvert_exporter": "python",
   "pygments_lexer": "ipython3",
   "version": "3.12.9"
  }
 },
 "nbformat": 4,
 "nbformat_minor": 1
}
